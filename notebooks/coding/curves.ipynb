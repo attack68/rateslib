{
 "cells": [
  {
   "cell_type": "markdown",
   "id": "f8825706-c252-40d7-8075-b438f5756093",
   "metadata": {},
   "source": [
    "# Curves\n",
    "\n",
    "### CompositeCurve example\n",
    "\n",
    "The first section here regards efficient operations and compositing two curves."
   ]
  },
  {
   "cell_type": "code",
   "execution_count": 1,
   "id": "c88c3ce0-72f1-4182-a6c0-36209ccc9954",
   "metadata": {},
   "outputs": [],
   "source": [
    "from rateslib import dt\n",
    "from rateslib.curves import Curve, LineCurve, CompositeCurve"
   ]
  },
  {
   "cell_type": "code",
   "execution_count": 2,
   "id": "9cbc5699-fa68-46cd-8e75-3752d078977c",
   "metadata": {},
   "outputs": [
    {
     "data": {
      "text/plain": [
       "3.75"
      ]
     },
     "execution_count": 2,
     "metadata": {},
     "output_type": "execute_result"
    }
   ],
   "source": [
    "line_curve1 = LineCurve({dt(2022, 1, 1): 2.0, dt(2022, 1, 3): 4.0}, id=\"C1_\")\n",
    "line_curve2 = LineCurve({dt(2022, 1, 1): 0.5, dt(2022, 1, 3): 1.0}, id=\"C2_\")\n",
    "composite_curve = CompositeCurve(curves=(line_curve1, line_curve2))\n",
    "composite_curve.rate(dt(2022, 1, 2))"
   ]
  },
  {
   "cell_type": "code",
   "execution_count": 3,
   "id": "fd5f49ac-ed99-4422-844a-13c657b823f1",
   "metadata": {},
   "outputs": [
    {
     "data": {
      "text/plain": [
       "<Dual: 3.750000, ('C1_0', 'C1_1', 'C2_0', 'C2_1'), [0.5 0.5 0.5 0.5]>"
      ]
     },
     "execution_count": 3,
     "metadata": {},
     "output_type": "execute_result"
    }
   ],
   "source": [
    "line_curve1._set_ad_order(1)\n",
    "line_curve2._set_ad_order(1)\n",
    "composite_curve.rate(dt(2022, 1, 2))"
   ]
  },
  {
   "cell_type": "markdown",
   "id": "8cb305f5-19a5-46b6-a9f2-82a2bd1f6592",
   "metadata": {},
   "source": [
    "The code above demonstrates the summing of individual rates and of interoperability with Dual datatypes."
   ]
  },
  {
   "cell_type": "markdown",
   "id": "b658689c-65f2-4aae-992a-7fbf61f5d2c4",
   "metadata": {},
   "source": [
    "### Error in approximated rates and execution time"
   ]
  },
  {
   "cell_type": "code",
   "execution_count": 4,
   "id": "973e0754-edfc-42ce-9d0c-d2272c69465f",
   "metadata": {},
   "outputs": [
    {
     "data": {
      "text/plain": [
       "(array([ 3455,  3451, 22875, 21294, 48033,   892]),\n",
       " array([0.e+00, 5.e-07, 1.e-06, 5.e-06, 1.e-05, 5.e-05, 1.e+00]))"
      ]
     },
     "execution_count": 4,
     "metadata": {},
     "output_type": "execute_result"
    }
   ],
   "source": [
    "import numpy as np\n",
    "MIN, MAX, SAMPLES, DAYS, d = 0, 4, 100000, 3, 1.0/365\n",
    "c1 = np.random.rand(DAYS, SAMPLES) * (MAX - MIN) + MIN\n",
    "c2 = np.random.rand(DAYS, SAMPLES) * (MAX - MIN) + MIN\n",
    "r_true=((1 + d * (c1 + c2) / 100).prod(axis=0) - 1) * 100 / (d * DAYS)\n",
    "c1_bar = ((1 + d * c1 / 100).prod(axis=0)**(1/DAYS) - 1) * 100 / d\n",
    "c2_bar = ((1 + d * c2 / 100).prod(axis=0)**(1/DAYS) - 1) * 100 / d\n",
    "r_bar = ((1 + d * (c1_bar + c2_bar) / 100) ** DAYS - 1) * 100 / (d * DAYS)\n",
    "np.histogram(np.abs(r_true-r_bar), bins=[0, 5e-7, 1e-6, 5e-6, 1e-5, 5e-5, 1]) "
   ]
  },
  {
   "cell_type": "code",
   "execution_count": 5,
   "id": "c56f3b7d-07ce-4007-bf57-bda4bc2259cb",
   "metadata": {},
   "outputs": [
    {
     "name": "stdout",
     "output_type": "stream",
     "text": [
      "50.3 µs ± 1.22 µs per loop (mean ± std. dev. of 7 runs, 10,000 loops each)\n"
     ]
    }
   ],
   "source": [
    "composite_curve = CompositeCurve(\n",
    "    (\n",
    "        Curve({dt(2022, 1, 1): 1.0, dt(2024, 1, 1): 0.95}, id=\"C1_\"),\n",
    "        Curve({dt(2022, 1, 1): 1.0, dt(2024, 1, 1): 0.99}, id=\"C2_\"),\n",
    "    )\n",
    ")\n",
    "%timeit composite_curve.rate(dt(2022, 6, 1), \"1y\", approximate=True)  "
   ]
  },
  {
   "cell_type": "code",
   "execution_count": 6,
   "id": "7e74017e-41f0-424a-bd17-aed0d168a8df",
   "metadata": {},
   "outputs": [
    {
     "name": "stdout",
     "output_type": "stream",
     "text": [
      "21.9 ms ± 890 µs per loop (mean ± std. dev. of 7 runs, 10 loops each)\n"
     ]
    }
   ],
   "source": [
    "%timeit composite_curve.rate(dt(2022, 6, 1), \"1y\", approximate=False)"
   ]
  },
  {
   "cell_type": "markdown",
   "id": "5f2769bb-0f25-4d5e-996f-5684e1f18a26",
   "metadata": {},
   "source": [
    "### Curve operations: shift"
   ]
  },
  {
   "cell_type": "code",
   "execution_count": 7,
   "id": "64caaec4-072a-4dd5-a9ef-ac4b95852a7f",
   "metadata": {},
   "outputs": [
    {
     "name": "stdout",
     "output_type": "stream",
     "text": [
      "1.9926509362075961\n",
      "2.4926509362108717\n"
     ]
    }
   ],
   "source": [
    "curve = Curve({dt(2022, 1, 1): 1.0, dt(2023, 1, 1): 0.98})\n",
    "print(curve.rate(dt(2022, 2, 1), \"1d\"))\n",
    "print(curve.shift(50).rate(dt(2022, 2, 1), \"1d\"))"
   ]
  },
  {
   "cell_type": "code",
   "execution_count": 8,
   "id": "5a386ff1-1577-42b1-8d13-7d53dc509aa5",
   "metadata": {},
   "outputs": [
    {
     "name": "stdout",
     "output_type": "stream",
     "text": [
      "2.050958904109589\n",
      "2.550958904109589\n"
     ]
    }
   ],
   "source": [
    "line_curve = LineCurve({dt(2022, 1, 1): 2.0, dt(2023, 1, 1): 2.6})\n",
    "print(line_curve.rate(dt(2022, 2, 1), \"1d\"))\n",
    "print(line_curve.shift(50).rate(dt(2022, 2, 1), \"1d\"))"
   ]
  },
  {
   "cell_type": "markdown",
   "id": "44ebfa6c-72ee-473e-9299-e1727a8884b7",
   "metadata": {},
   "source": [
    "### Curve operations: translate"
   ]
  },
  {
   "cell_type": "code",
   "execution_count": 9,
   "id": "bdf0aca9-39e0-406b-9d64-9bfcfc9ffed6",
   "metadata": {},
   "outputs": [
    {
     "name": "stdout",
     "output_type": "stream",
     "text": [
      "3.8711064912719806 3.8711064912719806\n",
      "3.8709012910311813 3.8709012910311813\n",
      "3.8706902731000525 3.870690273092059\n",
      "0.0 0.0\n",
      "0.0 0.0\n",
      "3.8971038951416404 3.9052558203165333\n"
     ]
    }
   ],
   "source": [
    "for interpolation in [\n",
    "    \"linear\", \"log_linear\", \"linear_index\", \"flat_forward\", \"flat_backward\", \"linear_zero_rate\"\n",
    "]:\n",
    "    curve = Curve(\n",
    "        nodes={dt(2022, 1, 1): 1.0, dt(2022, 2, 1):0.998, dt(2022, 3, 1): 0.995}, \n",
    "        interpolation=interpolation\n",
    "    )\n",
    "    curve_translated = curve.translate(dt(2022, 1, 15)) \n",
    "    print(\n",
    "        curve.rate(dt(2022, 2, 15), \"1d\"),\n",
    "        curve_translated.rate(dt(2022, 2, 15), \"1d\") \n",
    "    )"
   ]
  },
  {
   "cell_type": "markdown",
   "id": "327672ae-28af-4e15-bfe1-0b5a52cedcc8",
   "metadata": {},
   "source": [
    "### Curve operations: roll"
   ]
  },
  {
   "cell_type": "code",
   "execution_count": 10,
   "id": "6e4e86f8-ff29-48bb-a7f7-9985aa2f0748",
   "metadata": {},
   "outputs": [
    {
     "name": "stdout",
     "output_type": "stream",
     "text": [
      "2.1111503451809455\n",
      "2.1111503451809455\n"
     ]
    }
   ],
   "source": [
    "curve = Curve(\n",
    "    nodes={dt(2022, 1, 1): 1.0, dt(2023, 1, 1): 0.98, dt(2024, 1, 1): 0.97},\n",
    "    t=[dt(2022, 1, 1), dt(2022, 1, 1), dt(2022, 1, 1), dt(2022, 1, 1),\n",
    "       dt(2023, 1, 1),\n",
    "       dt(2024, 1, 1), dt(2024, 1, 1), dt(2024, 1, 1), dt(2024, 1, 1)]\n",
    ")\n",
    "print(curve.rate(dt(2022, 6, 1), \"1d\"))\n",
    "print(curve.roll(\"30d\").rate(dt(2022, 7, 1), \"1d\"))"
   ]
  },
  {
   "cell_type": "code",
   "execution_count": 11,
   "id": "d4e5fc59-aa88-48ec-a7f6-e5d13b10b1f3",
   "metadata": {},
   "outputs": [
    {
     "name": "stdout",
     "output_type": "stream",
     "text": [
      "2.3082258965546494\n",
      "2.3082258965546494\n"
     ]
    }
   ],
   "source": [
    "line_curve = LineCurve(\n",
    "    nodes={dt(2022, 1, 1): 2.0, dt(2023, 1, 1): 2.6, dt(2024, 1, 1): 2.5},\n",
    "    t=[dt(2022, 1, 1), dt(2022, 1, 1), dt(2022, 1, 1), dt(2022, 1, 1),\n",
    "       dt(2023, 1, 1),\n",
    "       dt(2024, 1, 1), dt(2024, 1, 1), dt(2024, 1, 1), dt(2024, 1, 1)]\n",
    ")\n",
    "print(line_curve.rate(dt(2022, 6, 1)))\n",
    "print(line_curve.roll(\"-31d\").rate(dt(2022, 5, 1), \"1d\"))"
   ]
  },
  {
   "cell_type": "markdown",
   "id": "ee9951a7-1eea-4255-9e5c-2a4818983598",
   "metadata": {},
   "source": [
    "### Operations on CompositeCurves"
   ]
  },
  {
   "cell_type": "code",
   "execution_count": 14,
   "id": "8fff533b-4ee2-4405-b6e3-bdf4fe53aadf",
   "metadata": {},
   "outputs": [
    {
     "data": {
      "text/plain": [
       "3.0252576094156325"
      ]
     },
     "execution_count": 14,
     "metadata": {},
     "output_type": "execute_result"
    }
   ],
   "source": [
    "composite_curve.rate(dt(2022, 6, 1), \"1d\")"
   ]
  },
  {
   "cell_type": "code",
   "execution_count": 15,
   "id": "53409cb5-9512-43f1-8e9c-cb1886ed1f6e",
   "metadata": {},
   "outputs": [
    {
     "data": {
      "text/plain": [
       "3.525257609418908"
      ]
     },
     "execution_count": 15,
     "metadata": {},
     "output_type": "execute_result"
    }
   ],
   "source": [
    "composite_curve.shift(50).rate(dt(2022, 6, 1), \"1d\")"
   ]
  },
  {
   "cell_type": "code",
   "execution_count": 16,
   "id": "89680e78-5318-4b56-af1d-8be7dae90ca4",
   "metadata": {},
   "outputs": [
    {
     "data": {
      "text/plain": [
       "3.025257609407639"
      ]
     },
     "execution_count": 16,
     "metadata": {},
     "output_type": "execute_result"
    }
   ],
   "source": [
    "composite_curve.roll(\"30d\").rate(dt(2022, 7, 1), \"1d\")"
   ]
  },
  {
   "cell_type": "code",
   "execution_count": 17,
   "id": "b23d6958-903a-4442-98a7-d5585fe4d56c",
   "metadata": {},
   "outputs": [
    {
     "data": {
      "text/plain": [
       "3.0252576094156325"
      ]
     },
     "execution_count": 17,
     "metadata": {},
     "output_type": "execute_result"
    }
   ],
   "source": [
    "composite_curve.translate(dt(2022, 5, 1)).rate(dt(2022, 6, 1), \"1d\")"
   ]
  }
 ],
 "metadata": {
  "kernelspec": {
   "display_name": "Python 3 (ipykernel)",
   "language": "python",
   "name": "python3"
  },
  "language_info": {
   "codemirror_mode": {
    "name": "ipython",
    "version": 3
   },
   "file_extension": ".py",
   "mimetype": "text/x-python",
   "name": "python",
   "nbconvert_exporter": "python",
   "pygments_lexer": "ipython3",
   "version": "3.11.1"
  }
 },
 "nbformat": 4,
 "nbformat_minor": 5
}
