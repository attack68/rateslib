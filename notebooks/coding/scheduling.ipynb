{
 "cells": [
  {
   "cell_type": "code",
   "execution_count": 1,
   "id": "88003b38-8369-4263-b409-fe548b1250cb",
   "metadata": {},
   "outputs": [],
   "source": [
    "from rateslib import dt\n",
    "from rateslib.scheduling import _get_unadjusted_roll"
   ]
  },
  {
   "cell_type": "code",
   "execution_count": 3,
   "id": "ac36569f-fa13-49ae-829d-458104892eed",
   "metadata": {},
   "outputs": [
    {
     "data": {
      "text/plain": [
       "15"
      ]
     },
     "execution_count": 3,
     "metadata": {},
     "output_type": "execute_result"
    }
   ],
   "source": [
    "_get_unadjusted_roll(ueffective=dt(2022, 3, 15), utermination=dt(2023, 3, 15), eom=False)"
   ]
  },
  {
   "cell_type": "code",
   "execution_count": 4,
   "id": "e5181913-6ea2-4ccc-893f-fdf8621e4534",
   "metadata": {},
   "outputs": [
    {
     "data": {
      "text/plain": [
       "28"
      ]
     },
     "execution_count": 4,
     "metadata": {},
     "output_type": "execute_result"
    }
   ],
   "source": [
    "_get_unadjusted_roll(ueffective=dt(2022, 2, 28), utermination=dt(2023, 2, 28), eom=False)"
   ]
  },
  {
   "cell_type": "code",
   "execution_count": 5,
   "id": "8bb47315-3042-4c9a-a8eb-3766be6a2fe7",
   "metadata": {},
   "outputs": [
    {
     "data": {
      "text/plain": [
       "'eom'"
      ]
     },
     "execution_count": 5,
     "metadata": {},
     "output_type": "execute_result"
    }
   ],
   "source": [
    "_get_unadjusted_roll(ueffective=dt(2022, 2, 28), utermination=dt(2023, 2, 28), eom=True)"
   ]
  },
  {
   "cell_type": "code",
   "execution_count": 6,
   "id": "c46d63ff-99c8-48fa-a03d-93e90e0b7b1c",
   "metadata": {},
   "outputs": [],
   "source": []
  },
  {
   "cell_type": "code",
   "execution_count": 60,
   "id": "bf3b7df1-9cd1-4a0d-988a-d7d80e7b9b08",
   "metadata": {},
   "outputs": [],
   "source": [
    "from rateslib.scheduling import _generate_regular_schedule_unadjusted"
   ]
  },
  {
   "cell_type": "code",
   "execution_count": 61,
   "id": "19802482-fe5d-4e21-aa7b-8b419fe6245e",
   "metadata": {},
   "outputs": [
    {
     "data": {
      "text/plain": [
       "[datetime.datetime(2023, 3, 15, 0, 0),\n",
       " datetime.datetime(2023, 4, 19, 0, 0),\n",
       " datetime.datetime(2023, 5, 17, 0, 0),\n",
       " datetime.datetime(2023, 6, 21, 0, 0),\n",
       " datetime.datetime(2023, 7, 19, 0, 0),\n",
       " datetime.datetime(2023, 8, 16, 0, 0),\n",
       " datetime.datetime(2023, 9, 20, 0, 0)]"
      ]
     },
     "execution_count": 61,
     "metadata": {},
     "output_type": "execute_result"
    }
   ],
   "source": [
    "dates = [\n",
    "    d for d in \n",
    "    _generate_regular_schedule_unadjusted(\n",
    "        ueffective=dt(2023, 3, 15),\n",
    "        utermination=dt(2023, 9, 20),\n",
    "        frequency=\"M\",\n",
    "        roll=\"imm\"\n",
    "    )\n",
    "]\n",
    "dates"
   ]
  },
  {
   "cell_type": "code",
   "execution_count": null,
   "id": "3b0dbdd3-5daa-4933-8cc2-5d08605bf57f",
   "metadata": {},
   "outputs": [],
   "source": []
  },
  {
   "cell_type": "code",
   "execution_count": null,
   "id": "04b4befd-8430-4471-9b44-b367343268b0",
   "metadata": {},
   "outputs": [],
   "source": []
  },
  {
   "cell_type": "code",
   "execution_count": null,
   "id": "995ebd97-495e-4736-a5a1-780b5d87b0d1",
   "metadata": {},
   "outputs": [],
   "source": []
  },
  {
   "cell_type": "code",
   "execution_count": null,
   "id": "4e3a0787-082b-45eb-a769-6347e90a5190",
   "metadata": {},
   "outputs": [],
   "source": [
    "from rateslib.scheduling import _check_unadjusted_regular_swap"
   ]
  },
  {
   "cell_type": "code",
   "execution_count": 13,
   "id": "d0d910d9-a974-4167-bfd3-f4a9c772de9a",
   "metadata": {},
   "outputs": [
    {
     "data": {
      "text/plain": [
       "(False, 'Roll day could not be inferred from given dates.')"
      ]
     },
     "execution_count": 13,
     "metadata": {},
     "output_type": "execute_result"
    }
   ],
   "source": [
    "_check_unadjusted_regular_swap(\n",
    "        ueffective=dt(2022, 3, 16), utermination=dt(2022, 9, 21),\n",
    "        frequency=\"M\", roll=None, eom=False\n",
    "    )"
   ]
  },
  {
   "cell_type": "code",
   "execution_count": 12,
   "id": "67d9c5e4-84c7-4f0b-afa6-896c8eebf521",
   "metadata": {},
   "outputs": [
    {
     "data": {
      "text/plain": [
       "(True,\n",
       " {'ueffective': datetime.datetime(2022, 2, 28, 0, 0),\n",
       "  'utermination': datetime.datetime(2023, 2, 28, 0, 0),\n",
       "  'frequency': 'M',\n",
       "  'roll': 'eom',\n",
       "  'eom': True})"
      ]
     },
     "execution_count": 12,
     "metadata": {},
     "output_type": "execute_result"
    }
   ],
   "source": [
    "_check_unadjusted_regular_swap(\n",
    "        ueffective=dt(2022, 2, 28), utermination=dt(2023, 2, 28),\n",
    "        frequency=\"M\", eom=True, roll=None\n",
    "    )"
   ]
  },
  {
   "cell_type": "code",
   "execution_count": 14,
   "id": "cc11e373-87c8-49d8-859c-06610031c44a",
   "metadata": {},
   "outputs": [],
   "source": [
    "from rateslib.scheduling import _get_unadjusted_short_stub_date"
   ]
  },
  {
   "cell_type": "code",
   "execution_count": 24,
   "id": "d02c470c-727b-4878-9658-5f63e5d4bace",
   "metadata": {},
   "outputs": [
    {
     "data": {
      "text/plain": [
       "datetime.datetime(2022, 6, 30, 0, 0)"
      ]
     },
     "execution_count": 24,
     "metadata": {},
     "output_type": "execute_result"
    }
   ],
   "source": [
    "_get_unadjusted_short_stub_date(\n",
    "        ueffective=dt(2022, 6, 15), utermination=dt(2023, 2, 28),\n",
    "        frequency=\"M\", eom=True, roll=None, stub_side=\"FRONT\"\n",
    "    )"
   ]
  },
  {
   "cell_type": "code",
   "execution_count": 25,
   "id": "de5285b8-50bf-4a84-af4e-a0113a63bf50",
   "metadata": {},
   "outputs": [
    {
     "data": {
      "text/plain": [
       "datetime.datetime(2022, 6, 28, 0, 0)"
      ]
     },
     "execution_count": 25,
     "metadata": {},
     "output_type": "execute_result"
    }
   ],
   "source": [
    "_get_unadjusted_short_stub_date(\n",
    "        ueffective=dt(2022, 6, 15), utermination=dt(2023, 2, 28),\n",
    "        frequency=\"M\", eom=False, roll=None, stub_side=\"FRONT\"\n",
    "    )"
   ]
  },
  {
   "cell_type": "code",
   "execution_count": 26,
   "id": "0135ff22-784f-4c43-8162-2577073a1927",
   "metadata": {},
   "outputs": [
    {
     "data": {
      "text/plain": [
       "datetime.datetime(2022, 6, 29, 0, 0)"
      ]
     },
     "execution_count": 26,
     "metadata": {},
     "output_type": "execute_result"
    }
   ],
   "source": [
    "_get_unadjusted_short_stub_date(\n",
    "        ueffective=dt(2022, 6, 15), utermination=dt(2023, 2, 28),\n",
    "        frequency=\"M\", eom=True, roll=29, stub_side=\"FRONT\"\n",
    "    )"
   ]
  },
  {
   "cell_type": "code",
   "execution_count": null,
   "id": "ab24b046-b86b-4945-8767-381c53d00a04",
   "metadata": {},
   "outputs": [],
   "source": []
  },
  {
   "cell_type": "code",
   "execution_count": 47,
   "id": "19505125-6eed-43da-a541-32aab0f845d6",
   "metadata": {},
   "outputs": [],
   "source": [
    "from rateslib.scheduling import _get_unadjusted_stub_date"
   ]
  },
  {
   "cell_type": "code",
   "execution_count": 50,
   "id": "daff6659-f94a-4cd6-ab65-018fb20af567",
   "metadata": {},
   "outputs": [
    {
     "data": {
      "text/plain": [
       "datetime.datetime(2022, 7, 31, 0, 0)"
      ]
     },
     "execution_count": 50,
     "metadata": {},
     "output_type": "execute_result"
    }
   ],
   "source": [
    "_get_unadjusted_stub_date(\n",
    "        ueffective=dt(2022, 6, 15), utermination=dt(2023, 2, 28),\n",
    "        frequency=\"M\", eom=True, roll=None, stub=\"LONGFRONT\"\n",
    "    )"
   ]
  },
  {
   "cell_type": "code",
   "execution_count": 51,
   "id": "94e4ff12-a80a-44d1-85cd-b7ea2435cb52",
   "metadata": {},
   "outputs": [
    {
     "data": {
      "text/plain": [
       "datetime.datetime(2022, 7, 28, 0, 0)"
      ]
     },
     "execution_count": 51,
     "metadata": {},
     "output_type": "execute_result"
    }
   ],
   "source": [
    "_get_unadjusted_stub_date(\n",
    "        ueffective=dt(2022, 6, 15), utermination=dt(2023, 2, 28),\n",
    "        frequency=\"M\", eom=False, roll=None, stub=\"LONGFRONT\"\n",
    "    )"
   ]
  },
  {
   "cell_type": "code",
   "execution_count": 52,
   "id": "2f6ddb5e-6322-43f0-9d76-6a989c3617a7",
   "metadata": {},
   "outputs": [
    {
     "data": {
      "text/plain": [
       "datetime.datetime(2022, 7, 29, 0, 0)"
      ]
     },
     "execution_count": 52,
     "metadata": {},
     "output_type": "execute_result"
    }
   ],
   "source": [
    "_get_unadjusted_stub_date(\n",
    "        ueffective=dt(2022, 6, 15), utermination=dt(2023, 2, 28),\n",
    "        frequency=\"M\", eom=True, roll=29, stub=\"LONGFRONT\"\n",
    "    )"
   ]
  },
  {
   "cell_type": "code",
   "execution_count": null,
   "id": "519ff189-e0df-44ba-a8f2-05da66123906",
   "metadata": {},
   "outputs": [],
   "source": []
  },
  {
   "cell_type": "code",
   "execution_count": 56,
   "id": "8afde93d-6f6d-4656-a456-bc69900e53f0",
   "metadata": {},
   "outputs": [],
   "source": [
    "from rateslib.calendars import get_calendar\n",
    "from rateslib.scheduling import _check_regular_swap"
   ]
  },
  {
   "cell_type": "code",
   "execution_count": 58,
   "id": "ee7487e8-2b6d-437b-954f-26eb2ae913c4",
   "metadata": {},
   "outputs": [
    {
     "data": {
      "text/plain": [
       "(True,\n",
       " {'ueffective': datetime.datetime(2022, 6, 5, 0, 0),\n",
       "  'utermination': datetime.datetime(2022, 12, 5, 0, 0),\n",
       "  'frequency': 'Q',\n",
       "  'roll': 5,\n",
       "  'eom': False})"
      ]
     },
     "execution_count": 58,
     "metadata": {},
     "output_type": "execute_result"
    }
   ],
   "source": [
    "_check_regular_swap(\n",
    "    effective=dt(2022, 6, 6),\n",
    "    termination=dt(2022, 12,  5),\n",
    "    frequency=\"Q\",\n",
    "    modifier=\"MF\",\n",
    "    eom=False,\n",
    "    roll=None,\n",
    "    calendar=get_calendar(\"bus\"),\n",
    ")\n",
    "    "
   ]
  },
  {
   "cell_type": "code",
   "execution_count": null,
   "id": "3957a681-a10a-4925-8fe9-07d227a46786",
   "metadata": {},
   "outputs": [],
   "source": []
  }
 ],
 "metadata": {
  "kernelspec": {
   "display_name": "Python 3 (ipykernel)",
   "language": "python",
   "name": "python3"
  },
  "language_info": {
   "codemirror_mode": {
    "name": "ipython",
    "version": 3
   },
   "file_extension": ".py",
   "mimetype": "text/x-python",
   "name": "python",
   "nbconvert_exporter": "python",
   "pygments_lexer": "ipython3",
   "version": "3.11.1"
  }
 },
 "nbformat": 4,
 "nbformat_minor": 5
}
