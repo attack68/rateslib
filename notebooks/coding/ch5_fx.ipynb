{
 "cells": [
  {
   "cell_type": "code",
   "execution_count": 1,
   "metadata": {
    "tags": []
   },
   "outputs": [],
   "source": [
    "from rateslib.fx import FXRates, FXForwards\n",
    "from rateslib.dual import Dual\n",
    "from rateslib.curves import Curve\n",
    "from datetime import datetime as dt"
   ]
  },
  {
   "cell_type": "markdown",
   "metadata": {},
   "source": [
    "# Chapter 5 - FX Rates\n",
    "\n",
    "### Unsuitable initialisation"
   ]
  },
  {
   "cell_type": "code",
   "execution_count": null,
   "metadata": {},
   "outputs": [],
   "source": [
    "FXRates({\"usdeur\": 1.0, \"noksek\":1.0})"
   ]
  },
  {
   "cell_type": "code",
   "execution_count": null,
   "metadata": {},
   "outputs": [],
   "source": [
    "FXRates({\"usdeur\": 1.0, \"gbpusd\":1.0, \"gbpeur\": 1.0})"
   ]
  },
  {
   "cell_type": "code",
   "execution_count": null,
   "metadata": {},
   "outputs": [],
   "source": [
    "FXRates({\"usdeur\": 1.0, \"eurusd\":1.0, \"noksek\": 1.0})"
   ]
  },
  {
   "cell_type": "markdown",
   "metadata": {},
   "source": [
    "## FX Rates Array\n",
    "\n"
   ]
  },
  {
   "cell_type": "code",
   "execution_count": null,
   "metadata": {},
   "outputs": [],
   "source": [
    "fxr = FXRates({\"usdeur\": 2.0, \"usdgbp\": 2.5})\n",
    "fxr.rates_table()"
   ]
  },
  {
   "cell_type": "code",
   "execution_count": null,
   "metadata": {},
   "outputs": [],
   "source": [
    "fxr.rate(\"eurgbp\")"
   ]
  },
  {
   "cell_type": "markdown",
   "metadata": {},
   "source": [
    "## Representation via Dual"
   ]
  },
  {
   "cell_type": "code",
   "execution_count": null,
   "metadata": {},
   "outputs": [],
   "source": [
    "fxr = FXRates({\"usdnok\": 8.0})\n",
    "fxr.convert(1000000, \"nok\", \"usd\")"
   ]
  },
  {
   "cell_type": "markdown",
   "metadata": {},
   "source": [
    "## Equivalence of Cash Positions and Base Value"
   ]
  },
  {
   "cell_type": "code",
   "execution_count": null,
   "metadata": {},
   "outputs": [],
   "source": [
    "fxr.currencies"
   ]
  },
  {
   "cell_type": "code",
   "execution_count": null,
   "metadata": {},
   "outputs": [],
   "source": [
    "base_value = fxr.convert_positions([0, 1000000], \"usd\")\n",
    "base_value"
   ]
  },
  {
   "cell_type": "code",
   "execution_count": null,
   "metadata": {},
   "outputs": [],
   "source": [
    "positions = fxr.positions(base_value, \"usd\")\n",
    "positions"
   ]
  },
  {
   "cell_type": "markdown",
   "metadata": {},
   "source": [
    "Introduce a third currency"
   ]
  },
  {
   "cell_type": "code",
   "execution_count": null,
   "metadata": {},
   "outputs": [],
   "source": [
    "fxr = FXRates({\"usdeur\": 0.9, \"eurnok\": 8.888889})\n",
    "fxr.currencies"
   ]
  },
  {
   "cell_type": "code",
   "execution_count": null,
   "metadata": {},
   "outputs": [],
   "source": [
    "base_value = fxr.convert_positions([0, 0, 1000000], \"usd\")\n",
    "base_value"
   ]
  },
  {
   "cell_type": "code",
   "execution_count": null,
   "metadata": {},
   "outputs": [],
   "source": [
    "fxr.positions(base_value, \"usd\")"
   ]
  },
  {
   "cell_type": "code",
   "execution_count": null,
   "metadata": {},
   "outputs": [],
   "source": [
    "base_value = Dual(125000, \"fx_usdnok\", [-15625])\n",
    "positions = fxr.positions(base_value, \"usd\")\n",
    "positions"
   ]
  },
  {
   "cell_type": "code",
   "execution_count": null,
   "metadata": {},
   "outputs": [],
   "source": [
    "fxr.convert_positions(positions, \"usd\")"
   ]
  },
  {
   "cell_type": "markdown",
   "metadata": {},
   "source": [
    "## Re-expression in Majors"
   ]
  },
  {
   "cell_type": "code",
   "execution_count": null,
   "metadata": {},
   "outputs": [],
   "source": [
    "fxr_crosses = FXRates({\"eurusd\": 1.0, \"gbpjpy\": 100, \"eurjpy\": 100})\n",
    "fxr_crosses.convert(1, \"usd\", \"jpy\")"
   ]
  },
  {
   "cell_type": "code",
   "execution_count": null,
   "metadata": {},
   "outputs": [],
   "source": [
    "fxr_majors = fxr_crosses.restate([\"eurusd\", \"usdjpy\", \"gbpusd\"])\n",
    "fxr_majors.convert(1, \"usd\", \"jpy\")"
   ]
  },
  {
   "cell_type": "markdown",
   "metadata": {},
   "source": [
    "## FX Forwards"
   ]
  },
  {
   "cell_type": "code",
   "execution_count": null,
   "metadata": {},
   "outputs": [],
   "source": [
    "fx_rates = FXRates({\"usdeur\": 0.9, \"eurnok\": 8.888889}, dt(2022, 1, 3))\n",
    "fx_curves = {\n",
    "    \"usdusd\": Curve({dt(2022, 1, 1): 1.0, dt(2023, 1, 1): 0.96}),\n",
    "    \"eureur\": Curve({dt(2022, 1, 1): 1.0, dt(2023, 1, 1): 0.99}),\n",
    "    \"eurusd\": Curve({dt(2022, 1, 1): 1.0, dt(2023, 1, 1): 0.991}),\n",
    "    \"noknok\": Curve({dt(2022, 1, 1): 1.0, dt(2023, 1, 1): 0.98}),\n",
    "    \"nokeur\": Curve({dt(2022, 1, 1): 1.0, dt(2023, 1, 1): 0.978}),\n",
    "}\n",
    "fxf = FXForwards(fx_rates, fx_curves)\n",
    "fxf.rate(\"usdnok\", dt(2022, 8, 15))"
   ]
  },
  {
   "cell_type": "markdown",
   "metadata": {},
   "source": [
    "## Equivalence of Delta Risk"
   ]
  },
  {
   "cell_type": "code",
   "execution_count": null,
   "metadata": {},
   "outputs": [],
   "source": [
    "fx_rates = FXRates({\"usdeur\": 0.9, \"eurnok\": 8.888889}, dt(2022, 1, 3))\n",
    "start, end = dt(2022, 1, 1), dt(2023, 1,1)\n",
    "fx_curves = {\n",
    "    \"usdusd\": Curve({start: 1.0, end: 0.96}, id=\"uu\", ad=1),\n",
    "    \"eureur\": Curve({start: 1.0, end: 0.99}, id=\"ee\", ad=1),\n",
    "    \"eurusd\": Curve({start: 1.0, end: 0.991}, id=\"eu\", ad=1),\n",
    "    \"noknok\": Curve({start: 1.0, end: 0.98}, id=\"nn\", ad=1),\n",
    "    \"nokeur\": Curve({start: 1.0, end: 0.978}, id=\"ne\", ad=1),\n",
    "}\n",
    "fxf = FXForwards(fx_rates, fx_curves)"
   ]
  },
  {
   "cell_type": "code",
   "execution_count": null,
   "metadata": {},
   "outputs": [],
   "source": [
    "discounted_nok = fx_curves[\"nokeur\"][dt(2022, 8, 15)] * 1000\n",
    "base_value = discounted_nok * fxf.rate(\"nokusd\", dt(2022, 1, 1))\n",
    "base_value"
   ]
  },
  {
   "cell_type": "code",
   "execution_count": null,
   "metadata": {},
   "outputs": [],
   "source": [
    "forward_eur = fxf.rate(\"nokeur\", dt(2022, 8, 15)) * 1000\n",
    "discounted_eur = forward_eur * fx_curves[\"eureur\"][dt(2022, 8, 15)]\n",
    "base_value = discounted_eur * fxf.rate(\"eurusd\", dt(2022, 1, 1))\n",
    "base_value"
   ]
  },
  {
   "cell_type": "code",
   "execution_count": null,
   "metadata": {},
   "outputs": [],
   "source": [
    "base_value.gradient([\"uu1\", \"ee1\", \"eu1\", \"nn1\", \"ne1\", \"fx_usdeur\", \"fx_eurnok\"])\n"
   ]
  },
  {
   "cell_type": "markdown",
   "metadata": {},
   "source": [
    "## Combining Settlement Dates\n",
    "\n",
    "### Separable system"
   ]
  },
  {
   "cell_type": "code",
   "execution_count": null,
   "metadata": {},
   "outputs": [],
   "source": [
    "fxr1 = FXRates({\"eurusd\": 1.05}, settlement=dt(2022, 1, 3))\n",
    "fxr2 = FXRates({\"usdcad\": 1.1}, settlement=dt(2022, 1, 2))\n",
    "fxf = FXForwards(\n",
    "    fx_rates=[fxr1, fxr2],\n",
    "    fx_curves={\n",
    "        \"usdusd\": Curve({dt(2022, 1, 1):1.0, dt(2022, 2, 1): 0.999}),\n",
    "        \"eureur\": Curve({dt(2022, 1, 1):1.0, dt(2022, 2, 1): 0.999}),\n",
    "        \"cadcad\": Curve({dt(2022, 1, 1):1.0, dt(2022, 2, 1): 0.999}),\n",
    "        \"usdeur\": Curve({dt(2022, 1, 1):1.0, dt(2022, 2, 1): 0.999}),\n",
    "        \"cadusd\": Curve({dt(2022, 1, 1):1.0, dt(2022, 2, 1): 0.999}),\n",
    "    }\n",
    ")"
   ]
  },
  {
   "cell_type": "code",
   "execution_count": null,
   "metadata": {},
   "outputs": [],
   "source": [
    "fxf.rate(\"eurcad\", dt(2022, 2, 1))"
   ]
  },
  {
   "cell_type": "markdown",
   "metadata": {},
   "source": [
    "### Acyclic Dependent Systems"
   ]
  },
  {
   "cell_type": "code",
   "execution_count": null,
   "metadata": {},
   "outputs": [],
   "source": [
    "fxf = FXForwards(\n",
    "    fx_rates=[fxr1, fxr2],\n",
    "    fx_curves={\n",
    "        \"usdusd\": Curve({dt(2022, 1, 1):1.0, dt(2022, 2, 1): 0.999}),\n",
    "        \"eureur\": Curve({dt(2022, 1, 1):1.0, dt(2022, 2, 1): 0.999}),\n",
    "        \"cadcad\": Curve({dt(2022, 1, 1):1.0, dt(2022, 2, 1): 0.999}),\n",
    "        \"usdeur\": Curve({dt(2022, 1, 1):1.0, dt(2022, 2, 1): 0.999}),\n",
    "        \"cadeur\": Curve({dt(2022, 1, 1):1.0, dt(2022, 2, 1): 0.999}),\n",
    "    }\n",
    ")"
   ]
  },
  {
   "cell_type": "code",
   "execution_count": null,
   "metadata": {},
   "outputs": [],
   "source": [
    "fxf.rate(\"eurcad\", dt(2022, 2, 1))"
   ]
  },
  {
   "cell_type": "markdown",
   "metadata": {},
   "source": [
    "### Cyclic Dependent Systems Fail"
   ]
  },
  {
   "cell_type": "code",
   "execution_count": null,
   "metadata": {},
   "outputs": [],
   "source": [
    "fxr1 = FXRates({\"eurusd\": 1.05, \"gbpusd\": 1.25}, settlement=dt(2022, 1, 3))\n",
    "fxf = FXForwards(\n",
    "    fx_rates=[fxr1, fxr2],\n",
    "    fx_curves={\n",
    "        \"usdusd\": Curve({dt(2022, 1, 1):1.0, dt(2022, 2, 1): 0.999}),\n",
    "        \"eureur\": Curve({dt(2022, 1, 1):1.0, dt(2022, 2, 1): 0.999}),\n",
    "        \"cadcad\": Curve({dt(2022, 1, 1):1.0, dt(2022, 2, 1): 0.999}),\n",
    "        \"usdeur\": Curve({dt(2022, 1, 1):1.0, dt(2022, 2, 1): 0.999}),\n",
    "        \"cadeur\": Curve({dt(2022, 1, 1):1.0, dt(2022, 2, 1): 0.999}),\n",
    "        \"gbpcad\": Curve({dt(2022, 1, 1):1.0, dt(2022, 2, 1): 0.999}),\n",
    "        \"gbpgbp\": Curve({dt(2022, 1, 1):1.0, dt(2022, 2, 1): 0.999}),\n",
    "    }\n",
    ")"
   ]
  },
  {
   "cell_type": "markdown",
   "metadata": {},
   "source": [
    "But cyclic systems can be restructured"
   ]
  },
  {
   "cell_type": "code",
   "execution_count": null,
   "metadata": {},
   "outputs": [],
   "source": [
    "fxr1 = FXRates({\"eurusd\": 1.05}, settlement=dt(2022, 1, 3))\n",
    "fxr3 = FXRates({\"gbpusd\": 1.25}, settlement=dt(2022, 1, 3))\n",
    "fxf = FXForwards(\n",
    "    fx_rates=[fxr1, fxr2, fxr3],\n",
    "    fx_curves={\n",
    "        \"usdusd\": Curve({dt(2022, 1, 1):1.0, dt(2022, 2, 1): 0.999}),\n",
    "        \"eureur\": Curve({dt(2022, 1, 1):1.0, dt(2022, 2, 1): 0.999}),\n",
    "        \"cadcad\": Curve({dt(2022, 1, 1):1.0, dt(2022, 2, 1): 0.999}),\n",
    "        \"usdeur\": Curve({dt(2022, 1, 1):1.0, dt(2022, 2, 1): 0.999}),\n",
    "        \"cadeur\": Curve({dt(2022, 1, 1):1.0, dt(2022, 2, 1): 0.999}),\n",
    "        \"gbpcad\": Curve({dt(2022, 1, 1):1.0, dt(2022, 2, 1): 0.999}),\n",
    "        \"gbpgbp\": Curve({dt(2022, 1, 1):1.0, dt(2022, 2, 1): 0.999}),\n",
    "    }\n",
    ")"
   ]
  },
  {
   "cell_type": "code",
   "execution_count": null,
   "metadata": {},
   "outputs": [],
   "source": [
    "fxf.rate(\"eurcad\", dt(2022, 2, 1))"
   ]
  },
  {
   "cell_type": "markdown",
   "metadata": {},
   "source": [
    "### Unsolvable System"
   ]
  },
  {
   "cell_type": "code",
   "execution_count": null,
   "metadata": {},
   "outputs": [],
   "source": [
    "fxr1 = FXRates({\"eurusd\": 1.05, \"gbpusd\": 1.25}, settlement=dt(2022, 1, 3))\n",
    "fxr3 = FXRates({\"gbpjpy\": 100}, settlement=dt(2022, 1, 4))\n",
    "FXForwards(\n",
    "    fx_rates=[fxr1, fxr2, fxr3],\n",
    "    fx_curves={\n",
    "        \"usdusd\": Curve({dt(2022, 1, 1):1.0, dt(2022, 2, 1): 0.999}),\n",
    "        \"eureur\": Curve({dt(2022, 1, 1):1.0, dt(2022, 2, 1): 0.999}),\n",
    "        \"cadcad\": Curve({dt(2022, 1, 1):1.0, dt(2022, 2, 1): 0.999}),\n",
    "        \"gbpgbp\": Curve({dt(2022, 1, 1):1.0, dt(2022, 2, 1): 0.999}),\n",
    "        \"usdjpy\": Curve({dt(2022, 1, 1):1.0, dt(2022, 2, 1): 0.999}),\n",
    "        \"eurcad\": Curve({dt(2022, 1, 1):1.0, dt(2022, 2, 1): 0.999}),\n",
    "        \"eurjpy\": Curve({dt(2022, 1, 1):1.0, dt(2022, 2, 1): 0.999}),\n",
    "        \"gbpcad\": Curve({dt(2022, 1, 1):1.0, dt(2022, 2, 1): 0.999}),\n",
    "    }\n",
    ")"
   ]
  },
  {
   "cell_type": "markdown",
   "metadata": {},
   "source": [
    "### Dual Representation"
   ]
  },
  {
   "cell_type": "code",
   "execution_count": 2,
   "metadata": {},
   "outputs": [
    {
     "data": {
      "text/html": [
       "<div>\n",
       "<style scoped>\n",
       "    .dataframe tbody tr th:only-of-type {\n",
       "        vertical-align: middle;\n",
       "    }\n",
       "\n",
       "    .dataframe tbody tr th {\n",
       "        vertical-align: top;\n",
       "    }\n",
       "\n",
       "    .dataframe thead th {\n",
       "        text-align: right;\n",
       "    }\n",
       "</style>\n",
       "<table border=\"1\" class=\"dataframe\">\n",
       "  <thead>\n",
       "    <tr style=\"text-align: right;\">\n",
       "      <th></th>\n",
       "      <th>2022-01-01</th>\n",
       "      <th>2022-01-02</th>\n",
       "      <th>2022-01-03</th>\n",
       "    </tr>\n",
       "  </thead>\n",
       "  <tbody>\n",
       "    <tr>\n",
       "      <th>cad</th>\n",
       "      <td>0.0</td>\n",
       "      <td>181500.0</td>\n",
       "      <td>0.0</td>\n",
       "    </tr>\n",
       "    <tr>\n",
       "      <th>eur</th>\n",
       "      <td>0.0</td>\n",
       "      <td>0.0</td>\n",
       "      <td>-100000.0</td>\n",
       "    </tr>\n",
       "    <tr>\n",
       "      <th>usd</th>\n",
       "      <td>100000.0</td>\n",
       "      <td>-165000.0</td>\n",
       "      <td>105000.0</td>\n",
       "    </tr>\n",
       "  </tbody>\n",
       "</table>\n",
       "</div>"
      ],
      "text/plain": [
       "     2022-01-01  2022-01-02  2022-01-03\n",
       "cad         0.0    181500.0         0.0\n",
       "eur         0.0         0.0   -100000.0\n",
       "usd    100000.0   -165000.0    105000.0"
      ]
     },
     "execution_count": 2,
     "metadata": {},
     "output_type": "execute_result"
    }
   ],
   "source": [
    "fxr1 = FXRates({\"eurusd\": 1.05}, settlement=dt(2022, 1, 3))\n",
    "fxr2 = FXRates({\"usdcad\": 1.1}, settlement=dt(2022, 1, 2))\n",
    "fxf = FXForwards(\n",
    "    fx_rates=[fxr1, fxr2],\n",
    "    fx_curves={\n",
    "        \"usdusd\": Curve({dt(2022, 1, 1):1.0, dt(2022, 2, 1): 0.999}),\n",
    "        \"eureur\": Curve({dt(2022, 1, 1):1.0, dt(2022, 2, 1): 0.999}),\n",
    "        \"cadcad\": Curve({dt(2022, 1, 1):1.0, dt(2022, 2, 1): 0.999}),\n",
    "        \"usdeur\": Curve({dt(2022, 1, 1):1.0, dt(2022, 2, 1): 0.999}),\n",
    "        \"cadusd\": Curve({dt(2022, 1, 1):1.0, dt(2022, 2, 1): 0.999}),\n",
    "    }\n",
    ")\n",
    "pv = Dual(100000, [\"fx_eurusd\", \"fx_usdcad\"], [-100000, -150000])\n",
    "fxf.positions(pv, base=\"usd\")"
   ]
  },
  {
   "cell_type": "code",
   "execution_count": 3,
   "metadata": {},
   "outputs": [
    {
     "data": {
      "text/plain": [
       "cad    181500.0\n",
       "eur   -100000.0\n",
       "usd     40000.0\n",
       "dtype: float64"
      ]
     },
     "execution_count": 3,
     "metadata": {},
     "output_type": "execute_result"
    }
   ],
   "source": [
    "fxf.positions(pv, base=\"usd\", aggregate=True)"
   ]
  },
  {
   "cell_type": "code",
   "execution_count": 18,
   "metadata": {},
   "outputs": [
    {
     "data": {
      "text/plain": [
       "<Dual: 100,000.000000, ['fx_eurusd', 'fx_usdcad'], [-100000. -150000.]>"
      ]
     },
     "execution_count": 18,
     "metadata": {},
     "output_type": "execute_result"
    }
   ],
   "source": [
    "fxf.convert_positions(fxf.positions(pv, base=\"usd\"))"
   ]
  },
  {
   "cell_type": "code",
   "execution_count": null,
   "metadata": {},
   "outputs": [],
   "source": []
  }
 ],
 "metadata": {
  "kernelspec": {
   "display_name": "Python 3 (ipykernel)",
   "language": "python",
   "name": "python3"
  },
  "language_info": {
   "codemirror_mode": {
    "name": "ipython",
    "version": 3
   },
   "file_extension": ".py",
   "mimetype": "text/x-python",
   "name": "python",
   "nbconvert_exporter": "python",
   "pygments_lexer": "ipython3",
   "version": "3.11.1"
  }
 },
 "nbformat": 4,
 "nbformat_minor": 4
}
