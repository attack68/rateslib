{
 "cells": [
  {
   "cell_type": "markdown",
   "id": "95844b55-1388-4bed-ae0e-63dd3296d868",
   "metadata": {},
   "source": [
    "### This chapter on Curve Solving has no actionable 'rateslib' code listing"
   ]
  }
 ],
 "metadata": {
  "kernelspec": {
   "display_name": "Python 3 (ipykernel)",
   "language": "python",
   "name": "python3"
  },
  "language_info": {
   "codemirror_mode": {
    "name": "ipython",
    "version": 3
   },
   "file_extension": ".py",
   "mimetype": "text/x-python",
   "name": "python",
   "nbconvert_exporter": "python",
   "pygments_lexer": "ipython3",
   "version": "3.12.4"
  }
 },
 "nbformat": 4,
 "nbformat_minor": 5
}
