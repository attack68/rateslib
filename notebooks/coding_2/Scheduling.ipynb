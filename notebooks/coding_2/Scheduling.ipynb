{
 "cells": [
  {
   "cell_type": "code",
   "execution_count": 1,
   "id": "350b18e6-9448-4c28-9c45-444dabe50160",
   "metadata": {},
   "outputs": [],
   "source": [
    "from rateslib import *"
   ]
  },
  {
   "cell_type": "markdown",
   "id": "a454c714-2127-4a86-ad73-4f924210aee1",
   "metadata": {},
   "source": [
    "# Regular Unadjusted Schedules"
   ]
  },
  {
   "cell_type": "code",
   "execution_count": 3,
   "id": "a6a10173-9141-40f8-91f1-bb4c06b5a3be",
   "metadata": {},
   "outputs": [
    {
     "data": {
      "text/plain": [
       "[datetime.datetime(2023, 3, 15, 0, 0),\n",
       " datetime.datetime(2023, 4, 19, 0, 0),\n",
       " datetime.datetime(2023, 5, 17, 0, 0),\n",
       " datetime.datetime(2023, 6, 21, 0, 0),\n",
       " datetime.datetime(2023, 7, 19, 0, 0),\n",
       " datetime.datetime(2023, 8, 16, 0, 0),\n",
       " datetime.datetime(2023, 9, 20, 0, 0)]"
      ]
     },
     "execution_count": 3,
     "metadata": {},
     "output_type": "execute_result"
    }
   ],
   "source": [
    "from rateslib.scheduling import _generate_regular_schedule_unadjusted\n",
    "\n",
    "dates = list (_generate_regular_schedule_unadjusted (\n",
    "    ueffective=dt(2023 , 3, 15),\n",
    "    utermination=dt(2023 , 9, 20),\n",
    "    frequency=\"M\", \n",
    "    roll=\"imm\",\n",
    "))\n",
    "\n",
    "dates"
   ]
  },
  {
   "cell_type": "markdown",
   "id": "f8e77e1c-6af9-4885-aaea-1de5b77ccee5",
   "metadata": {},
   "source": [
    "# Stub and Roll Inference"
   ]
  },
  {
   "cell_type": "code",
   "execution_count": 4,
   "id": "d2905999-2165-480f-882c-a8b33e4aa105",
   "metadata": {},
   "outputs": [
    {
     "data": {
      "text/plain": [
       "15"
      ]
     },
     "execution_count": 4,
     "metadata": {},
     "output_type": "execute_result"
    }
   ],
   "source": [
    "from rateslib . scheduling import _get_unadjusted_roll\n",
    "\n",
    "_get_unadjusted_roll (\n",
    "    ueffective =dt (2022 ,3 ,15) , utermination =dt (2023 ,3 ,15) , eom = True\n",
    ")"
   ]
  },
  {
   "cell_type": "code",
   "execution_count": 5,
   "id": "7b582faa-05f3-40ea-9964-8677ed1dd250",
   "metadata": {},
   "outputs": [
    {
     "data": {
      "text/plain": [
       "28"
      ]
     },
     "execution_count": 5,
     "metadata": {},
     "output_type": "execute_result"
    }
   ],
   "source": [
    "_get_unadjusted_roll (\n",
    "    ueffective =dt (2022 ,2 ,28) , utermination =dt (2023 ,2 ,28) , eom = False\n",
    ")"
   ]
  },
  {
   "cell_type": "code",
   "execution_count": 6,
   "id": "ba2b8488-8e88-4ca2-a24b-db73abf65ca9",
   "metadata": {},
   "outputs": [
    {
     "data": {
      "text/plain": [
       "'eom'"
      ]
     },
     "execution_count": 6,
     "metadata": {},
     "output_type": "execute_result"
    }
   ],
   "source": [
    "_get_unadjusted_roll (\n",
    "    ueffective =dt (2022 ,2 ,28) , utermination =dt (2023 ,2 ,28) , eom = True\n",
    ")"
   ]
  },
  {
   "cell_type": "code",
   "execution_count": 7,
   "id": "3860386d-a9ce-4afd-a1ce-b4c959b20f26",
   "metadata": {},
   "outputs": [
    {
     "data": {
      "text/plain": [
       "_ValidSchedule(ueffective=datetime.datetime(2022, 2, 28, 0, 0), utermination=datetime.datetime(2023, 2, 28, 0, 0), front_stub=<NoInput.blank: 0>, back_stub=<NoInput.blank: 0>, frequency='M', roll=None, eom=False)"
      ]
     },
     "execution_count": 7,
     "metadata": {},
     "output_type": "execute_result"
    }
   ],
   "source": [
    "from rateslib . scheduling import _check_unadjusted_regular_swap\n",
    "\n",
    "_check_unadjusted_regular_swap(\n",
    "    ueffective=dt(2022, 2, 28),\n",
    "    utermination=dt(2023, 2, 28),\n",
    "    frequency=\"M\",\n",
    "    eom=False,\n",
    "    roll=None,\n",
    ")"
   ]
  },
  {
   "cell_type": "code",
   "execution_count": 8,
   "id": "2c83a2d2-fc06-44ae-bf81-680d15be987b",
   "metadata": {},
   "outputs": [
    {
     "data": {
      "text/plain": [
       "_ValidSchedule(ueffective=datetime.datetime(2022, 2, 28, 0, 0), utermination=datetime.datetime(2023, 2, 28, 0, 0), front_stub=<NoInput.blank: 0>, back_stub=<NoInput.blank: 0>, frequency='M', roll=None, eom=True)"
      ]
     },
     "execution_count": 8,
     "metadata": {},
     "output_type": "execute_result"
    }
   ],
   "source": [
    "_check_unadjusted_regular_swap (\n",
    "    ueffective=dt (2022 , 2, 28) ,\n",
    "    utermination=dt (2023 , 2, 28) ,\n",
    "    frequency=\"M\",\n",
    "    eom=True ,\n",
    "    roll=None ,\n",
    ")"
   ]
  },
  {
   "cell_type": "code",
   "execution_count": 9,
   "id": "6b90f1c2-b9d9-4655-9936-999ffd613ddd",
   "metadata": {},
   "outputs": [
    {
     "data": {
      "text/plain": [
       "_ValidSchedule(ueffective=datetime.datetime(2022, 3, 16, 0, 0), utermination=datetime.datetime(2022, 9, 21, 0, 0), front_stub=<NoInput.blank: 0>, back_stub=<NoInput.blank: 0>, frequency='M', roll=None, eom=False)"
      ]
     },
     "execution_count": 9,
     "metadata": {},
     "output_type": "execute_result"
    }
   ],
   "source": [
    "_check_unadjusted_regular_swap (\n",
    "    ueffective=dt(2022 , 3, 16) ,\n",
    "    utermination=dt(2022 , 9, 21) ,\n",
    "    frequency=\"M\",\n",
    "    eom=False ,\n",
    "    roll=None ,\n",
    ")"
   ]
  },
  {
   "cell_type": "code",
   "execution_count": 11,
   "id": "d766c8b5-9102-4853-8b05-a23d76c0c893",
   "metadata": {},
   "outputs": [
    {
     "data": {
      "text/plain": [
       "_ValidSchedule(ueffective=datetime.datetime(2022, 3, 16, 0, 0), utermination=datetime.datetime(2022, 9, 21, 0, 0), front_stub=<NoInput.blank: 0>, back_stub=<NoInput.blank: 0>, frequency='M', roll='imm', eom=False)"
      ]
     },
     "execution_count": 11,
     "metadata": {},
     "output_type": "execute_result"
    }
   ],
   "source": [
    "_check_unadjusted_regular_swap (\n",
    "    ueffective=dt(2022 , 3, 16) ,\n",
    "    utermination=dt(2022 , 9, 21) ,\n",
    "    frequency=\"M\",\n",
    "    eom =False ,\n",
    "    roll=\"imm\",\n",
    ")"
   ]
  },
  {
   "cell_type": "code",
   "execution_count": null,
   "id": "aae6c9c9-3573-47f7-ac8c-fdf0be1fda8f",
   "metadata": {},
   "outputs": [],
   "source": []
  }
 ],
 "metadata": {
  "kernelspec": {
   "display_name": "Python 3 (ipykernel)",
   "language": "python",
   "name": "python3"
  },
  "language_info": {
   "codemirror_mode": {
    "name": "ipython",
    "version": 3
   },
   "file_extension": ".py",
   "mimetype": "text/x-python",
   "name": "python",
   "nbconvert_exporter": "python",
   "pygments_lexer": "ipython3",
   "version": "3.12.0"
  }
 },
 "nbformat": 4,
 "nbformat_minor": 5
}
