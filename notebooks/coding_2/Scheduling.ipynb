{
 "cells": [
  {
   "cell_type": "code",
   "execution_count": null,
   "id": "350b18e6-9448-4c28-9c45-444dabe50160",
   "metadata": {},
   "outputs": [],
   "source": [
    "from rateslib import *"
   ]
  },
  {
   "cell_type": "markdown",
   "id": "a454c714-2127-4a86-ad73-4f924210aee1",
   "metadata": {},
   "source": [
    "# Regular Unadjusted Schedules"
   ]
  },
  {
   "cell_type": "code",
   "execution_count": null,
   "id": "a6a10173-9141-40f8-91f1-bb4c06b5a3be",
   "metadata": {},
   "outputs": [],
   "source": [
    "from rateslib.scheduling import _generate_regular_schedule_unadjusted\n",
    "\n",
    "dates = list (_generate_regular_schedule_unadjusted (\n",
    "    ueffective=dt(2023 , 3, 15),\n",
    "    utermination=dt(2023 , 9, 20),\n",
    "    frequency=\"M\", \n",
    "    roll=\"imm\",\n",
    "))\n",
    "\n",
    "dates"
   ]
  },
  {
   "cell_type": "markdown",
   "id": "f8e77e1c-6af9-4885-aaea-1de5b77ccee5",
   "metadata": {},
   "source": [
    "# Stub and Roll Inference"
   ]
  },
  {
   "cell_type": "markdown",
   "id": "75166f2f-e9bd-4de1-b78d-b43f0a931e7c",
   "metadata": {},
   "source": [
    "### Get a Roll"
   ]
  },
  {
   "cell_type": "code",
   "execution_count": null,
   "id": "d2905999-2165-480f-882c-a8b33e4aa105",
   "metadata": {},
   "outputs": [],
   "source": [
    "from rateslib . scheduling import _get_unadjusted_roll\n",
    "\n",
    "_get_unadjusted_roll (\n",
    "    ueffective =dt (2022 ,3 ,15) , utermination =dt (2023 ,3 ,15) , eom = True\n",
    ")"
   ]
  },
  {
   "cell_type": "code",
   "execution_count": null,
   "id": "7b582faa-05f3-40ea-9964-8677ed1dd250",
   "metadata": {},
   "outputs": [],
   "source": [
    "_get_unadjusted_roll (\n",
    "    ueffective =dt (2022 ,2 ,28) , utermination =dt (2023 ,2 ,28) , eom = False\n",
    ")"
   ]
  },
  {
   "cell_type": "code",
   "execution_count": null,
   "id": "ba2b8488-8e88-4ca2-a24b-db73abf65ca9",
   "metadata": {},
   "outputs": [],
   "source": [
    "_get_unadjusted_roll (\n",
    "    ueffective =dt (2022 ,2 ,28) , utermination =dt (2023 ,2 ,28) , eom = True\n",
    ")"
   ]
  },
  {
   "cell_type": "markdown",
   "id": "b054fb9d-5a88-4d05-bd1b-2e0c7cc34e22",
   "metadata": {},
   "source": [
    "### Validate for a regular unadjusted swap"
   ]
  },
  {
   "cell_type": "code",
   "execution_count": null,
   "id": "3860386d-a9ce-4afd-a1ce-b4c959b20f26",
   "metadata": {},
   "outputs": [],
   "source": [
    "from rateslib . scheduling import _check_unadjusted_regular_swap\n",
    "\n",
    "_check_unadjusted_regular_swap(\n",
    "    ueffective=dt(2022, 2, 28),\n",
    "    utermination=dt(2023, 2, 28),\n",
    "    frequency=\"M\",\n",
    "    eom=False,\n",
    "    roll=NoInput(0),\n",
    ")"
   ]
  },
  {
   "cell_type": "code",
   "execution_count": null,
   "id": "2c83a2d2-fc06-44ae-bf81-680d15be987b",
   "metadata": {},
   "outputs": [],
   "source": [
    "_check_unadjusted_regular_swap (\n",
    "    ueffective=dt (2022 , 2, 28) ,\n",
    "    utermination=dt (2023 , 2, 28) ,\n",
    "    frequency=\"M\",\n",
    "    eom=True,\n",
    "    roll=NoInput(0),\n",
    ")"
   ]
  },
  {
   "cell_type": "code",
   "execution_count": null,
   "id": "6b90f1c2-b9d9-4655-9936-999ffd613ddd",
   "metadata": {},
   "outputs": [],
   "source": [
    "_check_unadjusted_regular_swap (\n",
    "    ueffective=dt(2022 , 3, 16) ,\n",
    "    utermination=dt(2022 , 9, 21) ,\n",
    "    frequency=\"M\",\n",
    "    eom=False ,\n",
    "    roll=NoInput(0),\n",
    ")"
   ]
  },
  {
   "cell_type": "code",
   "execution_count": null,
   "id": "d766c8b5-9102-4853-8b05-a23d76c0c893",
   "metadata": {},
   "outputs": [],
   "source": [
    "_check_unadjusted_regular_swap (\n",
    "    ueffective=dt(2022 , 3, 16) ,\n",
    "    utermination=dt(2022 , 9, 21) ,\n",
    "    frequency=\"M\",\n",
    "    eom=False ,\n",
    "    roll=\"imm\",\n",
    ")"
   ]
  },
  {
   "cell_type": "markdown",
   "id": "cace2c03-ce4c-46a3-a384-524752253ae3",
   "metadata": {},
   "source": [
    "### Get a stub"
   ]
  },
  {
   "cell_type": "code",
   "execution_count": null,
   "id": "f7aac92e-1ab9-4f38-942c-10e37faa2ee1",
   "metadata": {},
   "outputs": [],
   "source": [
    "from rateslib.scheduling import _get_unadjusted_short_stub_date\n",
    "\n",
    "kws = dict (\n",
    "    ueffective =dt (2022 , 6, 15),\n",
    "    utermination =dt (2023 , 2, 28),  # <-- End of Fenruary\n",
    "    frequency =\"M\",\n",
    ")\n",
    "\n",
    "_get_unadjusted_short_stub_date (**kws , eom=False , roll=NoInput(0) ,stub_side=\"FRONT\")"
   ]
  },
  {
   "cell_type": "code",
   "execution_count": null,
   "id": "ba070165-f691-432b-8819-76943a1f22a1",
   "metadata": {},
   "outputs": [],
   "source": [
    "_get_unadjusted_short_stub_date(**kws, eom=True, roll=NoInput(0), stub_side=\"FRONT\")"
   ]
  },
  {
   "cell_type": "code",
   "execution_count": null,
   "id": "711b2df6-dc4c-46da-b167-62bd861465a3",
   "metadata": {},
   "outputs": [],
   "source": [
    "_get_unadjusted_short_stub_date(**kws, eom=True, roll=29, stub_side=\"FRONT\")"
   ]
  },
  {
   "cell_type": "code",
   "execution_count": null,
   "id": "b89e7485-2667-424c-9288-9758151c0b22",
   "metadata": {},
   "outputs": [],
   "source": [
    "from rateslib . scheduling import _get_unadjusted_stub_date\n",
    "\n",
    "_get_unadjusted_stub_date(**kws, eom=False, roll=NoInput(0), stub=\"LONGFRONT\")"
   ]
  },
  {
   "cell_type": "code",
   "execution_count": null,
   "id": "d5e1af0b-855f-425d-8a50-0ce085e7612b",
   "metadata": {},
   "outputs": [],
   "source": [
    "_get_unadjusted_stub_date(**kws, eom=True, roll=NoInput(0), stub=\"LONGFRONT\")"
   ]
  },
  {
   "cell_type": "code",
   "execution_count": null,
   "id": "b1514504-3a81-43b9-9ed5-d5f92bb28c55",
   "metadata": {},
   "outputs": [],
   "source": [
    "_get_unadjusted_stub_date(**kws, eom=False, roll=29, stub=\"LONGFRONT\")"
   ]
  },
  {
   "cell_type": "markdown",
   "id": "271c4d0d-ba1a-49fc-8ec6-eb355c46ed91",
   "metadata": {},
   "source": [
    "### Validate for a regular swap account for business days"
   ]
  },
  {
   "cell_type": "code",
   "execution_count": null,
   "id": "983a9f5e-4500-4ffc-955f-25a7811ded3a",
   "metadata": {},
   "outputs": [],
   "source": [
    "from rateslib.scheduling import _check_regular_swap\n",
    "\n",
    "_check_regular_swap( \n",
    "    effective=dt(2022, 6, 6), \n",
    "    termination=dt(2022, 12, 5),\n",
    "    frequency=\"Q\",\n",
    "    eom=False,\n",
    "    roll=NoInput(0),\n",
    "    modifier =\"MF\",\n",
    "    calendar=get_calendar(\"bus\"),\n",
    ")"
   ]
  },
  {
   "cell_type": "markdown",
   "id": "18abf86d-81f8-4fd1-bb4c-5a8e0d06bb8c",
   "metadata": {},
   "source": [
    "# Schedule Building"
   ]
  },
  {
   "cell_type": "code",
   "execution_count": null,
   "id": "562b95aa-550c-4654-bb4a-010ea7f39875",
   "metadata": {},
   "outputs": [],
   "source": [
    "sch = Schedule (\n",
    "    effective =\"1Y\",\n",
    "    termination =\"1Y\",\n",
    "    frequency =\"S\",\n",
    "    calendar =\"tgt\",\n",
    "    payment_lag =1,\n",
    "    eval_date=dt (2023 , 8, 17) ,\n",
    "    eval_mode=\"swaps_align\", \n",
    ")\n",
    "print(sch)"
   ]
  },
  {
   "cell_type": "code",
   "execution_count": null,
   "id": "72ab63a2-fe4a-49bd-8baa-7ed046ad2b4f",
   "metadata": {},
   "outputs": [],
   "source": [
    "sch = Schedule (\n",
    "    effective =\"1Y\",\n",
    "    termination =\"1Y\",\n",
    "    frequency =\"S\",\n",
    "    calendar =\"tgt\",\n",
    "    payment_lag =1,\n",
    "    eval_date =dt (2023 , 8, 17) ,\n",
    "    eval_mode=\"swaptions_align\", \n",
    ")\n",
    "print(sch)"
   ]
  }
 ],
 "metadata": {
  "kernelspec": {
   "display_name": "Python 3 (ipykernel)",
   "language": "python",
   "name": "python3"
  },
  "language_info": {
   "codemirror_mode": {
    "name": "ipython",
    "version": 3
   },
   "file_extension": ".py",
   "mimetype": "text/x-python",
   "name": "python",
   "nbconvert_exporter": "python",
   "pygments_lexer": "ipython3",
   "version": "3.12.0"
  }
 },
 "nbformat": 4,
 "nbformat_minor": 5
}
