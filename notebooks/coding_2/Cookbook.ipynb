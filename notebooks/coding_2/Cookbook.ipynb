{
 "cells": [
  {
   "cell_type": "markdown",
   "id": "a731e2a1-7df1-4627-87a4-eece8b11f3ec",
   "metadata": {},
   "source": [
    "# Turns"
   ]
  },
  {
   "cell_type": "code",
   "execution_count": null,
   "id": "b19074cb-c470-4da9-8c03-5db7f134bd4d",
   "metadata": {},
   "outputs": [],
   "source": [
    "from rateslib import *"
   ]
  },
  {
   "cell_type": "code",
   "execution_count": null,
   "id": "bba57742-a6f2-4c05-b221-6af17deab2bf",
   "metadata": {},
   "outputs": [],
   "source": [
    "curve = Curve(\n",
    "    nodes={dt(2022, 12, 1): 1.0, dt(2023, 2, 1): 1.0}, \n",
    "    interpolation=\"log_linear\"\n",
    ")"
   ]
  },
  {
   "cell_type": "code",
   "execution_count": null,
   "id": "e7d887d4-7ed4-477e-b64b-08707dd27d27",
   "metadata": {},
   "outputs": [],
   "source": [
    "curve = Curve({\n",
    "    dt(2022, 12, 1): 1.0,\n",
    "    dt(2022, 12, 31): 1.0,\n",
    "    dt(2023, 1, 1): 1.0,\n",
    "    dt(2023, 2, 1): 1.0,\n",
    "}, interpolation=\"log_linear\")\n",
    "instruments = [\n",
    "    IRS(dt(2022, 12, 1), \"1d\", \"A\", curves=curve),\n",
    "    Spread(\n",
    "        IRS(dt(2022, 12, 30), \"1d\", \"A\", curves=curve),\n",
    "        IRS(dt(2022, 12, 31), \"1d\", \"A\", curves=curve),\n",
    "    ),\n",
    "    Spread(\n",
    "        IRS(dt(2022, 12, 31), \"1d\", \"A\", curves=curve),\n",
    "        IRS(dt(2023, 1, 1), \"1d\", \"A\", curves=curve),\n",
    "    ), \n",
    "]\n",
    "solver = Solver(curves=[curve], instruments=instruments, s=[0.0, -0.5, 0.5])"
   ]
  },
  {
   "cell_type": "code",
   "execution_count": null,
   "id": "ba791a79-f913-44ff-8631-c4c65b9a9a28",
   "metadata": {},
   "outputs": [],
   "source": [
    "instruments = [\n",
    "    IRS(dt(2022, 12, 1), \"1d\", \"A\", curves=curve),\n",
    "    Spread(\n",
    "        IRS(dt(2022, 12, 30), \"1d\", \"A\", curves=curve),\n",
    "        IRS(dt(2022, 12, 31), \"1d\", \"A\", curves=curve),\n",
    "    ),\n",
    "    IRS(dt(2023, 1, 1), \"1d\", \"A\", curves=curve),\n",
    "]\n",
    "solver = Solver(curves=[curve], instruments=instruments, s=[0.0, -50.0, 0.0])"
   ]
  },
  {
   "cell_type": "code",
   "execution_count": null,
   "id": "c662bd2b-118c-4016-9c24-d8141d5c3a2c",
   "metadata": {},
   "outputs": [],
   "source": [
    "curve.plot(\"1b\")"
   ]
  },
  {
   "cell_type": "code",
   "execution_count": null,
   "id": "93a4f1b0-cacc-4e3c-933f-6305b21b3d0f",
   "metadata": {},
   "outputs": [],
   "source": [
    "linecurve = LineCurve({\n",
    "        dt(2022, 12, 1): 0.0,\n",
    "        dt(2022, 12, 31): -50.0,\n",
    "        dt(2023, 1, 1): 0.0,\n",
    "}, interpolation=\"flat_forward\")\n",
    "instruments = [\n",
    "    Value(dt(2022, 12, 1), curves=linecurve),\n",
    "    Value(dt(2022, 12, 31), curves=linecurve),\n",
    "    Value(dt(2023, 1, 1), curves=linecurve),\n",
    "]\n",
    "solver = Solver(curves=[linecurve], instruments=instruments, s=[0.0, -0.5, 0.0])\n",
    "linecurve.plot(\"1b\", right=dt(2023, 2, 1))"
   ]
  },
  {
   "cell_type": "markdown",
   "id": "596da5c8-04c9-4668-a8ec-755c788e5d77",
   "metadata": {},
   "source": [
    "### Injecting turns to spline curves"
   ]
  },
  {
   "cell_type": "code",
   "execution_count": null,
   "id": "2545ff72-0a2c-46e3-a1bb-ab0ef94f211d",
   "metadata": {},
   "outputs": [],
   "source": [
    "turn_curve = Curve({\n",
    "    dt(2022, 12, 1): 1.0,\n",
    "    dt(2022, 12, 31): 1.0,\n",
    "    dt(2023, 1, 1): 1.0,\n",
    "    dt(2023, 2, 1): 1.0,\n",
    "}, interpolation=\"log_linear\")\n",
    "cubic_curve = Curve({\n",
    "    dt(2022, 12, 1): 1.0,\n",
    "    dt(2022, 12, 21): 1.0,\n",
    "    dt(2023, 1, 11): 1.0,\n",
    "    dt(2023, 2, 1): 1.0,\n",
    "}, t = [\n",
    "    dt(2022, 12, 1), dt(2022, 12, 1), dt(2022, 12, 1), dt(2022, 12, 1),\n",
    "    dt(2022, 12, 21),\n",
    "    dt(2023, 1, 11),\n",
    "    dt(2023, 2, 1), dt(2023, 2, 1), dt(2023, 2, 1), dt(2023, 2, 1),\n",
    "])\n",
    "composite_curve = CompositeCurve([turn_curve, cubic_curve])\n",
    "instruments = [\n",
    "    IRS(dt(2022, 12, 1), \"1d\", \"A\", curves=turn_curve),\n",
    "    Spread(\n",
    "        IRS(dt(2022, 12, 30), \"1d\", \"A\", curves=turn_curve),\n",
    "        IRS(dt(2022, 12, 31), \"1d\", \"A\", curves=turn_curve),\n",
    "    ),\n",
    "    IRS(dt(2023, 1, 1), \"1d\", \"A\", curves=turn_curve),\n",
    "    IRS(dt(2022, 12, 1), \"20d\", \"A\", curves=composite_curve),\n",
    "    IRS(dt(2022, 12, 21), \"20d\", \"A\", curves=composite_curve),\n",
    "    IRS(dt(2023, 1, 11), \"18d\", \"A\", curves=composite_curve),\n",
    "]\n",
    "solver = Solver(\n",
    "    curves=[turn_curve, cubic_curve, composite_curve], \n",
    "    instruments=instruments, \n",
    "    s=[0.0, -50.0, 0.0, 2.01, 2.175, 2.35],\n",
    "    instrument_labels=[\"zero1\", \"turn\", \"zero2\", \"irs1\", \"irs2\", \"irs3\"],\n",
    ")"
   ]
  },
  {
   "cell_type": "code",
   "execution_count": null,
   "id": "f418e922-efc7-4eb6-a715-46a5b12ae319",
   "metadata": {},
   "outputs": [],
   "source": [
    "composite_curve.plot(\"1b\")"
   ]
  },
  {
   "cell_type": "markdown",
   "id": "a95663da-9904-4d57-9990-ffb3f9509672",
   "metadata": {},
   "source": [
    "### Irrational turns on tenor curves"
   ]
  },
  {
   "cell_type": "code",
   "execution_count": null,
   "id": "e94c4fbc-7a59-46bc-9770-3c115c82c298",
   "metadata": {},
   "outputs": [],
   "source": [
    "turn_curve = LineCurve({\n",
    "    dt(2022, 9, 15): 0.0,\n",
    "    dt(2022, 10, 1): -0.20,\n",
    "    dt(2023, 1, 1): 0.0,\n",
    "}, interpolation=\"flat_forward\")\n",
    "fading_turn_curve = LineCurve({\n",
    "    dt(2022, 9, 15): 0.0,\n",
    "    dt(2022, 9, 30): 0.0,\n",
    "    dt(2022, 10, 1): -0.20,\n",
    "    dt(2022, 12, 31): -0.04,\n",
    "    dt(2023, 1, 1): 0.0,\n",
    "    dt(2023, 3, 15): 0.0,\n",
    "}, interpolation=\"linear\")"
   ]
  },
  {
   "cell_type": "code",
   "execution_count": null,
   "id": "322b92ab-e10f-47b0-8847-5ae6e0eb5768",
   "metadata": {},
   "outputs": [],
   "source": [
    "line_curve = LineCurve({\n",
    "    dt(2022, 9, 15): 1.0,\n",
    "    dt(2022, 12, 15): 1.0,\n",
    "    dt(2023, 3, 15): 1.0,\n",
    "}, interpolation=\"linear\")\n",
    "composite_curve=CompositeCurve([fading_turn_curve, line_curve], id=\"cc\")\n",
    "instruments = [\n",
    "    Value(dt(2022, 9, 15), curves=fading_turn_curve),\n",
    "    Value(dt(2022, 9, 30), curves=fading_turn_curve),\n",
    "    Value(dt(2022, 10, 1), curves=fading_turn_curve),\n",
    "    Value(dt(2022, 12, 31), curves=fading_turn_curve),\n",
    "    Value(dt(2023, 1, 1), curves=fading_turn_curve),\n",
    "    Value(dt(2023, 3, 15), curves=fading_turn_curve),\n",
    "    Value(dt(2022, 9, 15), curves=composite_curve),\n",
    "    Value(dt(2022, 12, 15), curves=composite_curve),\n",
    "    Value(dt(2023, 3, 15), curves=composite_curve),\n",
    "]\n",
    "solver = Solver(\n",
    "    curves=[fading_turn_curve, line_curve, composite_curve], \n",
    "    instruments=instruments, \n",
    "    s=[0.0, 0.0, -0.2, -0.04, 0.0, 0.0, 3.5, 3.7, 4.05],\n",
    "    instrument_labels=[\"zero1\", \"zero2\", \"turnA\", \"turnB\", \"zero3\", \"zero4\", \"fra1\", \"fra2\", \"fra3\"],\n",
    ")"
   ]
  },
  {
   "cell_type": "code",
   "execution_count": null,
   "id": "de87d60c-351e-4e19-b380-a4d24b97b956",
   "metadata": {},
   "outputs": [],
   "source": [
    "composite_curve.plot(\"1b\")"
   ]
  },
  {
   "cell_type": "markdown",
   "id": "5b810412-99f3-4192-8b67-a3beeee18fb4",
   "metadata": {},
   "source": [
    "# Analysing roll on trade strategies"
   ]
  },
  {
   "cell_type": "code",
   "execution_count": null,
   "id": "74f4c34a-ff5d-4c34-9fa1-ad208e13d8cf",
   "metadata": {},
   "outputs": [],
   "source": [
    "curve = Curve(\n",
    "    nodes={\n",
    "        dt(2024, 1, 1): 1.0,\n",
    "        dt(2025, 1, 1): 0.96,\n",
    "        dt(2026, 1, 1): 0.935,\n",
    "        dt(2027, 1, 1): 0.915,\n",
    "    },\n",
    "    convention=\"act360\",\n",
    "    t=[\n",
    "        dt(2024, 1, 1), dt(2024, 1, 1), dt(2024, 1, 1), dt(2024, 1, 1),\n",
    "        dt(2025, 1, 1), dt(2026, 1, 1),\n",
    "        dt(2027, 1, 1), dt(2027, 1, 1), dt(2027, 1, 1), dt(2027, 1, 1)\n",
    "    ],\n",
    ")\n",
    "irs = IRS(\n",
    "    effective=dt(2024, 1, 1),\n",
    "    termination=\"18m\",\n",
    "    spec=\"usd_irs\",\n",
    ")\n",
    "irs.rate(curve)"
   ]
  },
  {
   "cell_type": "code",
   "execution_count": null,
   "id": "179e8bac-63d9-4eef-a61d-25d284dd7a76",
   "metadata": {},
   "outputs": [],
   "source": [
    "irs.rate(curve.roll(\"6w\"))"
   ]
  },
  {
   "cell_type": "markdown",
   "id": "066f8cf4-47e3-46cf-adff-8487abbf3e17",
   "metadata": {},
   "source": [
    "# Stepping underspecified Curves on central bank effective dates"
   ]
  },
  {
   "cell_type": "code",
   "execution_count": null,
   "id": "118da85c-15bb-46ff-902a-c2cd40893073",
   "metadata": {},
   "outputs": [],
   "source": [
    "curve = Curve(\n",
    "    nodes={\n",
    "        dt(2024, 1, 31): 1.00, dt(2024, 2, 2): 1.00, dt(2024, 3, 13): 1.00, \n",
    "        dt(2024, 4, 17): 1.0, dt(2024, 6, 12): 1.0, dt(2024, 7, 24): 1.0,\n",
    "        dt(2024, 9, 18): 1.0, dt(2024, 10, 23): 1.0, dt(2024, 12, 18): 1.0,\n",
    "        dt(2025, 1, 29): 1.0, dt(2025, 7, 31): 1.0,\n",
    "    },\n",
    "    convention=\"act360\", interpolation=\"log_linear\", calendar=\"tgt\", id=\"estr\",\n",
    ")\n",
    "instruments = [\n",
    "    IRS(dt(2024, 1, 31), \"1b\", spec=\"eur_irs\", curves=\"estr\"),  # O/N rate\n",
    "    IRS(dt(2024, 2, 2), dt(2024, 3, 13), spec=\"eur_irs\", curves=\"estr\"),  # MPC\n",
    "    IRS(dt(2024, 3, 13), dt(2024, 4, 17), spec=\"eur_irs\", curves=\"estr\"),  # MPC\n",
    "    IRS(dt(2024, 3, 20), dt(2024, 6, 19), spec=\"eur_irs\", curves=\"estr\"),  # IMM\n",
    "    IRS(dt(2024, 6, 19), dt(2024, 9, 18), spec=\"eur_irs\", curves=\"estr\"),  # IMM\n",
    "    IRS(dt(2024, 9, 18), dt(2024, 12, 18), spec=\"eur_irs\", curves=\"estr\"),  # IMM\n",
    "    IRS(dt(2024, 12, 18), dt(2025, 3, 19), spec=\"eur_irs\", curves=\"estr\"),  # IMM\n",
    "]\n",
    "pps = [  # policy periods\n",
    "    IRS(dt(2024, 2, 2), dt(2024, 3, 13), spec=\"eur_irs\", curves=\"estr\"),  # MPC\n",
    "    IRS(dt(2024, 3, 13), dt(2024, 4, 17), spec=\"eur_irs\", curves=\"estr\"),  # MPC\n",
    "    IRS(dt(2024, 4, 17), dt(2024, 6, 12), spec=\"eur_irs\", curves=\"estr\"),  # MPC\n",
    "    IRS(dt(2024, 6, 12), dt(2024, 7, 24), spec=\"eur_irs\", curves=\"estr\"),  # MPC\n",
    "    IRS(dt(2024, 7, 24), dt(2024, 9, 18), spec=\"eur_irs\", curves=\"estr\"),  # MPC\n",
    "    IRS(dt(2024, 9, 18), dt(2024, 10, 2), spec=\"eur_irs\", curves=\"estr\"),  # MPC\n",
    "    IRS(dt(2024, 10, 23), dt(2024, 12, 18), spec=\"eur_irs\", curves=\"estr\"),  # MPC\n",
    "    IRS(dt(2024, 12, 18), dt(2025, 1, 29), spec=\"eur_irs\", curves=\"estr\"),  # MPC\n",
    "    IRS(dt(2025, 1, 29), dt(2025, 3, 15), spec=\"eur_irs\", curves=\"estr\"),  # MPC\n",
    "]\n",
    "curvature = [\n",
    "    Fly(pps[2], pps[3], pps[4]), \n",
    "    Fly(pps[4], pps[5], pps[6]), \n",
    "    Fly(pps[6], pps[7], pps[8]),\n",
    "]\n",
    "solver = Solver(\n",
    "    curves=[curve],\n",
    "    instruments=instruments+curvature,\n",
    "    weights=[1.0] * 7 + [1e-8] * 3,\n",
    "    s=[3.899, 3.904, 3.859, 3.692, 3.215, 2.725, 2.37] + [0.0] * 3,\n",
    "    instrument_labels=[\n",
    "        \"depo\", \"1r\", \"2r\", \"1f\", \"2f\", \"3f\", \"4f\", \"cv0\", \"cv1\", \"cv2\"\n",
    "    ],\n",
    ")"
   ]
  },
  {
   "cell_type": "code",
   "execution_count": null,
   "id": "bc6cdbaa-255c-4c33-b163-0d2a14a0f57a",
   "metadata": {},
   "outputs": [],
   "source": [
    "curve.plot(\"1b\")"
   ]
  }
 ],
 "metadata": {
  "kernelspec": {
   "display_name": "Python 3 (ipykernel)",
   "language": "python",
   "name": "python3"
  },
  "language_info": {
   "codemirror_mode": {
    "name": "ipython",
    "version": 3
   },
   "file_extension": ".py",
   "mimetype": "text/x-python",
   "name": "python",
   "nbconvert_exporter": "python",
   "pygments_lexer": "ipython3",
   "version": "3.12.4"
  }
 },
 "nbformat": 4,
 "nbformat_minor": 5
}
