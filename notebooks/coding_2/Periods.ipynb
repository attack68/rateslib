{
 "cells": [
  {
   "cell_type": "code",
   "execution_count": null,
   "id": "49c1059d-3472-4797-a9a2-ae7efbc9ba1d",
   "metadata": {},
   "outputs": [],
   "source": [
    "from rateslib import Curve, FloatPeriod, dt, defaults"
   ]
  },
  {
   "cell_type": "markdown",
   "id": "ce44b389-41a3-4a48-8dad-9d9601eddc8e",
   "metadata": {},
   "source": [
    "# Expression of fixings risk in fixings table"
   ]
  },
  {
   "cell_type": "code",
   "execution_count": null,
   "id": "7390a465-ddd6-424f-a417-98a4a6e5e310",
   "metadata": {},
   "outputs": [],
   "source": [
    "curve = Curve ({dt(2022, 1, 1): 1.0 , dt(2025, 1, 1): 0.94},\n",
    "               id=\"euribor3m\", calendar=\"tgt\", convention=\"act360\"\n",
    ")"
   ]
  },
  {
   "cell_type": "code",
   "execution_count": null,
   "id": "2d803cf3-ec6b-415f-97d9-d7d70fa511b3",
   "metadata": {},
   "outputs": [],
   "source": [
    "imm_fp = FloatPeriod (\n",
    "    start=dt(2023, 3, 15),\n",
    "    end=dt(2023, 6, 21), # <--- IMM start and end dates\n",
    "    payment=dt(2023, 6, 21),\n",
    "    frequency=\"q\",\n",
    "    convention=\"act360\",\n",
    "    calendar=\"tgt\",\n",
    "    fixing_method=\"ibor\",\n",
    "    method_param=2,\n",
    "    notional=-1e6 # <-- Notional for period is -1mm\n",
    " )\n",
    "imm_fp.fixings_table(curve)"
   ]
  },
  {
   "cell_type": "code",
   "execution_count": null,
   "id": "b6cbb243-dbc1-4d95-8a5d-9227e582a542",
   "metadata": {},
   "outputs": [],
   "source": [
    "curve2 = Curve ({dt(2022, 1, 1): 1.0 , dt(2025, 1, 1): 0.94} ,\n",
    "                id=\"euribor1m\", calendar=\"tgt\", convention=\"act360\"\n",
    ")\n",
    "\n",
    "stub_fp = FloatPeriod (\n",
    "    start=dt(2022, 3, 14),\n",
    "    end=dt(2022, 5, 14), # <--- 2M stub tenor\n",
    "    payment =dt(2022, 5, 14),\n",
    "    frequency=\"q\",\n",
    "    convention=\"act360\",\n",
    "    calendar=\"tgt\",\n",
    "    fixing_method=\"ibor\",\n",
    "    method_param=2,\n",
    "    notional=-1e6 ,\n",
    "    stub=True,\n",
    ")\n",
    "stub_fp.fixings_table({\"1m\": curve2 , \"3m\": curve}, disc_curve=curve2)"
   ]
  },
  {
   "cell_type": "code",
   "execution_count": null,
   "id": "784ed642-54b7-4864-89cc-4d4d7d5c4805",
   "metadata": {},
   "outputs": [],
   "source": [
    "defaults.curve_caching = False"
   ]
  },
  {
   "cell_type": "code",
   "execution_count": null,
   "id": "ce13bfea-17a0-436c-aaab-ae9dfee8d2b8",
   "metadata": {},
   "outputs": [],
   "source": [
    "curve = Curve ({ dt(2022, 1, 4): 1.0, dt(2023, 1, 4): 0.98}, calendar=\"ldn\")\n",
    "float_period = FloatPeriod(start=dt(2022, 1, 4), end=dt(2023, 1, 4),\n",
    "                           payment=dt(2023, 1, 4) ,frequency =\"A\",\n",
    "                           fixing_method=\"rfr_lookback\", method_param=0)\n",
    "\n",
    "%timeit float_period.fixings_table(curve)"
   ]
  },
  {
   "cell_type": "code",
   "execution_count": null,
   "id": "46902d71-7080-48d5-83d0-5ef250329709",
   "metadata": {},
   "outputs": [],
   "source": [
    "%timeit float_period.fixings_table(curve, approximate=True)"
   ]
  }
 ],
 "metadata": {
  "kernelspec": {
   "display_name": "Python 3 (ipykernel)",
   "language": "python",
   "name": "python3"
  },
  "language_info": {
   "codemirror_mode": {
    "name": "ipython",
    "version": 3
   },
   "file_extension": ".py",
   "mimetype": "text/x-python",
   "name": "python",
   "nbconvert_exporter": "python",
   "pygments_lexer": "ipython3",
   "version": "3.12.0"
  }
 },
 "nbformat": 4,
 "nbformat_minor": 5
}
