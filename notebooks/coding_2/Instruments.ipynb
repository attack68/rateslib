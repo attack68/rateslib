{
 "cells": [
  {
   "cell_type": "code",
   "execution_count": null,
   "id": "07490ad9-c75c-403e-83d5-9f808360b49e",
   "metadata": {},
   "outputs": [],
   "source": [
    "from rateslib import FixedRateBond, dt, Bill, IndexFixedRateBond"
   ]
  },
  {
   "cell_type": "markdown",
   "id": "e8200863-fdbf-499f-82f0-88298eced48f",
   "metadata": {},
   "source": [
    "# Bond analogue methods"
   ]
  },
  {
   "cell_type": "code",
   "execution_count": null,
   "id": "42cba7c3-f7e0-43df-8b3b-0d9a8c5f2367",
   "metadata": {},
   "outputs": [],
   "source": [
    "bond = FixedRateBond (\n",
    "    effective=dt(2022, 1, 1) ,\n",
    "    termination=dt(2023, 1, 1) ,\n",
    "    fixed_rate=5.0,\n",
    "    spec =\"uk_gb\",\n",
    ")\n",
    "bond.accrued(dt(2022, 4, 15))"
   ]
  },
  {
   "cell_type": "code",
   "execution_count": null,
   "id": "1725b831-3372-4100-a24e-2dc1a6b0b4d9",
   "metadata": {},
   "outputs": [],
   "source": [
    "bond = FixedRateBond (\n",
    "    effective=dt(2022, 1, 1) ,\n",
    "    termination=dt(2023, 1, 1) ,\n",
    "    fixed_rate=5.0,\n",
    "    spec =\"ca_gb\",\n",
    ")\n",
    "bond.accrued(dt(2022, 4, 15))"
   ]
  },
  {
   "cell_type": "markdown",
   "id": "3cdcce1b-f71a-4104-82c8-f6cc60063409",
   "metadata": {},
   "source": [
    "### YTM iteration"
   ]
  },
  {
   "cell_type": "code",
   "execution_count": null,
   "id": "3c943458-8b8b-4a67-9ea6-f6e31dbc8e2b",
   "metadata": {},
   "outputs": [],
   "source": [
    "bond = FixedRateBond (\n",
    "    effective=dt(2000 , 1, 1) , termination =dt(2010 , 1, 1) ,\n",
    "    fixed_rate=2.5 , spec=\"us_gb\"\n",
    ")\n",
    "bond.ytm(95.0, settlement=dt(2000, 7, 1))\n",
    "# ( -3.0000 , 2.0000 , 12.0000) - Initial interval requires 4 function evaluations\n",
    "# (2.0000 , 3.2858 , 12.0000) - Second interval requires 1 function evaluation\n",
    "# (2.0000 , 3.1063 , 3.2858) - Third interval requires 1 function evaluation\n",
    "# (3.1063 , 3.1120 , 3.2858) - Fourth interval requires 1 function evaluation"
   ]
  },
  {
   "cell_type": "markdown",
   "id": "7abe6651-eb34-466f-9b5f-745da0b8dcb2",
   "metadata": {},
   "source": [
    "# Bills"
   ]
  },
  {
   "cell_type": "code",
   "execution_count": null,
   "id": "1c5d9f53-aea1-4307-836d-5338cff04346",
   "metadata": {},
   "outputs": [],
   "source": [
    "bill = Bill(\n",
    "    effective=dt(2023, 5, 17),\n",
    "    termination=dt(2023, 9, 26),\n",
    "    spec=\"us_gbb\"\n",
    ")\n",
    "bill.ytm(99.75, settlement=dt(2023 , 9, 7))"
   ]
  },
  {
   "cell_type": "code",
   "execution_count": null,
   "id": "5a24a850-47c8-41fd-b6a3-b5f7fd3806d7",
   "metadata": {},
   "outputs": [],
   "source": [
    "bond = FixedRateBond (\n",
    "    effective=dt(2023, 3, 26),\n",
    "    termination=dt(2023, 9, 26),\n",
    "    fixed_rate=0.0,\n",
    "    spec=\"us_gb\",\n",
    ")\n",
    "bond.ytm(99.75, settlement=dt(2023, 9, 7))"
   ]
  },
  {
   "cell_type": "markdown",
   "id": "778325e0-6d64-4215-8218-1484fce9e643",
   "metadata": {},
   "source": [
    "# Inflation Linked"
   ]
  },
  {
   "cell_type": "code",
   "execution_count": null,
   "id": "b4b0c470-fc27-47cd-a6ca-c8c839b12958",
   "metadata": {},
   "outputs": [],
   "source": [
    "ukt = FixedRateBond (\n",
    "    spec =\"uk_gb\",\n",
    "    effective =dt (2022 , 2, 1) ,\n",
    "    termination =\"2y\",\n",
    "    fixed_rate =2.5 ,\n",
    ")\n",
    "ukt.price(ytm=3.0, settlement=dt(2023 , 10, 1))"
   ]
  },
  {
   "cell_type": "code",
   "execution_count": null,
   "id": "5afffec3-c117-44bf-b4e5-7a027391cde9",
   "metadata": {},
   "outputs": [],
   "source": [
    "ukti = IndexFixedRateBond (\n",
    "    spec=\"uk_gbi\",\n",
    "    effective=dt(2022, 2, 1) ,\n",
    "    termination=\"2y\",\n",
    "    fixed_rate=2.5,\n",
    "    index_base=100.0,\n",
    ")\n",
    "ukti.price(ytm=3.0, settlement=dt(2023 , 10, 1))"
   ]
  },
  {
   "cell_type": "code",
   "execution_count": null,
   "id": "13397bf0-a8e8-413f-a4e4-d1af737fa97e",
   "metadata": {},
   "outputs": [],
   "source": []
  },
  {
   "cell_type": "code",
   "execution_count": null,
   "id": "e0e9a2c5-b929-4582-8ca5-40b38ca57562",
   "metadata": {},
   "outputs": [],
   "source": []
  },
  {
   "cell_type": "code",
   "execution_count": null,
   "id": "456eef8f-0b15-4a51-a584-869c6d8c29d9",
   "metadata": {},
   "outputs": [],
   "source": []
  }
 ],
 "metadata": {
  "kernelspec": {
   "display_name": "Python 3 (ipykernel)",
   "language": "python",
   "name": "python3"
  },
  "language_info": {
   "codemirror_mode": {
    "name": "ipython",
    "version": 3
   },
   "file_extension": ".py",
   "mimetype": "text/x-python",
   "name": "python",
   "nbconvert_exporter": "python",
   "pygments_lexer": "ipython3",
   "version": "3.12.0"
  }
 },
 "nbformat": 4,
 "nbformat_minor": 5
}
