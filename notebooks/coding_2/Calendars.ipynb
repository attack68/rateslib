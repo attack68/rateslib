{
 "cells": [
  {
   "cell_type": "code",
   "execution_count": 1,
   "id": "2362d250-6e1f-43d3-a853-4e53db61ef19",
   "metadata": {},
   "outputs": [],
   "source": [
    "from rateslib import *"
   ]
  },
  {
   "cell_type": "markdown",
   "id": "7c691656-ba4f-4278-8849-a75fc13b83f8",
   "metadata": {},
   "source": [
    "# Timings"
   ]
  },
  {
   "cell_type": "code",
   "execution_count": 2,
   "id": "0d8d2453-d45d-44a1-9794-31f9315f2de4",
   "metadata": {},
   "outputs": [
    {
     "name": "stdout",
     "output_type": "stream",
     "text": [
      "124 ns ± 2.26 ns per loop (mean ± std. dev. of 7 runs, 10,000,000 loops each)\n"
     ]
    }
   ],
   "source": [
    "%timeit get_calendar(\"ldn\")"
   ]
  },
  {
   "cell_type": "code",
   "execution_count": 3,
   "id": "375dc5c5-afbb-43a4-bd45-abb989ce3057",
   "metadata": {},
   "outputs": [
    {
     "name": "stdout",
     "output_type": "stream",
     "text": [
      "517 μs ± 3.48 μs per loop (mean ± std. dev. of 7 runs, 1,000 loops each)\n"
     ]
    }
   ],
   "source": [
    "cal = get_calendar(\"ldn\")\n",
    "holidays = cal.holidays\n",
    "%timeit Cal(holidays=holidays, week_mask=[5,6])"
   ]
  },
  {
   "cell_type": "code",
   "execution_count": 4,
   "id": "9096fea1-5cf6-4866-8f2d-2f549092be48",
   "metadata": {},
   "outputs": [
    {
     "name": "stdout",
     "output_type": "stream",
     "text": [
      "1.64 ms ± 5.37 μs per loop (mean ± std. dev. of 7 runs, 1,000 loops each)\n"
     ]
    }
   ],
   "source": [
    "%timeit get_calendar(\"ldn,tgt,fed\", named=True)"
   ]
  },
  {
   "cell_type": "code",
   "execution_count": 5,
   "id": "07ef7035-3406-4f6f-91fe-5232599ee91c",
   "metadata": {},
   "outputs": [
    {
     "name": "stdout",
     "output_type": "stream",
     "text": [
      "1.99 ms ± 21.1 μs per loop (mean ± std. dev. of 7 runs, 100 loops each)\n"
     ]
    }
   ],
   "source": [
    "def union_cal():\n",
    "    c1 = Cal(holidays=get_calendar(\"ldn\", named=False).holidays, week_mask=[5,6])\n",
    "    c2 = Cal(holidays=get_calendar(\"tgt\", named=False).holidays, week_mask=[5,6])\n",
    "    return UnionCal([c1, c2])\n",
    "\n",
    "%timeit union_cal()"
   ]
  },
  {
   "cell_type": "code",
   "execution_count": 6,
   "id": "670af479-7d43-4a3b-865f-9154ba45e868",
   "metadata": {},
   "outputs": [
    {
     "data": {
      "text/plain": [
       "{'all': <rateslib.rs.NamedCal at 0x110804630>,\n",
       " 'bus': <rateslib.rs.NamedCal at 0x110807c30>,\n",
       " 'tgt': <rateslib.rs.NamedCal at 0x110807e70>,\n",
       " 'ldn': <rateslib.rs.NamedCal at 0x110806af0>,\n",
       " 'nyc': <rateslib.rs.NamedCal at 0x110806e50>,\n",
       " 'fed': <rateslib.rs.NamedCal at 0x110805290>,\n",
       " 'stk': <rateslib.rs.NamedCal at 0x110806f70>,\n",
       " 'osl': <rateslib.rs.NamedCal at 0x110806fd0>,\n",
       " 'zur': <rateslib.rs.NamedCal at 0x1108045d0>,\n",
       " 'tro': <rateslib.rs.NamedCal at 0x11083c030>,\n",
       " 'tyo': <rateslib.rs.NamedCal at 0x11083c090>,\n",
       " 'syd': <rateslib.rs.NamedCal at 0x11083c0f0>,\n",
       " 'wlg': <rateslib.rs.NamedCal at 0x11083c150>,\n",
       " 'mum': <rateslib.rs.NamedCal at 0x11083c1b0>}"
      ]
     },
     "execution_count": 6,
     "metadata": {},
     "output_type": "execute_result"
    }
   ],
   "source": [
    "defaults.calendars"
   ]
  },
  {
   "cell_type": "code",
   "execution_count": 7,
   "id": "3db567be-5110-41e5-a36e-c8a7c8fd9445",
   "metadata": {},
   "outputs": [],
   "source": [
    "defaults.calendars[\"ldn,tgt\"] = get_calendar(\"ldn,tgt\")"
   ]
  },
  {
   "cell_type": "code",
   "execution_count": 8,
   "id": "b879168b-4322-4532-99af-6207bc5aa64c",
   "metadata": {},
   "outputs": [
    {
     "data": {
      "text/plain": [
       "{'all': <rateslib.rs.NamedCal at 0x110804630>,\n",
       " 'bus': <rateslib.rs.NamedCal at 0x110807c30>,\n",
       " 'tgt': <rateslib.rs.NamedCal at 0x110807e70>,\n",
       " 'ldn': <rateslib.rs.NamedCal at 0x110806af0>,\n",
       " 'nyc': <rateslib.rs.NamedCal at 0x110806e50>,\n",
       " 'fed': <rateslib.rs.NamedCal at 0x110805290>,\n",
       " 'stk': <rateslib.rs.NamedCal at 0x110806f70>,\n",
       " 'osl': <rateslib.rs.NamedCal at 0x110806fd0>,\n",
       " 'zur': <rateslib.rs.NamedCal at 0x1108045d0>,\n",
       " 'tro': <rateslib.rs.NamedCal at 0x11083c030>,\n",
       " 'tyo': <rateslib.rs.NamedCal at 0x11083c090>,\n",
       " 'syd': <rateslib.rs.NamedCal at 0x11083c0f0>,\n",
       " 'wlg': <rateslib.rs.NamedCal at 0x11083c150>,\n",
       " 'mum': <rateslib.rs.NamedCal at 0x11083c1b0>,\n",
       " 'ldn,tgt': <rateslib.rs.NamedCal at 0x1109b9b30>}"
      ]
     },
     "execution_count": 8,
     "metadata": {},
     "output_type": "execute_result"
    }
   ],
   "source": [
    "defaults.calendars"
   ]
  },
  {
   "cell_type": "code",
   "execution_count": 9,
   "id": "e1a030ff-3403-4b5d-a271-7154c62e5597",
   "metadata": {},
   "outputs": [
    {
     "name": "stdout",
     "output_type": "stream",
     "text": [
      "147 ns ± 1.42 ns per loop (mean ± std. dev. of 7 runs, 10,000,000 loops each)\n"
     ]
    }
   ],
   "source": [
    "%timeit get_calendar(\"ldn,tgt\")"
   ]
  },
  {
   "cell_type": "code",
   "execution_count": null,
   "id": "6255d806-0820-424e-a3c8-67bc82b7950e",
   "metadata": {},
   "outputs": [],
   "source": []
  }
 ],
 "metadata": {
  "kernelspec": {
   "display_name": "Python 3 (ipykernel)",
   "language": "python",
   "name": "python3"
  },
  "language_info": {
   "codemirror_mode": {
    "name": "ipython",
    "version": 3
   },
   "file_extension": ".py",
   "mimetype": "text/x-python",
   "name": "python",
   "nbconvert_exporter": "python",
   "pygments_lexer": "ipython3",
   "version": "3.12.4"
  }
 },
 "nbformat": 4,
 "nbformat_minor": 5
}
