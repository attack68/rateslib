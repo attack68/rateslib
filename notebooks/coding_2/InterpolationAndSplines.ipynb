{
 "cells": [
  {
   "cell_type": "code",
   "execution_count": null,
   "id": "ac6cd685-e9ba-4813-ac98-c533012f10ed",
   "metadata": {},
   "outputs": [],
   "source": [
    "from rateslib import *\n",
    "from rateslib.splines import evaluate"
   ]
  },
  {
   "cell_type": "markdown",
   "id": "5e48d655-9a60-4381-9e29-4ae0cb4d63cd",
   "metadata": {},
   "source": [
    "# PPSpline with float values"
   ]
  },
  {
   "cell_type": "code",
   "execution_count": null,
   "id": "c733ce29-72df-4807-825a-4a3268d0a133",
   "metadata": {},
   "outputs": [],
   "source": [
    "spline = PPSplineF64(\n",
    "    k=4,\n",
    "    t=[_.timestamp() for _ in [\n",
    "        dt(2022, 1, 1), dt(2022, 1, 1), dt(2022, 1, 1), dt(2022, 1, 1),\n",
    "        dt(2023, 1, 1),\n",
    "        dt(2024, 1, 1), dt(2024, 1, 1), dt(2024, 1, 1), dt(2024, 1, 1)\n",
    "    ]]\n",
    ")"
   ]
  },
  {
   "cell_type": "code",
   "execution_count": null,
   "id": "29c3f337-4cbc-46e3-8ff5-e8e4b6cfc5a9",
   "metadata": {},
   "outputs": [],
   "source": [
    "spline.bsplmatrix(\n",
    "    tau=[_.timestamp() for _ in [\n",
    "        dt(2022, 1, 1), dt(2022, 1, 1), dt(2023, 1, 1), dt(2024, 1, 1), dt(2024, 1, 1)\n",
    "    ]],\n",
    "    left_n=2,\n",
    "    right_n=2\n",
    ")"
   ]
  },
  {
   "cell_type": "code",
   "execution_count": null,
   "id": "17c307c9-b798-47ee-910e-55cf57becc14",
   "metadata": {},
   "outputs": [],
   "source": [
    "spline.csolve(\n",
    "    tau=[_.timestamp() for _ in [\n",
    "        dt(2022, 1, 1), dt(2022, 1, 1), dt(2023, 1, 1), dt(2024, 1, 1), dt(2024, 1, 1)\n",
    "    ]],\n",
    "    y=[0.0, 1.5, 1.85, 1.80, 0.0],\n",
    "    left_n=2,\n",
    "    right_n=2,\n",
    "    allow_lsq=False,\n",
    ")"
   ]
  },
  {
   "cell_type": "code",
   "execution_count": null,
   "id": "aaa86c7a-d11d-45d6-815b-88c3220a55bb",
   "metadata": {},
   "outputs": [],
   "source": [
    "spline.c"
   ]
  },
  {
   "cell_type": "markdown",
   "id": "18c744d3-51a9-473b-99e3-1bb4c0b133a8",
   "metadata": {},
   "source": [
    "# Log-spline to DFs"
   ]
  },
  {
   "cell_type": "code",
   "execution_count": null,
   "id": "9b59245c-cf58-4a61-8603-ca751f0093cd",
   "metadata": {},
   "outputs": [],
   "source": [
    "from math import log, exp\n",
    "from datetime import timedelta\n",
    "\n",
    "log_spline = PPSplineF64(\n",
    "    k=4,\n",
    "    t=[_.timestamp() for _ in [\n",
    "        dt(2022, 1, 1), dt(2022, 1, 1), dt(2022, 1, 1), dt(2022, 1, 1),\n",
    "        dt(2023, 1, 1),\n",
    "        dt(2024, 1, 1), dt(2024, 1, 1), dt(2024, 1, 1), dt(2024, 1, 1)\n",
    "    ]]\n",
    ")\n",
    "log_spline.csolve(\n",
    "    tau=[_.timestamp() for _ in [\n",
    "        dt(2022,1,1), dt(2022,1,1), dt(2023,1,1), dt(2024,1,1), dt(2024,1,1)\n",
    "    ]], \n",
    "    y=[0, log(1.0), log(0.983), log(0.964), 0],\n",
    "    left_n=2,\n",
    "    right_n=2,\n",
    "    allow_lsq=False,\n",
    ")\n",
    "log_spline.c"
   ]
  },
  {
   "cell_type": "code",
   "execution_count": null,
   "id": "eb7d47f8-e4db-4815-bf0c-a1b2f6e27a15",
   "metadata": {},
   "outputs": [],
   "source": [
    "import matplotlib.pyplot as plt\n",
    "x = [_.timestamp() for _ in [\n",
    "    dt(2022, 1, 1) + timedelta(days=i) for i in range(720)]]\n",
    "fix, ax = plt.subplots(1,1)\n",
    "ax.plot(x, [exp(log_spline.ppev_single(_)) for _ in x])\n",
    "    "
   ]
  },
  {
   "cell_type": "code",
   "execution_count": null,
   "id": "e2bf152c-20a4-4810-8e61-e7ae0584d0fa",
   "metadata": {},
   "outputs": [],
   "source": []
  }
 ],
 "metadata": {
  "kernelspec": {
   "display_name": "Python 3 (ipykernel)",
   "language": "python",
   "name": "python3"
  },
  "language_info": {
   "codemirror_mode": {
    "name": "ipython",
    "version": 3
   },
   "file_extension": ".py",
   "mimetype": "text/x-python",
   "name": "python",
   "nbconvert_exporter": "python",
   "pygments_lexer": "ipython3",
   "version": "3.13.0"
  }
 },
 "nbformat": 4,
 "nbformat_minor": 5
}
