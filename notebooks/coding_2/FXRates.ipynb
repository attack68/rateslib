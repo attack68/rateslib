{
 "cells": [
  {
   "cell_type": "code",
   "execution_count": null,
   "id": "48397019-8e34-4802-9f82-eba040e083fd",
   "metadata": {},
   "outputs": [],
   "source": [
    "from rateslib import FXRates, FXForwards, Dual, dt, Curve, gradient\n",
    "import numpy as np"
   ]
  },
  {
   "cell_type": "markdown",
   "id": "26a71ddc-8f7a-4b70-a032-e80abfeded61",
   "metadata": {},
   "source": [
    "# Defined FXRates Systems - Errors"
   ]
  },
  {
   "cell_type": "code",
   "execution_count": null,
   "id": "9562c03a-5c29-4260-8470-392cc7ba21c1",
   "metadata": {},
   "outputs": [],
   "source": [
    "try:\n",
    "    FXRates(fx_rates={\"usdeur\": 0.9, \"noksek\": 1.10})\n",
    "except ValueError as e:\n",
    "    print(e)"
   ]
  },
  {
   "cell_type": "code",
   "execution_count": null,
   "id": "0d5680fe-26fc-4b37-babe-9b6156195eac",
   "metadata": {},
   "outputs": [],
   "source": [
    "try:\n",
    "    FXRates(fx_rates={\"usdeur\": 0.9, \"gbpusd\": 1.10, \"eurgbp\": 1.124})\n",
    "except ValueError as e:\n",
    "    print(e)"
   ]
  },
  {
   "cell_type": "code",
   "execution_count": null,
   "id": "8e89f984-8ae4-490a-8dd1-dad6e72159bb",
   "metadata": {},
   "outputs": [],
   "source": [
    "try:\n",
    "    FXRates ( fx_rates ={\" usdeur \": 0.90 , \" eurusd \": 1.11 , \" noksek \": 1.10})\n",
    "except ValueError as e:\n",
    "    print(e)"
   ]
  },
  {
   "cell_type": "markdown",
   "id": "79afcdf3-34ca-440b-94c1-85d58ad8303c",
   "metadata": {},
   "source": [
    "# FXRates Array"
   ]
  },
  {
   "cell_type": "code",
   "execution_count": null,
   "id": "9de92e9f-a7cd-4701-9900-510ba9d72cba",
   "metadata": {},
   "outputs": [],
   "source": [
    "fxr = FXRates({\"usdeur\": 2.0, \"usdgbp\": 2.5})\n",
    "from rateslib.dual.utils import _dual_float\n",
    "np.reshape([_dual_float(_) for _ in fxr.fx_array.ravel()], (3,3))"
   ]
  },
  {
   "cell_type": "code",
   "execution_count": null,
   "id": "e4595d60-9093-410c-a256-49e5faab4bc1",
   "metadata": {},
   "outputs": [],
   "source": [
    "fxr.rate(\"eurgbp\")"
   ]
  },
  {
   "cell_type": "markdown",
   "id": "7512e613-2166-4cdb-a48e-648ebb47fcfe",
   "metadata": {},
   "source": [
    "# Representation via Dual"
   ]
  },
  {
   "cell_type": "code",
   "execution_count": null,
   "id": "e9e9569b-2de9-49bb-8978-e6421721768f",
   "metadata": {},
   "outputs": [],
   "source": [
    "1e6  * (1/8.0)"
   ]
  },
  {
   "cell_type": "code",
   "execution_count": null,
   "id": "4d5d77d6-8b33-4b1b-8153-fa16531149f1",
   "metadata": {},
   "outputs": [],
   "source": [
    "fxr = FXRates({\"usdnok\": 8.0})\n",
    "fxr.convert(1e6, \"nok\", \"usd\")"
   ]
  },
  {
   "cell_type": "code",
   "execution_count": null,
   "id": "9ba025b2-e121-4875-8d93-daebc796e967",
   "metadata": {},
   "outputs": [],
   "source": [
    "fxr._set_ad_order(2)\n",
    "fxr.convert(1e6, \"nok\", \"usd\")"
   ]
  },
  {
   "cell_type": "markdown",
   "id": "40b16a07-dd1d-46e3-a3cc-413dd874fe6f",
   "metadata": {},
   "source": [
    "# Cash positions and base value"
   ]
  },
  {
   "cell_type": "code",
   "execution_count": null,
   "id": "88061cf6-1fca-4171-87bc-a1f1c1b20819",
   "metadata": {},
   "outputs": [],
   "source": [
    "fxr = FXRates({\"usdnok\": 8.0})\n",
    "fxr.currencies"
   ]
  },
  {
   "cell_type": "code",
   "execution_count": null,
   "id": "f4fa9823-f17a-4c2d-b4fc-cb7ea8ce213f",
   "metadata": {},
   "outputs": [],
   "source": [
    "# convert cash positions into an aggregated NOK value\n",
    "base_nok_value = fxr . convert_positions ([0 , 1000000] , \"nok\")\n",
    "base_nok_value"
   ]
  },
  {
   "cell_type": "code",
   "execution_count": null,
   "id": "8fec05c6-f5c2-4e39-957e-eacb87b6a323",
   "metadata": {},
   "outputs": [],
   "source": [
    "# Convert cash positions into an aggregated USD value\n",
    "base_usd_value = fxr.convert_positions ([0 , 1000000] , \"usd\")\n",
    "base_usd_value"
   ]
  },
  {
   "cell_type": "code",
   "execution_count": null,
   "id": "058b7041-784d-44ab-8224-6b529e7d8a18",
   "metadata": {},
   "outputs": [],
   "source": [
    "# Convert an aggregated USD value back to cash positions\n",
    "positions = fxr.positions(base_usd_value , \"usd\")\n",
    "positions"
   ]
  },
  {
   "cell_type": "markdown",
   "id": "d6a071c6-9629-47f5-90cd-e12c9f1d363c",
   "metadata": {},
   "source": [
    "### Introducing additional currency exposures"
   ]
  },
  {
   "cell_type": "code",
   "execution_count": null,
   "id": "a3929f34-f705-4bfa-baaf-e4fe39d10360",
   "metadata": {},
   "outputs": [],
   "source": [
    "fxr = FXRates ({\"usdeur\": 0.9 , \"eurnok \": 8.888889})\n",
    "fxr.currencies"
   ]
  },
  {
   "cell_type": "code",
   "execution_count": null,
   "id": "132afa56-41cf-4832-a72f-f42e1bc2af69",
   "metadata": {},
   "outputs": [],
   "source": [
    "base_value = fxr.convert_positions ([0 , 0, 1000000] , \"usd\")\n",
    "base_value"
   ]
  },
  {
   "cell_type": "code",
   "execution_count": null,
   "id": "d8ce0e36-9e05-444f-a4a9-5e5f7194cf0c",
   "metadata": {},
   "outputs": [],
   "source": [
    "positions = fxr.positions(base_value, \"usd\")\n",
    "positions"
   ]
  },
  {
   "cell_type": "code",
   "execution_count": null,
   "id": "75a8e694-06de-49d5-ac54-fc6cfc766058",
   "metadata": {},
   "outputs": [],
   "source": [
    "base_usd_value = Dual(125000 , [\"fx_usdnok\"], [-15625])\n",
    "positions = fxr.positions(base_usd_value, \"usd\")\n",
    "positions"
   ]
  },
  {
   "cell_type": "code",
   "execution_count": null,
   "id": "e310fc72-cd0b-4ec2-accd-fa8bc9d864bf",
   "metadata": {},
   "outputs": [],
   "source": [
    "fxr.convert_positions(positions, \"usd\")"
   ]
  },
  {
   "cell_type": "markdown",
   "id": "fb72ccf5-49c2-49a8-80f5-f66e2da6c800",
   "metadata": {},
   "source": [
    "### Re-expression in Majors or Crosses"
   ]
  },
  {
   "cell_type": "code",
   "execution_count": null,
   "id": "e8c647e5-387b-4da2-962d-57b6b6ec6edd",
   "metadata": {},
   "outputs": [],
   "source": [
    "fxr_crosses = FXRates({\"eurusd\": 1.0 , \"gbpjpy\": 100 , \"eurjpy\": 100})\n",
    "fxr_crosses.convert(1, \"usd\", \"jpy\")"
   ]
  },
  {
   "cell_type": "code",
   "execution_count": null,
   "id": "8d88c1c0-b5d4-4021-b9ca-36efd17e5710",
   "metadata": {},
   "outputs": [],
   "source": [
    "fxr_majors = fxr_crosses.restate ([\"eurusd\", \"usdjpy\", \"gbpusd\"])\n",
    "fxr_majors.convert(1, \"usd\", \"jpy\")"
   ]
  },
  {
   "cell_type": "markdown",
   "id": "8726169a-e1e2-4f75-a5c0-4dc83f37aa02",
   "metadata": {},
   "source": [
    "# FXForwards"
   ]
  },
  {
   "cell_type": "code",
   "execution_count": null,
   "id": "8256869c-9b79-4018-9793-65d9f067c464",
   "metadata": {},
   "outputs": [],
   "source": [
    "fx_rates = FXRates ({\"usdeur\": 0.9 , \"eurnok\": 8.888889} , dt(2022, 1, 3))\n",
    "fx_curves = {\n",
    "    # local currency curves first\n",
    "    \"usdusd\": Curve({dt(2022, 1, 1): 1.0, dt(2023, 1, 1): 0.96}),\n",
    "    \"eureur\": Curve({dt(2022, 1, 1): 1.0, dt(2023, 1, 1): 0.99}),\n",
    "    \"noknok\": Curve({dt(2022, 1, 1): 1.0, dt(2023, 1, 1): 0.98}),\n",
    "    # cross - currency collateral curves next\n",
    "    \"eurusd\": Curve({dt(2022, 1, 1): 1.0, dt(2023, 1, 1): 0.991}) ,\n",
    "    \"nokeur\": Curve({dt(2022, 1, 1): 1.0, dt(2023, 1, 1): 0.978}) ,\n",
    "}\n",
    "fxf = FXForwards(fx_rates, fx_curves)\n",
    "fxf.rate(\"usdnok\", dt(2022, 8, 15))"
   ]
  },
  {
   "cell_type": "code",
   "execution_count": null,
   "id": "308b549d-6c64-4c50-bf85-71cbdb8e838d",
   "metadata": {},
   "outputs": [],
   "source": [
    "fxf.currencies"
   ]
  },
  {
   "cell_type": "code",
   "execution_count": null,
   "id": "c86ef618-595e-4690-9849-70a86af32a02",
   "metadata": {},
   "outputs": [],
   "source": [
    "# Paths are expressed by indexed currencies: 1 = \"EUR\"\n",
    "fxf._paths"
   ]
  },
  {
   "cell_type": "markdown",
   "id": "1c64ab97-058b-4e16-bfa0-6238d36c0a60",
   "metadata": {},
   "source": [
    "### Equivalence of Delta Risk"
   ]
  },
  {
   "cell_type": "code",
   "execution_count": null,
   "id": "14ba7ac1-3597-455d-b638-16dc75b62155",
   "metadata": {},
   "outputs": [],
   "source": [
    "fx_rates = FXRates({\"usdeur\": 0.9, \"eurnok\": 8.888889}, dt(2022 , 1, 3))\n",
    "start, end = dt(2022, 1, 1), dt(2023, 1, 1)\n",
    "fx_curves = {\n",
    "    \"usdusd\": Curve({start: 1.0 , end: 0.96}, id=\"uu\", ad=1) ,\n",
    "    \"eureur\": Curve({start: 1.0 , end: 0.99}, id=\"ee\", ad=1) ,\n",
    "    \"eurusd\": Curve({start: 1.0 , end: 0.991}, id=\"eu\", ad=1) ,\n",
    "    \"noknok\": Curve({start: 1.0 , end: 0.98}, id=\"nn\", ad=1) ,\n",
    "    \"nokeur\": Curve({start: 1.0 , end: 0.978}, id=\"ne\", ad=1) ,\n",
    "}\n",
    "fxf = FXForwards(fx_rates, fx_curves)"
   ]
  },
  {
   "cell_type": "code",
   "execution_count": null,
   "id": "a307d877-f53e-4d1c-bdfd-3910dbcf044e",
   "metadata": {},
   "outputs": [],
   "source": [
    "discounted_nok = fx_curves[\"nokeur\"][dt(2022, 8, 15)] * 1000\n",
    "base_value_1 = discounted_nok * fxf.rate(\"nokusd\", dt(2022 , 1, 1))\n",
    "base_value_1"
   ]
  },
  {
   "cell_type": "code",
   "execution_count": null,
   "id": "feb226d6-fb62-4b50-b000-1dd7d986c5ad",
   "metadata": {},
   "outputs": [],
   "source": [
    "gradient(base_value_1, [\"uu1\", \"ee1\", \"eu1\", \"nn1\", \"ne1\", \"fx_usdeur\", \"fx_eurnok\"])"
   ]
  },
  {
   "cell_type": "code",
   "execution_count": null,
   "id": "ff513fb7-82ac-4ab7-a0b9-db13522b1052",
   "metadata": {},
   "outputs": [],
   "source": [
    "forward_eur = fxf.rate(\"nokeur\", dt(2022, 8, 15)) * 1000\n",
    "discounted_eur = forward_eur * fx_curves[\"eureur\"][dt(2022, 8, 15)]\n",
    "base_value_2 = discounted_eur * fxf.rate(\"eurusd\", dt(2022, 1, 1))\n",
    "base_value_2"
   ]
  },
  {
   "cell_type": "code",
   "execution_count": null,
   "id": "13543dab-b1c3-472f-a64d-641c8014de2b",
   "metadata": {},
   "outputs": [],
   "source": [
    "gradient(base_value_2, [\"uu1\", \"ee1\", \"eu1\", \"nn1\", \"ne1\", \"fx_usdeur\", \"fx_eurnok\"])"
   ]
  },
  {
   "cell_type": "markdown",
   "id": "e68ee47b-b557-4ad0-bfa8-61660922841c",
   "metadata": {},
   "source": [
    "# Combining Settlement dates"
   ]
  },
  {
   "cell_type": "code",
   "execution_count": null,
   "id": "ce5bb6b0-aa86-41ba-bd60-8244ee9ded1a",
   "metadata": {},
   "outputs": [],
   "source": [
    "curve = Curve ({ dt (2000 , 1, 1): 1.0 , dt (2001 , 1, 1): 0.99})\n",
    "fxr1 = FXRates ({\"eurusd\": 1.10 , \"gbpusd\": 1.30} , settlement =dt (2000 , 1, 1))\n",
    "fxr2 = FXRates ({\"usdcad\": 1.05} , settlement =dt (2000 , 1, 2))\n",
    "fxr3 = FXRates ({\"gbpjpy\": 100.0} , settlement =dt (2000 , 1, 3))\n",
    "try:\n",
    "    fxf = FXForwards (\n",
    "        fx_curves ={\n",
    "            \"usdusd\": curve, \"eureur\": curve, \"gbpgbp\": curve,\n",
    "            \"jpyjpy\": curve, \"cadcad\": curve, \"usdjpy\": curve,\n",
    "            \"eurjpy\": curve, \"eurcad\": curve, \"gbpcad\": curve,\n",
    "        },\n",
    "        fx_rates =[fxr1, fxr2, fxr3]\n",
    "    )\n",
    "except ValueError as e:\n",
    "    print(e)"
   ]
  },
  {
   "cell_type": "markdown",
   "id": "19c3f55b-6e41-4fea-b057-5c71d1457f38",
   "metadata": {},
   "source": [
    "### Dual represenation"
   ]
  },
  {
   "cell_type": "code",
   "execution_count": null,
   "id": "2cc50ab7-f56f-4f2a-bacb-d7c98604a854",
   "metadata": {},
   "outputs": [],
   "source": [
    "pv = Dual(100000 , [\"fx_eurusd\", \"fx_usdcad\"], [-100000 , 150000]) # base is USD"
   ]
  },
  {
   "cell_type": "code",
   "execution_count": null,
   "id": "4eb92a49-fd50-4fb6-a23a-9111e5a6d5e1",
   "metadata": {},
   "outputs": [],
   "source": [
    "fxr1 = FXRates ({\"eurusd\": 1.05} , settlement=dt(2022, 1, 3))\n",
    "fxr2 = FXRates ({\"usdcad\": 1.1} , settlement=dt(2022, 1, 2))\n",
    "fxf = FXForwards (\n",
    "    fx_rates =[fxr1, fxr2],\n",
    "    fx_curves ={\n",
    "        \"usdusd\": Curve ({dt(2022, 1, 1): 1.0 , dt(2022, 2, 1): 0.999}) ,\n",
    "        \"eureur\": Curve ({dt(2022, 1, 1): 1.0 , dt(2022, 2, 1): 0.999}) ,\n",
    "        \"cadcad\": Curve ({dt(2022, 1, 1): 1.0 , dt(2022, 2, 1): 0.999}) ,\n",
    "        \"usdeur\": Curve ({dt(2022, 1, 1): 1.0 , dt(2022, 2, 1): 0.999}) ,\n",
    "        \"cadusd\": Curve ({dt(2022, 1, 1): 1.0 , dt(2022, 2, 1): 0.999}) ,\n",
    "    }\n",
    ")\n",
    "fxf.positions(pv, base=\"usd\")"
   ]
  }
 ],
 "metadata": {
  "kernelspec": {
   "display_name": "Python 3 (ipykernel)",
   "language": "python",
   "name": "python3"
  },
  "language_info": {
   "codemirror_mode": {
    "name": "ipython",
    "version": 3
   },
   "file_extension": ".py",
   "mimetype": "text/x-python",
   "name": "python",
   "nbconvert_exporter": "python",
   "pygments_lexer": "ipython3",
   "version": "3.12.0"
  }
 },
 "nbformat": 4,
 "nbformat_minor": 5
}
