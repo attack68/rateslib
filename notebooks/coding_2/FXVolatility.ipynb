{
 "cells": [
  {
   "cell_type": "code",
   "execution_count": null,
   "id": "477eccd6-a966-41f8-b6db-954a2e3a09b0",
   "metadata": {},
   "outputs": [],
   "source": [
    "from rateslib import *\n",
    "from pandas import Series"
   ]
  },
  {
   "cell_type": "markdown",
   "id": "ffb96542-04f8-46cb-865f-4ebc8681cb93",
   "metadata": {},
   "source": [
    "### Time Weighting for Volatility Surface"
   ]
  },
  {
   "cell_type": "code",
   "execution_count": null,
   "id": "89f7bc83-a5e0-41be-8f6f-36cd9694a684",
   "metadata": {},
   "outputs": [],
   "source": [
    "fxv = FXDeltaVolSurface( \n",
    "    eval_date=dt(2024, 7, 25),\n",
    "    expiries=[dt(2024, 7, 30), dt(2024, 8, 5)], \n",
    "    delta_indexes=[0.5],\n",
    "    node_values =[[10.0] , [10.0]] , \n",
    "    weights=Series(0.1, index=[\n",
    "        dt(2024, 7, 27), dt(2024, 7, 28), dt(2024, 8, 3), dt(2024, 8, 4)]\n",
    "    ),\n",
    "    delta_type=\"forward\", \n",
    ")\n",
    "print(fxv.meta.weights[dt(2024, 7, 25):dt(2024, 8, 5)])"
   ]
  },
  {
   "cell_type": "markdown",
   "id": "67cdacf9-ba83-4433-aada-76b489ba78f0",
   "metadata": {},
   "source": [
    "### Sticky strike, sticky delta and Solver delta"
   ]
  },
  {
   "cell_type": "code",
   "execution_count": null,
   "id": "9d3e0eef-4831-4536-a7ee-789db442a18d",
   "metadata": {},
   "outputs": [],
   "source": [
    "# Define Curves\n",
    "usd = Curve({dt(2024, 5, 7): 1.0, dt(2024, 5, 30): 1.0}, calendar=\"nyc\", id=\"usd\") \n",
    "eur = Curve({dt(2024, 5, 7): 1.0, dt(2024, 5, 30): 1.0}, calendar=\"tgt\", id=\"eur\") \n",
    "eurusd = Curve({dt(2024, 5, 7): 1.0, dt(2024, 5, 30): 1.0}, id=\"eurusd\")\n",
    "\n",
    "# Create an FX Forward market with spot FX rate data\n",
    "spot = dt(2024, 5, 9)\n",
    "fxr = FXRates({\"eurusd\": 1.0760}, settlement=spot) \n",
    "fxf = FXForwards(\n",
    "    fx_rates=fxr, \n",
    "    fx_curves={\"eureur\": eur, \"usdusd\": usd, \"eurusd\": eurusd},\n",
    ")\n",
    "\n",
    "# Solve the Curves to market\n",
    "pre_solver = Solver(\n",
    "    curves=[eur, eurusd, usd], \n",
    "    instruments=[\n",
    "        IRS(spot, \"3W\", spec=\"eur_irs\", curves=\"eur\"),\n",
    "        IRS(spot, \"3W\", spec=\"usd_irs\", curves=\"usd\"),\n",
    "        FXSwap(spot, \"3W\", pair=\"eurusd\", curves=[None, \"eurusd\", None, \"usd\"]),\n",
    "    ],\n",
    "    s=[3.90, 5.32, 8.85], \n",
    "    fx=fxf,\n",
    "    id=\"fxf\",\n",
    ")"
   ]
  },
  {
   "cell_type": "code",
   "execution_count": null,
   "id": "98f143f4-adbc-40f0-a205-6291488cec5c",
   "metadata": {},
   "outputs": [],
   "source": [
    "# Define the Vol Smile\n",
    "smile = FXSabrSmile(\n",
    "    nodes={\"alpha\": 0.05, \"beta\": 1.0, \"rho\": 0.01, \"nu\": 0.03}, \n",
    "    eval_date=dt(2024, 5, 7),\n",
    "    expiry=dt(2024, 5, 28),\n",
    "    id=\"smile\",\n",
    "    pair=\"eurusd\",\n",
    ")"
   ]
  },
  {
   "cell_type": "code",
   "execution_count": null,
   "id": "4aa1bb20-522a-4c49-9ebf-88f11f214d5d",
   "metadata": {},
   "outputs": [],
   "source": [
    "# Collect FXOption arguments\n",
    "option_args = dict(\n",
    "    pair=\"eurusd\",\n",
    "    expiry=dt(2024, 5, 28), \n",
    "    calendar=\"tgt|fed\", \n",
    "    delta_type=\"spot\",\n",
    "    curves=[None, \"eurusd\", None, \"usd\"], \n",
    "    vol=\"smile\",\n",
    ")\n",
    "# Calibrate the Smile to market option data\n",
    "solver = Solver( \n",
    "    pre_solvers=[pre_solver], \n",
    "    curves=[smile],\n",
    "    instruments=[\n",
    "        FXStraddle(strike=\"atm_delta\", **option_args),\n",
    "        FXRiskReversal(strike=(\"-25d\", \"25d\"), **option_args),\n",
    "        FXRiskReversal(strike=(\"-10d\", \"10d\"), **option_args),\n",
    "        FXBrokerFly(strike=((\"-25d\", \"25d\"), \"atm_delta\"), **option_args),\n",
    "        FXBrokerFly(strike=((\"-10d\", \"10d\"), \"atm_delta\"), **option_args),\n",
    "    ],\n",
    "    s=[5.493, -0.157, -0.289, 0.071, 0.238],\n",
    "    fx=fxf,\n",
    "    id=\"smile\",\n",
    ")"
   ]
  },
  {
   "cell_type": "code",
   "execution_count": null,
   "id": "6205d317-42ab-41fa-9fc2-a1dd6cbd4a37",
   "metadata": {},
   "outputs": [],
   "source": [
    "fxc = FXCall(**option_args, notional=100e6, strike =1.07, premium=982144.59) # <-- mid-market premium giving zero NPV"
   ]
  },
  {
   "cell_type": "code",
   "execution_count": null,
   "id": "5cfde62c-8f0f-4c09-abd7-251dc617300f",
   "metadata": {},
   "outputs": [],
   "source": [
    "fxc.delta(solver=solver).loc[(\"fx\", \"fx\", \"eurusd\")]"
   ]
  },
  {
   "cell_type": "code",
   "execution_count": null,
   "id": "5215023d-bb18-45fd-abc6-e9d77da2e99d",
   "metadata": {},
   "outputs": [],
   "source": [
    "fxc.gamma(solver=solver).loc[(\"usd\", \"usd\", \"fx\", \"fx\", \"eurusd\"), (\"fx\", \"fx\", \"eurusd\")]"
   ]
  },
  {
   "cell_type": "code",
   "execution_count": null,
   "id": "892be093-60d4-4054-a7e2-eb1da01a377b",
   "metadata": {},
   "outputs": [],
   "source": [
    "fxr.update({\"eurusd\": 1.0761})\n",
    "pre_solver.iterate()\n",
    "solver.iterate()\n",
    "fxc.npv(solver=solver)"
   ]
  },
  {
   "cell_type": "markdown",
   "id": "2466685c-5b21-421e-a2db-3c78b7c46733",
   "metadata": {},
   "source": [
    "### Sticky delta"
   ]
  },
  {
   "cell_type": "code",
   "execution_count": null,
   "id": "86a640c0-fb02-41ab-855b-d8dd745fb5a8",
   "metadata": {},
   "outputs": [],
   "source": [
    "fxc.analytic_greeks(solver=solver)[\"delta_sticky\"]"
   ]
  },
  {
   "cell_type": "code",
   "execution_count": null,
   "id": "7672a3fd-69ba-4e8e-907b-bd60a989a079",
   "metadata": {},
   "outputs": [],
   "source": [
    "fxc.analytic_greeks(solver=solver)[\"delta\"]"
   ]
  },
  {
   "cell_type": "code",
   "execution_count": null,
   "id": "947fc271-0d9a-4050-9c1c-a0268b8625d0",
   "metadata": {},
   "outputs": [],
   "source": [
    "option_args = dict(\n",
    "    pair=\"eurusd\",\n",
    "    expiry=dt(2024, 5, 28), \n",
    "    calendar=\"tgt|fed\", \n",
    "    delta_type=\"forward\",\n",
    "    curves=[None, \"eurusd\", None, \"usd\"], \n",
    "    vol=\"smile\",\n",
    ")\n",
    "fxc = FXCall(**option_args, notional=100e6, strike =1.07, premium=982144.59) # <-- mid-market premium giving zero NPV\n",
    "fxc.analytic_greeks(solver=solver)[\"delta_sticky\"]"
   ]
  },
  {
   "cell_type": "code",
   "execution_count": null,
   "id": "51e3b16d-d6b3-4183-bda5-374859727d73",
   "metadata": {},
   "outputs": [],
   "source": [
    "fxc.analytic_greeks(solver=solver)[\"delta\"]"
   ]
  }
 ],
 "metadata": {
  "kernelspec": {
   "display_name": "Python 3 (ipykernel)",
   "language": "python",
   "name": "python3"
  },
  "language_info": {
   "codemirror_mode": {
    "name": "ipython",
    "version": 3
   },
   "file_extension": ".py",
   "mimetype": "text/x-python",
   "name": "python",
   "nbconvert_exporter": "python",
   "pygments_lexer": "ipython3",
   "version": "3.12.4"
  }
 },
 "nbformat": 4,
 "nbformat_minor": 5
}
