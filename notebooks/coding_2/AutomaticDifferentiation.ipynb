{
 "cells": [
  {
   "cell_type": "code",
   "execution_count": null,
   "id": "207f47dd-6e8d-4a49-8d4c-c775b157f8cb",
   "metadata": {},
   "outputs": [],
   "source": [
    "from rateslib import *"
   ]
  },
  {
   "cell_type": "markdown",
   "id": "4a2c4aa5-99a9-4a63-8b8a-3dc9fe2785ae",
   "metadata": {},
   "source": [
    "# Definitions of dual numbers"
   ]
  },
  {
   "cell_type": "code",
   "execution_count": null,
   "id": "b5149cbc-1a29-4f20-a40b-3980866b6914",
   "metadata": {},
   "outputs": [],
   "source": [
    "z_x = Dual2(0.0, [\"x\"], [], [])\n",
    "z_x"
   ]
  },
  {
   "cell_type": "code",
   "execution_count": null,
   "id": "26ce32a9-9f08-4477-8fd7-f98fed699362",
   "metadata": {},
   "outputs": [],
   "source": [
    "z_x * z_x"
   ]
  },
  {
   "cell_type": "code",
   "execution_count": null,
   "id": "5e6b947f-1ea1-44d6-8c7b-a7d9445f5158",
   "metadata": {},
   "outputs": [],
   "source": [
    "(z_x * z_x).dual2"
   ]
  },
  {
   "cell_type": "markdown",
   "id": "3364bb0a-7fe0-43fa-bda4-c67c7e6e4630",
   "metadata": {},
   "source": [
    "# General functions of dual numbers"
   ]
  },
  {
   "cell_type": "code",
   "execution_count": null,
   "id": "e48f6a4d-fe10-4ea5-9f39-85c310423e76",
   "metadata": {},
   "outputs": [],
   "source": [
    "import math\n",
    "def dual_sin(x: float | Dual) -> float | Dual:\n",
    "    if isinstance(x, Dual):\n",
    "        return Dual(math.sin(x.real), x.vars, math.cos(x.real) * x.dual)\n",
    "    return math.sin(x)"
   ]
  },
  {
   "cell_type": "code",
   "execution_count": null,
   "id": "d3cd2d23-0538-41e3-b94d-401bb7d2d35c",
   "metadata": {},
   "outputs": [],
   "source": [
    "x = Dual(2.1, [\"y\"], [])\n",
    "dual_sin(x)"
   ]
  },
  {
   "cell_type": "markdown",
   "id": "e5cda5f5-c336-4e1c-abb6-2bf84db40352",
   "metadata": {},
   "source": [
    "# Upcasting and dynamic variables"
   ]
  },
  {
   "cell_type": "code",
   "execution_count": null,
   "id": "79196a21-0418-47a3-9d65-a6448b57df06",
   "metadata": {},
   "outputs": [],
   "source": [
    "first_dual = Dual(11.0, [\"x\", \"y\"], [3, 8])\n",
    "second_dual = Dual(-3.0, [\"y\", \"z\"], [-2, 5])\n",
    "first_dual + second_dual + 2.65"
   ]
  },
  {
   "cell_type": "markdown",
   "id": "93465777-50f0-4b1d-ad6d-00b054a52a37",
   "metadata": {},
   "source": [
    "# First order derivatives and performance"
   ]
  },
  {
   "cell_type": "code",
   "execution_count": null,
   "id": "e66cf2c2-26a9-4b87-9600-265d43dd98ce",
   "metadata": {},
   "outputs": [],
   "source": [
    "def func(x, y, z):\n",
    "    return x**6 + dual_exp(x/y) + dual_log(z)\n",
    "\n",
    "x, y, z = 2.0, 1.0, 2.0\n",
    "func(x, y, z)"
   ]
  },
  {
   "cell_type": "code",
   "execution_count": null,
   "id": "ff535dd2-92af-4141-8343-78025f101278",
   "metadata": {},
   "outputs": [],
   "source": [
    "%timeit func(x, y, z)"
   ]
  },
  {
   "cell_type": "code",
   "execution_count": null,
   "id": "827b29f9-9314-40f3-a02d-44072643ee75",
   "metadata": {},
   "outputs": [],
   "source": [
    "x, y, z = Dual(2.0, [\"x\"], []), Dual(1.0, [\"y\"], []), Dual(2.0, [\"z\"], [])\n",
    "func(x, y, z)"
   ]
  },
  {
   "cell_type": "code",
   "execution_count": null,
   "id": "5e5d6fd4-ea9d-4cad-888c-935a6eec92c5",
   "metadata": {},
   "outputs": [],
   "source": [
    "%timeit func(x, y, z)"
   ]
  },
  {
   "cell_type": "code",
   "execution_count": null,
   "id": "1a1fb920-993f-4f9f-a023-7b946051f31c",
   "metadata": {},
   "outputs": [],
   "source": [
    "x = Dual(2.0, [\"x\", \"y\", \"z\"], [1.0, 0.0, 0.0])\n",
    "y = Dual(1.0, [\"x\", \"y\", \"z\"], [0.0, 1.0, 0.0])\n",
    "z = Dual(2.0, [\"x\", \"y\", \"z\"], [0.0, 0.0, 1.0])"
   ]
  },
  {
   "cell_type": "code",
   "execution_count": null,
   "id": "6dbce6a4-54b5-46dd-ae43-7011aa21703e",
   "metadata": {},
   "outputs": [],
   "source": [
    "%timeit func(x, y, z)"
   ]
  },
  {
   "cell_type": "code",
   "execution_count": null,
   "id": "ceb92f32-8064-46e1-a3ce-54b888759744",
   "metadata": {},
   "outputs": [],
   "source": [
    "x = Dual(2.0, [\"x\", \"y\", \"z\"], [1.0, 0.0, 0.0])\n",
    "y = Dual.vars_from(x, 1.0, [\"x\", \"y\", \"z\"], [0.0, 1.0, 0.0])\n",
    "z = Dual.vars_from(x, 2.0, [\"x\", \"y\", \"z\"], [0.0, 0.0, 1.0])"
   ]
  },
  {
   "cell_type": "code",
   "execution_count": null,
   "id": "94cc0d63-5705-4848-9207-76d1885ba7d4",
   "metadata": {},
   "outputs": [],
   "source": [
    "%timeit func(x, y, z)"
   ]
  },
  {
   "cell_type": "markdown",
   "id": "170edec4-7a07-43ed-812f-2681225fd9b0",
   "metadata": {},
   "source": [
    "# Numerical differentiation"
   ]
  },
  {
   "cell_type": "code",
   "execution_count": null,
   "id": "a616687b-e18f-491a-867e-efa6a4352262",
   "metadata": {},
   "outputs": [],
   "source": [
    "def df_fwd_diff(f, x, y, z):\n",
    "    base = f(x, y, z)\n",
    "    dh = 1e-10\n",
    "    dx = f(x+dh, y, z) - base\n",
    "    dy = f(x, y+dh, z) - base\n",
    "    dz = f(x, y, z+dh) - base\n",
    "    return base, dx/dh, dy/dh, dz/dh\n",
    "\n",
    "%timeit df_fwd_diff(func, 2.0, 1.0, 2.0)    "
   ]
  },
  {
   "cell_type": "markdown",
   "id": "5841581d-1acf-4a97-b4c5-f5136ee9b4b1",
   "metadata": {},
   "source": [
    "# Functions with execution line delay"
   ]
  },
  {
   "cell_type": "code",
   "execution_count": null,
   "id": "a47f8cea-1e05-4387-8e8f-f09030b39aa0",
   "metadata": {},
   "outputs": [],
   "source": [
    "import time\n",
    "def func_complex(x, y, z):\n",
    "    time.sleep(0.000025)\n",
    "    return x**6 + dual_exp(x/y) + dual_log(z)\n",
    "\n",
    "%timeit func_complex(2.0, 1.0, 2.0)"
   ]
  },
  {
   "cell_type": "code",
   "execution_count": null,
   "id": "16867e87-f124-45de-81c6-ddf251bc07c8",
   "metadata": {},
   "outputs": [],
   "source": [
    "%timeit func_complex(x, y, z)"
   ]
  },
  {
   "cell_type": "code",
   "execution_count": null,
   "id": "e3273e1f-af3f-4b4f-bd37-93893cfd2055",
   "metadata": {},
   "outputs": [],
   "source": [
    "%timeit df_fwd_diff(func_complex, 2.0, 1.0, 2.0)"
   ]
  },
  {
   "cell_type": "markdown",
   "id": "3dd7f29a-5c85-4b51-8877-c198ca0c52f4",
   "metadata": {},
   "source": [
    "# Second order derivatives"
   ]
  },
  {
   "cell_type": "code",
   "execution_count": null,
   "id": "65332b6c-e18d-4cd2-b4a7-434b4098a70f",
   "metadata": {},
   "outputs": [],
   "source": [
    "x = Dual2(2.0, [\"x\", \"y\", \"z\"], [1.0, 0.0, 0.0], [])\n",
    "y = Dual2(1.0, [\"x\", \"y\", \"z\"], [0.0, 1.0, 0.0], [])\n",
    "z = Dual2(2.0, [\"x\", \"y\", \"z\"], [0.0, 0.0, 1.0], [])\n",
    "func(x, y, z)"
   ]
  },
  {
   "cell_type": "code",
   "execution_count": null,
   "id": "0ed2c033-9373-469c-a857-47aa3a32892c",
   "metadata": {},
   "outputs": [],
   "source": [
    "gradient(func(x, y, z), [\"x\", \"y\"], order=2)"
   ]
  },
  {
   "cell_type": "code",
   "execution_count": null,
   "id": "72618649-a785-40d0-b8ea-f297a1f50621",
   "metadata": {},
   "outputs": [],
   "source": [
    "%timeit func(x, y, z)"
   ]
  },
  {
   "cell_type": "markdown",
   "id": "ec449dab-7251-4225-b2e0-eb5212f9095a",
   "metadata": {},
   "source": [
    "# One Dimensional Newton-Raphson Algorithm"
   ]
  },
  {
   "cell_type": "code",
   "execution_count": null,
   "id": "04dc714b-49d8-4f77-b199-da3bd10416f8",
   "metadata": {},
   "outputs": [],
   "source": [
    "from rateslib.dual import newton_1dim\n",
    "\n",
    "def f(g, s):\n",
    "    f0 = g**2 - s   # Function value\n",
    "    f1 = 2*g        # Analytical derivative is required\n",
    "    return f0, f1\n",
    "\n",
    "s = Dual(2.0, [\"s\"], [])\n",
    "newton_1dim(f, g0=1.0, args=(s,))"
   ]
  }
 ],
 "metadata": {
  "kernelspec": {
   "display_name": "Python 3 (ipykernel)",
   "language": "python",
   "name": "python3"
  },
  "language_info": {
   "codemirror_mode": {
    "name": "ipython",
    "version": 3
   },
   "file_extension": ".py",
   "mimetype": "text/x-python",
   "name": "python",
   "nbconvert_exporter": "python",
   "pygments_lexer": "ipython3",
   "version": "3.12.4"
  }
 },
 "nbformat": 4,
 "nbformat_minor": 5
}
