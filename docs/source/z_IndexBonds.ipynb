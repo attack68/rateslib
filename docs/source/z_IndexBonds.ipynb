{
 "cells": [
  {
   "cell_type": "markdown",
   "id": "ade30c8f-90a7-4cdd-8a26-615695309b69",
   "metadata": {},
   "source": [
    "# Using Curves with an Index and Inflation Instruments\n",
    "\n",
    "This page will exemplify the ways of constructing *Curves* dealing with inflation and products that need those curves.\n",
    "E.g. IndexFixedRateBonds and ZCIS."
   ]
  },
  {
   "cell_type": "markdown",
   "id": "9763cc48-3a0d-4fde-b82c-ef971d61c6dd",
   "metadata": {},
   "source": [
    "### Begin with a simple case without an Index Curve"
   ]
  },
  {
   "cell_type": "markdown",
   "id": "f7b8b1bb-1fc1-459a-acfc-40b105bd03bb",
   "metadata": {},
   "source": [
    "This case uses an `IndexFixedRateBond` which has **two** coupon periods. The first coupon period was paid in the past so it is no longer relevant, and the second coupon period is paid in the future but the inflation numbers have already been published so its final cashflow.\n",
    "\n",
    "The bond that is created below is fictional. It has the normal 3 month index lag, *'daily'* index interpolation and the base index for the *Instrument* is set to 101.0"
   ]
  },
  {
   "cell_type": "code",
   "execution_count": 13,
   "id": "e3d3c3cd-0e91-4e3a-92ab-f571b1bf0ec8",
   "metadata": {},
   "outputs": [],
   "source": [
    "from rateslib import *\n",
    "\n",
    "today = dt(2025, 5, 12)\n",
    "ukti = IndexFixedRateBond(\n",
    "    effective=dt(2024, 5, 27),\n",
    "    termination=dt(2025, 5, 27),\n",
    "    fixed_rate=2.0,\n",
    "    notional=-10e6,\n",
    "    index_base=101.00,\n",
    "    index_method=\"daily\",\n",
    "    index_lag=3,\n",
    "    spec=\"uk_gb\"\n",
    ")"
   ]
  },
  {
   "cell_type": "code",
   "execution_count": 14,
   "id": "2b92da11-10d3-49aa-a051-cf81472a6575",
   "metadata": {},
   "outputs": [
    {
     "data": {
      "text/html": [
       "<div>\n",
       "<style scoped>\n",
       "    .dataframe tbody tr th:only-of-type {\n",
       "        vertical-align: middle;\n",
       "    }\n",
       "\n",
       "    .dataframe tbody tr th {\n",
       "        vertical-align: top;\n",
       "    }\n",
       "\n",
       "    .dataframe thead th {\n",
       "        text-align: right;\n",
       "    }\n",
       "</style>\n",
       "<table border=\"1\" class=\"dataframe\">\n",
       "  <thead>\n",
       "    <tr style=\"text-align: right;\">\n",
       "      <th></th>\n",
       "      <th>Type</th>\n",
       "      <th>Period</th>\n",
       "      <th>Ccy</th>\n",
       "      <th>Acc Start</th>\n",
       "      <th>Acc End</th>\n",
       "      <th>Payment</th>\n",
       "      <th>Convention</th>\n",
       "      <th>DCF</th>\n",
       "      <th>Notional</th>\n",
       "      <th>DF</th>\n",
       "      <th>...</th>\n",
       "      <th>Rate</th>\n",
       "      <th>Spread</th>\n",
       "      <th>Real Cashflow</th>\n",
       "      <th>Index Base</th>\n",
       "      <th>Index Val</th>\n",
       "      <th>Index Ratio</th>\n",
       "      <th>Cashflow</th>\n",
       "      <th>NPV</th>\n",
       "      <th>FX Rate</th>\n",
       "      <th>NPV Ccy</th>\n",
       "    </tr>\n",
       "  </thead>\n",
       "  <tbody>\n",
       "    <tr>\n",
       "      <th>0</th>\n",
       "      <td>IndexFixedPeriod</td>\n",
       "      <td>Regular</td>\n",
       "      <td>GBP</td>\n",
       "      <td>2024-05-27</td>\n",
       "      <td>2024-11-27</td>\n",
       "      <td>2024-11-27</td>\n",
       "      <td>actacticma</td>\n",
       "      <td>0.5</td>\n",
       "      <td>-10000000.0</td>\n",
       "      <td>None</td>\n",
       "      <td>...</td>\n",
       "      <td>2.0</td>\n",
       "      <td>NaN</td>\n",
       "      <td>100000.0</td>\n",
       "      <td>101.0</td>\n",
       "      <td>None</td>\n",
       "      <td>None</td>\n",
       "      <td>None</td>\n",
       "      <td>None</td>\n",
       "      <td>1.0</td>\n",
       "      <td>None</td>\n",
       "    </tr>\n",
       "    <tr>\n",
       "      <th>1</th>\n",
       "      <td>IndexFixedPeriod</td>\n",
       "      <td>Regular</td>\n",
       "      <td>GBP</td>\n",
       "      <td>2024-11-27</td>\n",
       "      <td>2025-05-27</td>\n",
       "      <td>2025-05-27</td>\n",
       "      <td>actacticma</td>\n",
       "      <td>0.5</td>\n",
       "      <td>-10000000.0</td>\n",
       "      <td>None</td>\n",
       "      <td>...</td>\n",
       "      <td>2.0</td>\n",
       "      <td>NaN</td>\n",
       "      <td>100000.0</td>\n",
       "      <td>101.0</td>\n",
       "      <td>None</td>\n",
       "      <td>None</td>\n",
       "      <td>None</td>\n",
       "      <td>None</td>\n",
       "      <td>1.0</td>\n",
       "      <td>None</td>\n",
       "    </tr>\n",
       "    <tr>\n",
       "      <th>2</th>\n",
       "      <td>IndexCashflow</td>\n",
       "      <td>Exchange</td>\n",
       "      <td>GBP</td>\n",
       "      <td>NaT</td>\n",
       "      <td>2025-05-27</td>\n",
       "      <td>2025-05-27</td>\n",
       "      <td>NaN</td>\n",
       "      <td>NaN</td>\n",
       "      <td>-10000000.0</td>\n",
       "      <td>None</td>\n",
       "      <td>...</td>\n",
       "      <td>NaN</td>\n",
       "      <td>NaN</td>\n",
       "      <td>10000000.0</td>\n",
       "      <td>101.0</td>\n",
       "      <td>None</td>\n",
       "      <td>None</td>\n",
       "      <td>None</td>\n",
       "      <td>None</td>\n",
       "      <td>1.0</td>\n",
       "      <td>None</td>\n",
       "    </tr>\n",
       "  </tbody>\n",
       "</table>\n",
       "<p>3 rows × 21 columns</p>\n",
       "</div>"
      ],
      "text/plain": [
       "               Type    Period  Ccy  Acc Start    Acc End    Payment  \\\n",
       "0  IndexFixedPeriod   Regular  GBP 2024-05-27 2024-11-27 2024-11-27   \n",
       "1  IndexFixedPeriod   Regular  GBP 2024-11-27 2025-05-27 2025-05-27   \n",
       "2     IndexCashflow  Exchange  GBP        NaT 2025-05-27 2025-05-27   \n",
       "\n",
       "   Convention  DCF    Notional    DF  ... Rate  Spread  Real Cashflow  \\\n",
       "0  actacticma  0.5 -10000000.0  None  ...  2.0     NaN       100000.0   \n",
       "1  actacticma  0.5 -10000000.0  None  ...  2.0     NaN       100000.0   \n",
       "2         NaN  NaN -10000000.0  None  ...  NaN     NaN     10000000.0   \n",
       "\n",
       "   Index Base  Index Val Index Ratio Cashflow   NPV FX Rate  NPV Ccy  \n",
       "0       101.0       None        None     None  None     1.0     None  \n",
       "1       101.0       None        None     None  None     1.0     None  \n",
       "2       101.0       None        None     None  None     1.0     None  \n",
       "\n",
       "[3 rows x 21 columns]"
      ]
     },
     "execution_count": 14,
     "metadata": {},
     "output_type": "execute_result"
    }
   ],
   "source": [
    "ukti.cashflows()"
   ]
  },
  {
   "cell_type": "markdown",
   "id": "0cad5291-0059-4a6b-8503-7a45dee45b1e",
   "metadata": {},
   "source": [
    "The **cashflows** above are not fully formed. The actual, indexed, cashflows are not known because the relevant index values have not been supplied and there is no *Curve* from which to forecast them.\n",
    "\n",
    "In this case this bond is linked to UK-RPI. Released values for a month are attributed to the **start** of that month and therefore, as of today's date we are aware of the following, relevant, inflation publications."
   ]
  },
  {
   "cell_type": "code",
   "execution_count": 23,
   "id": "adbeb437-33e6-4ea8-8d96-cff8cd5760b3",
   "metadata": {},
   "outputs": [
    {
     "data": {
      "text/plain": [
       "month\n",
       "2024-02-01    381.0\n",
       "2024-03-01    383.0\n",
       "2024-04-01    385.0\n",
       "2024-05-01    386.4\n",
       "2024-06-01    387.3\n",
       "2024-07-01    387.5\n",
       "2024-08-01    389.9\n",
       "2024-09-01    388.6\n",
       "2024-10-01    390.7\n",
       "2024-11-01    390.9\n",
       "2024-12-01    392.1\n",
       "2025-01-01    391.7\n",
       "2025-02-01    394.0\n",
       "2025-03-01    395.3\n",
       "Name: rate, dtype: float64"
      ]
     },
     "execution_count": 23,
     "metadata": {},
     "output_type": "execute_result"
    }
   ],
   "source": [
    "from pandas import DataFrame\n",
    "RPI = DataFrame([\n",
    "    [dt(2024, 2, 1), 381.0],\n",
    "    [dt(2024, 3, 1), 383.0],\n",
    "    [dt(2024, 4, 1), 385.0],\n",
    "    [dt(2024, 5, 1), 386.4],\n",
    "    [dt(2024, 6, 1), 387.3],\n",
    "    [dt(2024, 7, 1), 387.5],\n",
    "    [dt(2024, 8, 1), 389.9],\n",
    "    [dt(2024, 9, 1), 388.6],\n",
    "    [dt(2024, 10, 1), 390.7],\n",
    "    [dt(2024, 11, 1), 390.9],\n",
    "    [dt(2024, 12, 1), 392.1],\n",
    "    [dt(2025, 1, 1), 391.7],\n",
    "    [dt(2025, 2, 1), 394.0],\n",
    "    [dt(2025, 3, 1), 395.3]\n",
    "], columns=[\"month\", \"rate\"]).set_index(\"month\")[\"rate\"]\n",
    "RPI"
   ]
  },
  {
   "cell_type": "code",
   "execution_count": 30,
   "id": "9e746ac5-5956-49bf-b6a7-e328d80d3679",
   "metadata": {},
   "outputs": [
    {
     "name": "stdout",
     "output_type": "stream",
     "text": [
      "18.7 μs ± 511 ns per loop (mean ± std. dev. of 7 runs, 100,000 loops each)\n"
     ]
    }
   ],
   "source": [
    "%timeit RPI.is_monotonic_increasing"
   ]
  },
  {
   "cell_type": "code",
   "execution_count": 31,
   "id": "1b23b269-9951-487b-b8b7-375c2fcd6c5e",
   "metadata": {},
   "outputs": [
    {
     "name": "stdout",
     "output_type": "stream",
     "text": [
      "20.4 μs ± 1.16 μs per loop (mean ± std. dev. of 7 runs, 10,000 loops each)\n"
     ]
    }
   ],
   "source": [
    "%timeit RPI.is_unique"
   ]
  },
  {
   "cell_type": "code",
   "execution_count": 32,
   "id": "66c16763-7d7c-4da5-baae-f5e28baf1283",
   "metadata": {},
   "outputs": [
    {
     "data": {
      "text/plain": [
       "True"
      ]
     },
     "execution_count": 32,
     "metadata": {},
     "output_type": "execute_result"
    }
   ],
   "source": [
    "RPI.is_unique"
   ]
  },
  {
   "cell_type": "code",
   "execution_count": 33,
   "id": "94f386be-7130-48c7-9d2a-801e2e2c9cd7",
   "metadata": {},
   "outputs": [],
   "source": [
    "RPI.bastard = True"
   ]
  },
  {
   "cell_type": "code",
   "execution_count": 34,
   "id": "cc6d5541-3b09-45be-8594-8cc2049ae4f5",
   "metadata": {},
   "outputs": [
    {
     "name": "stdout",
     "output_type": "stream",
     "text": [
      "18 ns ± 0.363 ns per loop (mean ± std. dev. of 7 runs, 100,000,000 loops each)\n"
     ]
    }
   ],
   "source": [
    "%timeit RPI.bastard"
   ]
  },
  {
   "cell_type": "code",
   "execution_count": null,
   "id": "86b555dd-4418-4a66-90d8-6f0e230dff82",
   "metadata": {},
   "outputs": [],
   "source": []
  },
  {
   "cell_type": "code",
   "execution_count": null,
   "id": "b33fec04-4d91-41a2-8842-3138fc0fab36",
   "metadata": {},
   "outputs": [],
   "source": []
  },
  {
   "cell_type": "markdown",
   "id": "e0cfc618-0bce-4655-8ee4-dcd89c1400bb",
   "metadata": {},
   "source": [
    "We can re-create the bond, this time including the ``index_fixings`` and and obtain more structured results."
   ]
  },
  {
   "cell_type": "code",
   "execution_count": 24,
   "id": "2a2fdf6a-3c85-4593-8be5-64aef7d08dae",
   "metadata": {},
   "outputs": [
    {
     "data": {
      "text/html": [
       "<div>\n",
       "<style scoped>\n",
       "    .dataframe tbody tr th:only-of-type {\n",
       "        vertical-align: middle;\n",
       "    }\n",
       "\n",
       "    .dataframe tbody tr th {\n",
       "        vertical-align: top;\n",
       "    }\n",
       "\n",
       "    .dataframe thead th {\n",
       "        text-align: right;\n",
       "    }\n",
       "</style>\n",
       "<table border=\"1\" class=\"dataframe\">\n",
       "  <thead>\n",
       "    <tr style=\"text-align: right;\">\n",
       "      <th></th>\n",
       "      <th>Type</th>\n",
       "      <th>Period</th>\n",
       "      <th>Ccy</th>\n",
       "      <th>Acc Start</th>\n",
       "      <th>Acc End</th>\n",
       "      <th>Payment</th>\n",
       "      <th>Convention</th>\n",
       "      <th>DCF</th>\n",
       "      <th>Notional</th>\n",
       "      <th>DF</th>\n",
       "      <th>...</th>\n",
       "      <th>Rate</th>\n",
       "      <th>Spread</th>\n",
       "      <th>Real Cashflow</th>\n",
       "      <th>Index Base</th>\n",
       "      <th>Index Val</th>\n",
       "      <th>Index Ratio</th>\n",
       "      <th>Cashflow</th>\n",
       "      <th>NPV</th>\n",
       "      <th>FX Rate</th>\n",
       "      <th>NPV Ccy</th>\n",
       "    </tr>\n",
       "  </thead>\n",
       "  <tbody>\n",
       "    <tr>\n",
       "      <th>0</th>\n",
       "      <td>IndexFixedPeriod</td>\n",
       "      <td>Regular</td>\n",
       "      <td>GBP</td>\n",
       "      <td>2024-05-27</td>\n",
       "      <td>2024-11-27</td>\n",
       "      <td>2024-11-27</td>\n",
       "      <td>actacticma</td>\n",
       "      <td>0.5</td>\n",
       "      <td>-10000000.0</td>\n",
       "      <td>None</td>\n",
       "      <td>...</td>\n",
       "      <td>2.0</td>\n",
       "      <td>NaN</td>\n",
       "      <td>100000.0</td>\n",
       "      <td>101.0</td>\n",
       "      <td>391.94</td>\n",
       "      <td>3.880594</td>\n",
       "      <td>388059.405941</td>\n",
       "      <td>None</td>\n",
       "      <td>1.0</td>\n",
       "      <td>None</td>\n",
       "    </tr>\n",
       "    <tr>\n",
       "      <th>1</th>\n",
       "      <td>IndexFixedPeriod</td>\n",
       "      <td>Regular</td>\n",
       "      <td>GBP</td>\n",
       "      <td>2024-11-27</td>\n",
       "      <td>2025-05-27</td>\n",
       "      <td>2025-05-27</td>\n",
       "      <td>actacticma</td>\n",
       "      <td>0.5</td>\n",
       "      <td>-10000000.0</td>\n",
       "      <td>None</td>\n",
       "      <td>...</td>\n",
       "      <td>2.0</td>\n",
       "      <td>NaN</td>\n",
       "      <td>100000.0</td>\n",
       "      <td>101.0</td>\n",
       "      <td>NaN</td>\n",
       "      <td>NaN</td>\n",
       "      <td>NaN</td>\n",
       "      <td>None</td>\n",
       "      <td>1.0</td>\n",
       "      <td>None</td>\n",
       "    </tr>\n",
       "    <tr>\n",
       "      <th>2</th>\n",
       "      <td>IndexCashflow</td>\n",
       "      <td>Exchange</td>\n",
       "      <td>GBP</td>\n",
       "      <td>NaT</td>\n",
       "      <td>2025-05-27</td>\n",
       "      <td>2025-05-27</td>\n",
       "      <td>NaN</td>\n",
       "      <td>NaN</td>\n",
       "      <td>-10000000.0</td>\n",
       "      <td>None</td>\n",
       "      <td>...</td>\n",
       "      <td>NaN</td>\n",
       "      <td>NaN</td>\n",
       "      <td>10000000.0</td>\n",
       "      <td>101.0</td>\n",
       "      <td>NaN</td>\n",
       "      <td>NaN</td>\n",
       "      <td>NaN</td>\n",
       "      <td>None</td>\n",
       "      <td>1.0</td>\n",
       "      <td>None</td>\n",
       "    </tr>\n",
       "  </tbody>\n",
       "</table>\n",
       "<p>3 rows × 21 columns</p>\n",
       "</div>"
      ],
      "text/plain": [
       "               Type    Period  Ccy  Acc Start    Acc End    Payment  \\\n",
       "0  IndexFixedPeriod   Regular  GBP 2024-05-27 2024-11-27 2024-11-27   \n",
       "1  IndexFixedPeriod   Regular  GBP 2024-11-27 2025-05-27 2025-05-27   \n",
       "2     IndexCashflow  Exchange  GBP        NaT 2025-05-27 2025-05-27   \n",
       "\n",
       "   Convention  DCF    Notional    DF  ... Rate  Spread  Real Cashflow  \\\n",
       "0  actacticma  0.5 -10000000.0  None  ...  2.0     NaN       100000.0   \n",
       "1  actacticma  0.5 -10000000.0  None  ...  2.0     NaN       100000.0   \n",
       "2         NaN  NaN -10000000.0  None  ...  NaN     NaN     10000000.0   \n",
       "\n",
       "   Index Base  Index Val  Index Ratio       Cashflow   NPV FX Rate  NPV Ccy  \n",
       "0       101.0     391.94     3.880594  388059.405941  None     1.0     None  \n",
       "1       101.0        NaN          NaN            NaN  None     1.0     None  \n",
       "2       101.0        NaN          NaN            NaN  None     1.0     None  \n",
       "\n",
       "[3 rows x 21 columns]"
      ]
     },
     "execution_count": 24,
     "metadata": {},
     "output_type": "execute_result"
    }
   ],
   "source": [
    "ukti = IndexFixedRateBond(\n",
    "    effective=dt(2024, 5, 27),\n",
    "    termination=dt(2025, 5, 27),\n",
    "    fixed_rate=2.0,\n",
    "    notional=-10e6,\n",
    "    index_base=101.00,\n",
    "    index_method=\"daily\",\n",
    "    index_lag=3,\n",
    "    index_fixings=RPI,\n",
    "    spec=\"uk_gb\"\n",
    ")\n",
    "ukti.cashflows()"
   ]
  },
  {
   "cell_type": "code",
   "execution_count": null,
   "id": "531c130f-33b0-4e69-9edc-1b97ee8611ad",
   "metadata": {},
   "outputs": [],
   "source": []
  }
 ],
 "metadata": {
  "kernelspec": {
   "display_name": "Python 3 (ipykernel)",
   "language": "python",
   "name": "python3"
  },
  "language_info": {
   "codemirror_mode": {
    "name": "ipython",
    "version": 3
   },
   "file_extension": ".py",
   "mimetype": "text/x-python",
   "name": "python",
   "nbconvert_exporter": "python",
   "pygments_lexer": "ipython3",
   "version": "3.12.0"
  }
 },
 "nbformat": 4,
 "nbformat_minor": 5
}
