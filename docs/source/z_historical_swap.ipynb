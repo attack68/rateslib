{
 "cells": [
  {
   "cell_type": "code",
   "execution_count": 1,
   "id": "b1d93c71-25eb-449c-91a5-e6db4f2a0bc0",
   "metadata": {},
   "outputs": [],
   "source": [
    "from rateslib import *"
   ]
  },
  {
   "cell_type": "markdown",
   "id": "088785f3-e9c6-4ba7-bed3-e32828e7f8e6",
   "metadata": {},
   "source": [
    "# Valuing Historical Swaps at Today's Date\n",
    "\n",
    "A common operation is to want to value a swap which has an *effective* date **in the past**.\n",
    "To do this, the swap should not be altered in its definition but it likely requires additional pricing information supplied,\n",
    "in the form of **fixings**. See *'Cookbook > Working with Fixings'* for more detail on this aspect."
   ]
  },
  {
   "cell_type": "code",
   "execution_count": 2,
   "id": "1bb43c38-edbb-4d9e-931b-3547d6aa5666",
   "metadata": {},
   "outputs": [],
   "source": [
    "curve = Curve({dt(2024, 7, 3): 1.0, dt(2025, 7, 3): 0.95}, calendar=\"nyc\")\n",
    "irs = IRS(dt(2024, 6, 26), \"1m\", spec=\"usd_irs\", curves=curve, fixed_rate=5.00)"
   ]
  },
  {
   "cell_type": "markdown",
   "id": "5e9f197f-cb20-40bb-8dae-f019eecb39e5",
   "metadata": {},
   "source": [
    "This swap cant price directly because it is missing information on some of the fixings."
   ]
  },
  {
   "cell_type": "code",
   "execution_count": 3,
   "id": "2116d1a4-6b1f-47dd-8f74-9524174ff9e8",
   "metadata": {},
   "outputs": [
    {
     "name": "stdout",
     "output_type": "stream",
     "text": [
      "RFRs could not be calculated, have you missed providing `fixings` or does the `Curve` begin after the start of a `FloatPeriod` including the `method_param` adjustment?\n",
      "For further info see: Documentation > Cookbook > Working with fixings.\n"
     ]
    }
   ],
   "source": [
    "try: \n",
    "    irs.npv()\n",
    "except ValueError as e:\n",
    "    print(e)"
   ]
  },
  {
   "cell_type": "markdown",
   "id": "133a2722-6773-4ae3-9484-302eb4aa064c",
   "metadata": {},
   "source": [
    "The SOFR fixings are needed for the following reference value dates in the past (as measured as of 3rd July 2024):"
   ]
  },
  {
   "cell_type": "code",
   "execution_count": 4,
   "id": "77690d3c-f3bb-4247-a7b8-5d6a5402216b",
   "metadata": {},
   "outputs": [
    {
     "data": {
      "text/plain": [
       "[datetime.datetime(2024, 6, 26, 0, 0),\n",
       " datetime.datetime(2024, 6, 27, 0, 0),\n",
       " datetime.datetime(2024, 6, 28, 0, 0),\n",
       " datetime.datetime(2024, 7, 1, 0, 0),\n",
       " datetime.datetime(2024, 7, 2, 0, 0)]"
      ]
     },
     "execution_count": 4,
     "metadata": {},
     "output_type": "execute_result"
    }
   ],
   "source": [
    "get_calendar(\"nyc\").bus_date_range(dt(2024, 6, 26), dt(2024, 7, 2))"
   ]
  },
  {
   "cell_type": "markdown",
   "id": "3831942f-9876-496e-af3f-bd85898959f9",
   "metadata": {},
   "source": [
    "Normally these fixings would be populated by some automated data collection service or CSV file upload, but here they have been manually inserted."
   ]
  },
  {
   "cell_type": "code",
   "execution_count": 5,
   "id": "678fea59-91d1-498b-b7bd-238d1ba4042b",
   "metadata": {},
   "outputs": [
    {
     "data": {
      "text/plain": [
       "2024-06-26    5.34\n",
       "2024-06-27    5.34\n",
       "2024-06-28    5.33\n",
       "2024-07-01    5.40\n",
       "2024-07-02    5.35\n",
       "dtype: float64"
      ]
     },
     "execution_count": 5,
     "metadata": {},
     "output_type": "execute_result"
    }
   ],
   "source": [
    "from pandas import Series\n",
    "sofr_fixings = Series(\n",
    "    data=[5.34, 5.34, 5.33, 5.40, 5.35],\n",
    "    index=get_calendar(\"nyc\").bus_date_range(dt(2024, 6, 26), dt(2024, 7, 2))\n",
    ")\n",
    "sofr_fixings"
   ]
  },
  {
   "cell_type": "markdown",
   "id": "68709cea-ab9d-4368-af52-e2ec56742437",
   "metadata": {},
   "source": [
    "The definition of the swap is altered to **also input the fixings** and then it is repriced with the curve, correctly, without raising errors."
   ]
  },
  {
   "cell_type": "code",
   "execution_count": 6,
   "id": "6515b2eb-c713-4d74-85c2-42143d0e1094",
   "metadata": {},
   "outputs": [
    {
     "data": {
      "text/plain": [
       "np.float64(113.51930516664925)"
      ]
     },
     "execution_count": 6,
     "metadata": {},
     "output_type": "execute_result"
    }
   ],
   "source": [
    "irs = IRS(dt(2024, 6, 26), \"1m\", spec=\"usd_irs\", curves=curve, fixed_rate=5.0, leg2_fixings=sofr_fixings)\n",
    "irs.npv()"
   ]
  },
  {
   "cell_type": "markdown",
   "id": "e2a34219-5ad4-48c5-887b-cf2ad4a4b9f8",
   "metadata": {},
   "source": [
    "For further visibility on what rates are used to value the floating leg of the swap the **fixings_table** method can be used on the floating leg."
   ]
  },
  {
   "cell_type": "code",
   "execution_count": 7,
   "id": "a71c61e2-7af2-478e-b6c1-8f364b40b401",
   "metadata": {},
   "outputs": [
    {
     "data": {
      "text/html": [
       "<div>\n",
       "<style scoped>\n",
       "    .dataframe tbody tr th:only-of-type {\n",
       "        vertical-align: middle;\n",
       "    }\n",
       "\n",
       "    .dataframe tbody tr th {\n",
       "        vertical-align: top;\n",
       "    }\n",
       "\n",
       "    .dataframe thead th {\n",
       "        text-align: right;\n",
       "    }\n",
       "</style>\n",
       "<table border=\"1\" class=\"dataframe\">\n",
       "  <thead>\n",
       "    <tr style=\"text-align: right;\">\n",
       "      <th></th>\n",
       "      <th>notional</th>\n",
       "      <th>dcf</th>\n",
       "      <th>rates</th>\n",
       "    </tr>\n",
       "    <tr>\n",
       "      <th>obs_dates</th>\n",
       "      <th></th>\n",
       "      <th></th>\n",
       "      <th></th>\n",
       "    </tr>\n",
       "  </thead>\n",
       "  <tbody>\n",
       "    <tr>\n",
       "      <th>2024-06-26</th>\n",
       "      <td>0.000000e+00</td>\n",
       "      <td>0.002778</td>\n",
       "      <td>5.340000</td>\n",
       "    </tr>\n",
       "    <tr>\n",
       "      <th>2024-06-27</th>\n",
       "      <td>0.000000e+00</td>\n",
       "      <td>0.002778</td>\n",
       "      <td>5.340000</td>\n",
       "    </tr>\n",
       "    <tr>\n",
       "      <th>2024-06-28</th>\n",
       "      <td>0.000000e+00</td>\n",
       "      <td>0.008333</td>\n",
       "      <td>5.330000</td>\n",
       "    </tr>\n",
       "    <tr>\n",
       "      <th>2024-07-01</th>\n",
       "      <td>0.000000e+00</td>\n",
       "      <td>0.002778</td>\n",
       "      <td>5.400000</td>\n",
       "    </tr>\n",
       "    <tr>\n",
       "      <th>2024-07-02</th>\n",
       "      <td>0.000000e+00</td>\n",
       "      <td>0.002778</td>\n",
       "      <td>5.350000</td>\n",
       "    </tr>\n",
       "    <tr>\n",
       "      <th>2024-07-03</th>\n",
       "      <td>1.000477e+06</td>\n",
       "      <td>0.005556</td>\n",
       "      <td>5.059776</td>\n",
       "    </tr>\n",
       "    <tr>\n",
       "      <th>2024-07-05</th>\n",
       "      <td>1.000759e+06</td>\n",
       "      <td>0.008333</td>\n",
       "      <td>5.060131</td>\n",
       "    </tr>\n",
       "    <tr>\n",
       "      <th>2024-07-08</th>\n",
       "      <td>1.001181e+06</td>\n",
       "      <td>0.002778</td>\n",
       "      <td>5.059420</td>\n",
       "    </tr>\n",
       "    <tr>\n",
       "      <th>2024-07-09</th>\n",
       "      <td>1.001321e+06</td>\n",
       "      <td>0.002778</td>\n",
       "      <td>5.059420</td>\n",
       "    </tr>\n",
       "    <tr>\n",
       "      <th>2024-07-10</th>\n",
       "      <td>1.001462e+06</td>\n",
       "      <td>0.002778</td>\n",
       "      <td>5.059420</td>\n",
       "    </tr>\n",
       "    <tr>\n",
       "      <th>2024-07-11</th>\n",
       "      <td>1.001603e+06</td>\n",
       "      <td>0.002778</td>\n",
       "      <td>5.059420</td>\n",
       "    </tr>\n",
       "    <tr>\n",
       "      <th>2024-07-12</th>\n",
       "      <td>1.001743e+06</td>\n",
       "      <td>0.008333</td>\n",
       "      <td>5.060131</td>\n",
       "    </tr>\n",
       "    <tr>\n",
       "      <th>2024-07-15</th>\n",
       "      <td>1.002166e+06</td>\n",
       "      <td>0.002778</td>\n",
       "      <td>5.059420</td>\n",
       "    </tr>\n",
       "    <tr>\n",
       "      <th>2024-07-16</th>\n",
       "      <td>1.002307e+06</td>\n",
       "      <td>0.002778</td>\n",
       "      <td>5.059420</td>\n",
       "    </tr>\n",
       "    <tr>\n",
       "      <th>2024-07-17</th>\n",
       "      <td>1.002448e+06</td>\n",
       "      <td>0.002778</td>\n",
       "      <td>5.059420</td>\n",
       "    </tr>\n",
       "    <tr>\n",
       "      <th>2024-07-18</th>\n",
       "      <td>1.002588e+06</td>\n",
       "      <td>0.002778</td>\n",
       "      <td>5.059420</td>\n",
       "    </tr>\n",
       "    <tr>\n",
       "      <th>2024-07-19</th>\n",
       "      <td>1.002729e+06</td>\n",
       "      <td>0.008333</td>\n",
       "      <td>5.060131</td>\n",
       "    </tr>\n",
       "    <tr>\n",
       "      <th>2024-07-22</th>\n",
       "      <td>1.003152e+06</td>\n",
       "      <td>0.002778</td>\n",
       "      <td>5.059420</td>\n",
       "    </tr>\n",
       "    <tr>\n",
       "      <th>2024-07-23</th>\n",
       "      <td>1.003293e+06</td>\n",
       "      <td>0.002778</td>\n",
       "      <td>5.059420</td>\n",
       "    </tr>\n",
       "    <tr>\n",
       "      <th>2024-07-24</th>\n",
       "      <td>1.003434e+06</td>\n",
       "      <td>0.002778</td>\n",
       "      <td>5.059420</td>\n",
       "    </tr>\n",
       "    <tr>\n",
       "      <th>2024-07-25</th>\n",
       "      <td>1.003575e+06</td>\n",
       "      <td>0.002778</td>\n",
       "      <td>5.059420</td>\n",
       "    </tr>\n",
       "  </tbody>\n",
       "</table>\n",
       "</div>"
      ],
      "text/plain": [
       "                notional       dcf     rates\n",
       "obs_dates                                   \n",
       "2024-06-26  0.000000e+00  0.002778  5.340000\n",
       "2024-06-27  0.000000e+00  0.002778  5.340000\n",
       "2024-06-28  0.000000e+00  0.008333  5.330000\n",
       "2024-07-01  0.000000e+00  0.002778  5.400000\n",
       "2024-07-02  0.000000e+00  0.002778  5.350000\n",
       "2024-07-03  1.000477e+06  0.005556  5.059776\n",
       "2024-07-05  1.000759e+06  0.008333  5.060131\n",
       "2024-07-08  1.001181e+06  0.002778  5.059420\n",
       "2024-07-09  1.001321e+06  0.002778  5.059420\n",
       "2024-07-10  1.001462e+06  0.002778  5.059420\n",
       "2024-07-11  1.001603e+06  0.002778  5.059420\n",
       "2024-07-12  1.001743e+06  0.008333  5.060131\n",
       "2024-07-15  1.002166e+06  0.002778  5.059420\n",
       "2024-07-16  1.002307e+06  0.002778  5.059420\n",
       "2024-07-17  1.002448e+06  0.002778  5.059420\n",
       "2024-07-18  1.002588e+06  0.002778  5.059420\n",
       "2024-07-19  1.002729e+06  0.008333  5.060131\n",
       "2024-07-22  1.003152e+06  0.002778  5.059420\n",
       "2024-07-23  1.003293e+06  0.002778  5.059420\n",
       "2024-07-24  1.003434e+06  0.002778  5.059420\n",
       "2024-07-25  1.003575e+06  0.002778  5.059420"
      ]
     },
     "execution_count": 7,
     "metadata": {},
     "output_type": "execute_result"
    }
   ],
   "source": [
    "irs.leg2.fixings_table(curve)"
   ]
  },
  {
   "cell_type": "markdown",
   "id": "5db6cd5d-4079-4939-84b2-a38e71b14182",
   "metadata": {},
   "source": [
    "Alternatively the **cashflows** method gives an alternative, holistic perspective."
   ]
  },
  {
   "cell_type": "code",
   "execution_count": 8,
   "id": "3f1ae9a6-52c6-4788-99df-c7fbfb0aa9a5",
   "metadata": {},
   "outputs": [
    {
     "data": {
      "text/html": [
       "<div>\n",
       "<style scoped>\n",
       "    .dataframe tbody tr th:only-of-type {\n",
       "        vertical-align: middle;\n",
       "    }\n",
       "\n",
       "    .dataframe tbody tr th {\n",
       "        vertical-align: top;\n",
       "    }\n",
       "\n",
       "    .dataframe thead th {\n",
       "        text-align: right;\n",
       "    }\n",
       "</style>\n",
       "<table border=\"1\" class=\"dataframe\">\n",
       "  <thead>\n",
       "    <tr style=\"text-align: right;\">\n",
       "      <th></th>\n",
       "      <th></th>\n",
       "      <th>Type</th>\n",
       "      <th>Period</th>\n",
       "      <th>Ccy</th>\n",
       "      <th>Acc Start</th>\n",
       "      <th>Acc End</th>\n",
       "      <th>Payment</th>\n",
       "      <th>Convention</th>\n",
       "      <th>DCF</th>\n",
       "      <th>Notional</th>\n",
       "      <th>DF</th>\n",
       "      <th>Collateral</th>\n",
       "      <th>Rate</th>\n",
       "      <th>Spread</th>\n",
       "      <th>Cashflow</th>\n",
       "      <th>NPV</th>\n",
       "      <th>FX Rate</th>\n",
       "      <th>NPV Ccy</th>\n",
       "    </tr>\n",
       "  </thead>\n",
       "  <tbody>\n",
       "    <tr>\n",
       "      <th>leg1</th>\n",
       "      <th>0</th>\n",
       "      <td>FixedPeriod</td>\n",
       "      <td>Stub</td>\n",
       "      <td>USD</td>\n",
       "      <td>2024-06-26</td>\n",
       "      <td>2024-07-26</td>\n",
       "      <td>2024-07-30</td>\n",
       "      <td>act360</td>\n",
       "      <td>0.083333</td>\n",
       "      <td>1000000.0</td>\n",
       "      <td>0.996213</td>\n",
       "      <td>None</td>\n",
       "      <td>5.000000</td>\n",
       "      <td>NaN</td>\n",
       "      <td>-4166.666667</td>\n",
       "      <td>-4150.887045</td>\n",
       "      <td>1.0</td>\n",
       "      <td>-4150.887045</td>\n",
       "    </tr>\n",
       "    <tr>\n",
       "      <th>leg2</th>\n",
       "      <th>0</th>\n",
       "      <td>FloatPeriod</td>\n",
       "      <td>Stub</td>\n",
       "      <td>USD</td>\n",
       "      <td>2024-06-26</td>\n",
       "      <td>2024-07-26</td>\n",
       "      <td>2024-07-30</td>\n",
       "      <td>act360</td>\n",
       "      <td>0.083333</td>\n",
       "      <td>-1000000.0</td>\n",
       "      <td>0.996213</td>\n",
       "      <td>None</td>\n",
       "      <td>5.136741</td>\n",
       "      <td>0.0</td>\n",
       "      <td>4280.617516</td>\n",
       "      <td>4264.406350</td>\n",
       "      <td>1.0</td>\n",
       "      <td>4264.406350</td>\n",
       "    </tr>\n",
       "  </tbody>\n",
       "</table>\n",
       "</div>"
      ],
      "text/plain": [
       "               Type Period  Ccy  Acc Start    Acc End    Payment Convention  \\\n",
       "leg1 0  FixedPeriod   Stub  USD 2024-06-26 2024-07-26 2024-07-30     act360   \n",
       "leg2 0  FloatPeriod   Stub  USD 2024-06-26 2024-07-26 2024-07-30     act360   \n",
       "\n",
       "             DCF   Notional        DF Collateral      Rate  Spread  \\\n",
       "leg1 0  0.083333  1000000.0  0.996213       None  5.000000     NaN   \n",
       "leg2 0  0.083333 -1000000.0  0.996213       None  5.136741     0.0   \n",
       "\n",
       "           Cashflow          NPV  FX Rate      NPV Ccy  \n",
       "leg1 0 -4166.666667 -4150.887045      1.0 -4150.887045  \n",
       "leg2 0  4280.617516  4264.406350      1.0  4264.406350  "
      ]
     },
     "execution_count": 8,
     "metadata": {},
     "output_type": "execute_result"
    }
   ],
   "source": [
    "irs.cashflows()"
   ]
  },
  {
   "cell_type": "markdown",
   "id": "23a7a3d7-b54a-4d56-923c-5355c4755986",
   "metadata": {},
   "source": [
    "# Valuing Spot Swaps at Future Dates"
   ]
  },
  {
   "cell_type": "markdown",
   "id": "7b032a8e-f514-4aa0-9859-20f64aa55f91",
   "metadata": {},
   "source": [
    "The current design of *rateslib* targets accurate evaluation of instruments at today's date.\n",
    "Valuing swaps as of future dates is something that might be required in calculations such as those for XVA or scenario analysis.\n",
    "\n",
    "Currently *rateslib* does have some limited features to permit this.\n",
    "\n",
    "As an example suppose today's date is 3rd July 2024 and we construct a 1Y IRS with a monthly frequency. A more granular *Curve* is constructed in this example."
   ]
  },
  {
   "cell_type": "code",
   "execution_count": 9,
   "id": "2fddac98-6219-4fad-bb1a-4dbef0628434",
   "metadata": {},
   "outputs": [
    {
     "name": "stdout",
     "output_type": "stream",
     "text": [
      "SUCCESS: `func_tol` reached after 3 iterations (levenberg_marquardt), `f_val`: 2.4782111521459966e-12, `time`: 0.0070s\n"
     ]
    }
   ],
   "source": [
    "curve = Curve(\n",
    "    nodes={\n",
    "        dt(2024, 7, 3): 1.0,\n",
    "        dt(2024, 8, 3): 1.0,\n",
    "        dt(2024, 9, 3): 1.0,\n",
    "        dt(2024, 10, 3): 1.0,\n",
    "        dt(2024, 11, 3): 1.0,\n",
    "        dt(2024, 12, 3): 1.0,\n",
    "        dt(2025, 1, 3): 1.0,\n",
    "        dt(2025, 2, 3): 1.0,\n",
    "        dt(2025, 3, 3): 1.0,\n",
    "        dt(2025, 4, 3): 1.0,\n",
    "        dt(2025, 5, 3): 1.0,\n",
    "        dt(2025, 6, 3): 1.0,\n",
    "        dt(2025, 7, 3): 1.0,\n",
    "    },\n",
    "    calendar=\"nyc\",\n",
    ")\n",
    "solver = Solver(\n",
    "    curves=[curve],\n",
    "    instruments=[\n",
    "        IRS(dt(2024, 7, 3), _, spec=\"usd_irs\", curves=curve) for _ in\n",
    "        [\"1m\", \"2m\", \"3m\", \"4m\", \"5m\", \"6m\", \"7m\", \"8m\", \"9m\", \"10m\", \"11m\", \"1y\"]\n",
    "    ],\n",
    "    s=[5.33, 5.33, 5.315, 5.28, 5.25, 5.21, 5.17, 5.15, 5.11, 5.07, 5.04, 5.00]\n",
    ")"
   ]
  },
  {
   "cell_type": "code",
   "execution_count": 10,
   "id": "95d915f9-6cf1-4ec3-afeb-69f868bfe9fb",
   "metadata": {},
   "outputs": [
    {
     "data": {
      "text/plain": [
       "<Dual: -1065.843488, (b10c9_0, b10c9_1, b10c9_2, ...), [999706.0, -4301.1, -4596.4, ...]>"
      ]
     },
     "execution_count": 10,
     "metadata": {},
     "output_type": "execute_result"
    }
   ],
   "source": [
    "irs = IRS(dt(2024, 7, 3), \"11m\", \"M\", spec=\"usd_irs\", curves=curve, fixed_rate=5.04)\n",
    "irs.npv()"
   ]
  },
  {
   "cell_type": "markdown",
   "id": "c11f5a3a-4c06-4895-9310-00e5b2d8ae1b",
   "metadata": {},
   "source": [
    "### Today's date as the valuation evaluation date\n",
    "Today's date, as the evaluation date, is derived from the initial node date of the **discount curve**, i.e. the date at which the discount factor is necessarily set to be equal to 1.0.\n",
    "\n",
    "The initial node date can be **translated** on a *Curve* to a date in the future as follows."
   ]
  },
  {
   "cell_type": "code",
   "execution_count": 11,
   "id": "cefe6236-b486-43f9-9842-671a8dc11625",
   "metadata": {},
   "outputs": [],
   "source": [
    "translated_curve = curve.translate(dt(2024, 10, 15))"
   ]
  },
  {
   "cell_type": "markdown",
   "id": "50164c36-a87a-4b6a-8fa5-b728cb3cb77a",
   "metadata": {},
   "source": [
    "If the swap is then attempted to be priced with this translated *Curve* it will fail for the same reason as the section above - it cannot forecast rates before it starts."
   ]
  },
  {
   "cell_type": "code",
   "execution_count": 12,
   "id": "115636df-4691-40ee-b861-8c883b578141",
   "metadata": {},
   "outputs": [
    {
     "name": "stdout",
     "output_type": "stream",
     "text": [
      "RFRs could not be calculated, have you missed providing `fixings` or does the `Curve` begin after the start of a `FloatPeriod` including the `method_param` adjustment?\n",
      "For further info see: Documentation > Cookbook > Working with fixings.\n"
     ]
    }
   ],
   "source": [
    "try: \n",
    "    irs.npv(curves=translated_curve)\n",
    "except ValueError as e:\n",
    "    print(e)"
   ]
  },
  {
   "cell_type": "markdown",
   "id": "dfe8ed39-61d0-4035-95ce-46484f10cdc9",
   "metadata": {},
   "source": [
    "However, in this case the fixings are not known becuase 15th August 2024 is a future date.\n",
    "The solution is to supply a separate **forecast curve** and **discount curve**, where the forecast curve is capable of calculating the relevant rates.\n",
    "In this case the forecast curve is the very same curve that is created as of today's date.\n"
   ]
  },
  {
   "cell_type": "code",
   "execution_count": 13,
   "id": "59f5bebc-5b32-4df0-bb3c-c8b7ea1f7cc1",
   "metadata": {},
   "outputs": [
    {
     "data": {
      "text/plain": [
       "<Dual: -1830.917069, (b10c9_0, b10c9_1, b10c9_2, ...), [0.0, 0.0, 0.0, ...]>"
      ]
     },
     "execution_count": 13,
     "metadata": {},
     "output_type": "execute_result"
    }
   ],
   "source": [
    "irs.npv(curves=[curve, translated_curve])"
   ]
  },
  {
   "cell_type": "markdown",
   "id": "451bfa76-2034-4454-b354-d4815b69acb0",
   "metadata": {},
   "source": [
    "When the cashflows are analysed, one can visually inspect that any cashflow that is paid before the initial node date of the discount curve is set to zero value. The floating rates are demonstarted here showing that the floating rates have still been correctly forecast for each *FloatPeriod*."
   ]
  },
  {
   "cell_type": "code",
   "execution_count": 14,
   "id": "bbf1b9f2-1d9a-4c97-829a-2c001aa23096",
   "metadata": {},
   "outputs": [
    {
     "data": {
      "text/html": [
       "<div>\n",
       "<style scoped>\n",
       "    .dataframe tbody tr th:only-of-type {\n",
       "        vertical-align: middle;\n",
       "    }\n",
       "\n",
       "    .dataframe tbody tr th {\n",
       "        vertical-align: top;\n",
       "    }\n",
       "\n",
       "    .dataframe thead th {\n",
       "        text-align: right;\n",
       "    }\n",
       "</style>\n",
       "<table border=\"1\" class=\"dataframe\">\n",
       "  <thead>\n",
       "    <tr style=\"text-align: right;\">\n",
       "      <th></th>\n",
       "      <th></th>\n",
       "      <th>Type</th>\n",
       "      <th>Period</th>\n",
       "      <th>Ccy</th>\n",
       "      <th>Acc Start</th>\n",
       "      <th>Acc End</th>\n",
       "      <th>Payment</th>\n",
       "      <th>Convention</th>\n",
       "      <th>DCF</th>\n",
       "      <th>Notional</th>\n",
       "      <th>DF</th>\n",
       "      <th>Collateral</th>\n",
       "      <th>Rate</th>\n",
       "      <th>Spread</th>\n",
       "      <th>Cashflow</th>\n",
       "      <th>NPV</th>\n",
       "      <th>FX Rate</th>\n",
       "      <th>NPV Ccy</th>\n",
       "    </tr>\n",
       "  </thead>\n",
       "  <tbody>\n",
       "    <tr>\n",
       "      <th rowspan=\"4\" valign=\"top\">leg2</th>\n",
       "      <th>0</th>\n",
       "      <td>FloatPeriod</td>\n",
       "      <td>Regular</td>\n",
       "      <td>USD</td>\n",
       "      <td>2024-07-03</td>\n",
       "      <td>2024-08-05</td>\n",
       "      <td>2024-08-07</td>\n",
       "      <td>act360</td>\n",
       "      <td>0.091667</td>\n",
       "      <td>-1000000.0</td>\n",
       "      <td>0.000000</td>\n",
       "      <td>None</td>\n",
       "      <td>5.330000</td>\n",
       "      <td>0.0</td>\n",
       "      <td>4885.833333</td>\n",
       "      <td>0.00000</td>\n",
       "      <td>1.0</td>\n",
       "      <td>0.00000</td>\n",
       "    </tr>\n",
       "    <tr>\n",
       "      <th>1</th>\n",
       "      <td>FloatPeriod</td>\n",
       "      <td>Regular</td>\n",
       "      <td>USD</td>\n",
       "      <td>2024-08-05</td>\n",
       "      <td>2024-09-03</td>\n",
       "      <td>2024-09-05</td>\n",
       "      <td>act360</td>\n",
       "      <td>0.080556</td>\n",
       "      <td>-1000000.0</td>\n",
       "      <td>0.000000</td>\n",
       "      <td>None</td>\n",
       "      <td>5.304085</td>\n",
       "      <td>0.0</td>\n",
       "      <td>4272.735240</td>\n",
       "      <td>0.00000</td>\n",
       "      <td>1.0</td>\n",
       "      <td>0.00000</td>\n",
       "    </tr>\n",
       "    <tr>\n",
       "      <th>2</th>\n",
       "      <td>FloatPeriod</td>\n",
       "      <td>Regular</td>\n",
       "      <td>USD</td>\n",
       "      <td>2024-09-03</td>\n",
       "      <td>2024-10-03</td>\n",
       "      <td>2024-10-07</td>\n",
       "      <td>act360</td>\n",
       "      <td>0.083333</td>\n",
       "      <td>-1000000.0</td>\n",
       "      <td>0.000000</td>\n",
       "      <td>None</td>\n",
       "      <td>5.235937</td>\n",
       "      <td>0.0</td>\n",
       "      <td>4363.280847</td>\n",
       "      <td>0.00000</td>\n",
       "      <td>1.0</td>\n",
       "      <td>0.00000</td>\n",
       "    </tr>\n",
       "    <tr>\n",
       "      <th>3</th>\n",
       "      <td>FloatPeriod</td>\n",
       "      <td>Regular</td>\n",
       "      <td>USD</td>\n",
       "      <td>2024-10-03</td>\n",
       "      <td>2024-11-04</td>\n",
       "      <td>2024-11-06</td>\n",
       "      <td>act360</td>\n",
       "      <td>0.088889</td>\n",
       "      <td>-1000000.0</td>\n",
       "      <td>0.996894</td>\n",
       "      <td>None</td>\n",
       "      <td>5.109967</td>\n",
       "      <td>0.0</td>\n",
       "      <td>4542.193325</td>\n",
       "      <td>4528.08681</td>\n",
       "      <td>1.0</td>\n",
       "      <td>4528.08681</td>\n",
       "    </tr>\n",
       "  </tbody>\n",
       "</table>\n",
       "</div>"
      ],
      "text/plain": [
       "               Type   Period  Ccy  Acc Start    Acc End    Payment Convention  \\\n",
       "leg2 0  FloatPeriod  Regular  USD 2024-07-03 2024-08-05 2024-08-07     act360   \n",
       "     1  FloatPeriod  Regular  USD 2024-08-05 2024-09-03 2024-09-05     act360   \n",
       "     2  FloatPeriod  Regular  USD 2024-09-03 2024-10-03 2024-10-07     act360   \n",
       "     3  FloatPeriod  Regular  USD 2024-10-03 2024-11-04 2024-11-06     act360   \n",
       "\n",
       "             DCF   Notional        DF Collateral      Rate  Spread  \\\n",
       "leg2 0  0.091667 -1000000.0  0.000000       None  5.330000     0.0   \n",
       "     1  0.080556 -1000000.0  0.000000       None  5.304085     0.0   \n",
       "     2  0.083333 -1000000.0  0.000000       None  5.235937     0.0   \n",
       "     3  0.088889 -1000000.0  0.996894       None  5.109967     0.0   \n",
       "\n",
       "           Cashflow         NPV  FX Rate     NPV Ccy  \n",
       "leg2 0  4885.833333     0.00000      1.0     0.00000  \n",
       "     1  4272.735240     0.00000      1.0     0.00000  \n",
       "     2  4363.280847     0.00000      1.0     0.00000  \n",
       "     3  4542.193325  4528.08681      1.0  4528.08681  "
      ]
     },
     "execution_count": 14,
     "metadata": {},
     "output_type": "execute_result"
    }
   ],
   "source": [
    "irs.cashflows(curves=[curve, translated_curve])[12:16]"
   ]
  },
  {
   "cell_type": "markdown",
   "id": "95c992b3-384e-4fac-9f1a-41f08d717b5d",
   "metadata": {},
   "source": [
    "### Plotting Future Value"
   ]
  },
  {
   "cell_type": "code",
   "execution_count": 20,
   "id": "a70d7516-c035-4752-aa41-d55c983ee245",
   "metadata": {},
   "outputs": [
    {
     "data": {
      "text/plain": [
       "[<matplotlib.lines.Line2D at 0x1b163d8e810>]"
      ]
     },
     "execution_count": 20,
     "metadata": {},
     "output_type": "execute_result"
    },
    {
     "data": {
      "image/png": "[encoded data removed]",
      "text/plain": [
       "<Figure size 640x480 with 1 Axes>"
      ]
     },
     "metadata": {},
     "output_type": "display_data"
    }
   ],
   "source": [
    "import matplotlib.pyplot as plt\n",
    "fig, ax = plt.subplots(1,1)\n",
    "\n",
    "def _npv(date):\n",
    "    t_curve = curve.translate(date)\n",
    "    return irs.npv(curves=[curve, t_curve])\n",
    "    \n",
    "dates=[\n",
    "    dt(2024, 7, 4),\n",
    "    dt(2024, 8, 10),\n",
    "    dt(2024, 9, 10),\n",
    "    dt(2024, 10, 10),\n",
    "    dt(2024, 11, 10),\n",
    "    dt(2024, 12, 10),\n",
    "    dt(2025, 1, 10),\n",
    "    dt(2025, 2, 10),\n",
    "    dt(2025, 3, 10),\n",
    "    dt(2025, 4, 10),\n",
    "    dt(2025, 5, 10),\n",
    "    dt(2025, 6, 10),\n",
    "]\n",
    "\n",
    "ax.plot(dates, [_npv(_) for _ in dates])"
   ]
  },
  {
   "cell_type": "markdown",
   "source": [
    "The general structure of this plot is as described in the section on *'Cash, Collateral and Credit'* in **Pricing and Trading Interest Rate Derivatives**."
   ],
   "metadata": {
    "collapsed": false
   },
   "id": "3abe852e39428fcc"
  }
 ],
 "metadata": {
  "kernelspec": {
   "display_name": "Python 3 (ipykernel)",
   "language": "python",
   "name": "python3"
  },
  "language_info": {
   "codemirror_mode": {
    "name": "ipython",
    "version": 3
   },
   "file_extension": ".py",
   "mimetype": "text/x-python",
   "name": "python",
   "nbconvert_exporter": "python",
   "pygments_lexer": "ipython3",
   "version": "3.11.0"
  }
 },
 "nbformat": 4,
 "nbformat_minor": 5
}
