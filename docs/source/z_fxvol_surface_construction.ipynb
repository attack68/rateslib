{
 "cells": [
  {
   "cell_type": "markdown",
   "id": "0afcdf47-6e69-4905-a0f3-5270a82584f0",
   "metadata": {},
   "source": [
    "# Comparing Surface Interpolation for FX Options\n",
    "\n",
    "This notebook will give a demonstration of *rateslib* interpolating its two different FX vol surface parametrisations: the **FXDeltaVolSurface** and the **FXSabrSurface**.\n",
    "\n",
    "To reference a publication we will use Clark's *FX Option Pricing*, and establish an **FXForwards** market similar to the values he uses in his *Table 4.4* and and *Table 4.5*."
   ]
  },
  {
   "cell_type": "code",
   "execution_count": 65,
   "id": "38a2c0e1-2400-47c8-b665-4a5e2d71b15b",
   "metadata": {},
   "outputs": [
    {
     "name": "stdout",
     "output_type": "stream",
     "text": [
      "SUCCESS: `func_tol` reached after 4 iterations (levenberg_marquardt), `f_val`: 5.204923799977582e-16, `time`: 0.0030s\n"
     ]
    }
   ],
   "source": [
    "from rateslib import *\n",
    "from pandas import DataFrame\n",
    "\n",
    "eur = Curve({dt(2009, 5, 3): 1.0, dt(2011, 5, 10): 1.0})\n",
    "usd = Curve({dt(2009, 5, 3): 1.0, dt(2011, 5, 10): 1.0})\n",
    "fxf = FXForwards(\n",
    "    fx_rates=FXRates({\"eurusd\": 1.34664}, settlement=dt(2009, 5, 5)),\n",
    "    fx_curves={\"eureur\": eur, \"usdusd\": usd, \"eurusd\": eur},\n",
    ")\n",
    "fx_solver = Solver(\n",
    "    curves=[eur, usd],\n",
    "    instruments=[\n",
    "        Value(dt(2009, 5, 4), curves=eur, metric=\"cc_zero_rate\"),\n",
    "        Value(dt(2009, 5, 4), curves=usd, metric=\"cc_zero_rate\")\n",
    "    ],\n",
    "    s=[1.00, 0.4759550366220911],\n",
    "    fx=fxf,\n",
    ")"
   ]
  },
  {
   "cell_type": "markdown",
   "id": "54b29c11-75cd-4f8b-afd7-500d4bb7915b",
   "metadata": {},
   "source": [
    "## Create a DeltaVolSurface\n",
    "\n",
    "This will define and calibrate a DeltaVolSurface using the 1Y and 2Y instruments as defined in Clark's table.\n",
    "Clark has pre-computed the forward deltas of the 1Y *Options* (since the market convention is for spot delta).\n",
    "The *Options* used are -25d Put, ATM Call and 25d Call."
   ]
  },
  {
   "cell_type": "code",
   "execution_count": 66,
   "id": "cc0709b7-701b-48f6-a2b4-b0fbbced91fd",
   "metadata": {},
   "outputs": [],
   "source": [
    "fxs = FXDeltaVolSurface(\n",
    "    eval_date=dt(2009, 5, 3),\n",
    "    expiries=[dt(2010, 5, 3), dt(2011, 5, 3)],\n",
    "    delta_indexes=[0.25, 0.5, 0.75],\n",
    "    node_values=[[5, 5, 5], [5, 5, 5]],\n",
    "    delta_type=\"forward\"\n",
    ")"
   ]
  },
  {
   "cell_type": "markdown",
   "id": "4bf7bfe3-38c9-48d4-bbfe-6557c521f0a9",
   "metadata": {},
   "source": [
    "Calibrate to the stated volatilities.\n",
    "\n",
    "The values used by Clark are as follows;"
   ]
  },
  {
   "cell_type": "code",
   "execution_count": 68,
   "id": "c7be4249-bec7-4c12-ab2f-39e8f821f3db",
   "metadata": {},
   "outputs": [
    {
     "data": {
      "text/html": [
       "<div>\n",
       "<style scoped>\n",
       "    .dataframe tbody tr th:only-of-type {\n",
       "        vertical-align: middle;\n",
       "    }\n",
       "\n",
       "    .dataframe tbody tr th {\n",
       "        vertical-align: top;\n",
       "    }\n",
       "\n",
       "    .dataframe thead th {\n",
       "        text-align: right;\n",
       "    }\n",
       "</style>\n",
       "<table border=\"1\" class=\"dataframe\">\n",
       "  <thead>\n",
       "    <tr style=\"text-align: right;\">\n",
       "      <th></th>\n",
       "      <th>25d Put</th>\n",
       "      <th>ATM Put</th>\n",
       "      <th>25d Call</th>\n",
       "    </tr>\n",
       "  </thead>\n",
       "  <tbody>\n",
       "    <tr>\n",
       "      <th>(1y, k)</th>\n",
       "      <td>1.1964</td>\n",
       "      <td>1.3620</td>\n",
       "      <td>1.5501</td>\n",
       "    </tr>\n",
       "    <tr>\n",
       "      <th>(1y, vol)</th>\n",
       "      <td>19.5900</td>\n",
       "      <td>18.2500</td>\n",
       "      <td>18.9670</td>\n",
       "    </tr>\n",
       "    <tr>\n",
       "      <th>(18m, k)</th>\n",
       "      <td>1.1733</td>\n",
       "      <td>1.3689</td>\n",
       "      <td>1.5974</td>\n",
       "    </tr>\n",
       "    <tr>\n",
       "      <th>(18m, vol)</th>\n",
       "      <td>19.0680</td>\n",
       "      <td>17.8700</td>\n",
       "      <td>18.4850</td>\n",
       "    </tr>\n",
       "    <tr>\n",
       "      <th>(2y, k)</th>\n",
       "      <td>1.1538</td>\n",
       "      <td>1.3748</td>\n",
       "      <td>1.6393</td>\n",
       "    </tr>\n",
       "    <tr>\n",
       "      <th>(2y, vol)</th>\n",
       "      <td>18.8010</td>\n",
       "      <td>17.6770</td>\n",
       "      <td>18.2390</td>\n",
       "    </tr>\n",
       "  </tbody>\n",
       "</table>\n",
       "</div>"
      ],
      "text/plain": [
       "            25d Put  ATM Put  25d Call\n",
       "(1y, k)      1.1964   1.3620    1.5501\n",
       "(1y, vol)   19.5900  18.2500   18.9670\n",
       "(18m, k)     1.1733   1.3689    1.5974\n",
       "(18m, vol)  19.0680  17.8700   18.4850\n",
       "(2y, k)      1.1538   1.3748    1.6393\n",
       "(2y, vol)   18.8010  17.6770   18.2390"
      ]
     },
     "execution_count": 68,
     "metadata": {},
     "output_type": "execute_result"
    }
   ],
   "source": [
    "DataFrame(\n",
    "   data=[\n",
    "       [1.1964, 1.3620, 1.5501], [19.590, 18.250, 18.967],\n",
    "       [1.1733, 1.3689, 1.5974], [19.068, 17.870, 18.485],\n",
    "       [1.1538, 1.3748, 1.6393], [18.801, 17.677, 18.239]\n",
    "   ],\n",
    "   index=[(\"1y\", \"k\"), (\"1y\", \"vol\"), (\"18m\", \"k\"), (\"18m\", \"vol\"), (\"2y\", \"k\"), (\"2y\", \"vol\")],\n",
    "   columns=[\"25d Put\", \"ATM Put\", \"25d Call\"]\n",
    ")"
   ]
  },
  {
   "cell_type": "code",
   "execution_count": 69,
   "id": "8452940d-6c54-4b9b-99e5-6d050f47ef3e",
   "metadata": {},
   "outputs": [
    {
     "name": "stdout",
     "output_type": "stream",
     "text": [
      "SUCCESS: `func_tol` reached after 10 iterations (levenberg_marquardt), `f_val`: 5.501481514056634e-17, `time`: 0.0165s\n"
     ]
    }
   ],
   "source": [
    "op_args = dict(pair=\"eurusd\", delta_type=\"forward\", curves=[None, eur, None, usd], eval_date=dt(2009, 5, 3), vol=fxs, metric=\"vol\")\n",
    "\n",
    "vol_solver = Solver(\n",
    "    surfaces=[fxs],\n",
    "    instruments=[\n",
    "        FXPut(expiry=\"1y\", strike=\"-25d\", **op_args),\n",
    "        FXCall(expiry=\"1y\", strike=\"atm_delta\", **op_args),\n",
    "        FXCall(expiry=\"1y\", strike=\"25d\", **op_args),\n",
    "        FXPut(expiry=\"2y\", strike=\"-25d\", **op_args),\n",
    "        FXCall(expiry=\"2y\", strike=\"atm_delta\", **op_args),\n",
    "        FXCall(expiry=\"2y\", strike=\"25d\", **op_args),\n",
    "    ],\n",
    "    s=[19.59, 18.25, 18.967, 18.801, 17.677, 18.239],\n",
    "    fx=fxf,\n",
    ")\n",
    "    "
   ]
  },
  {
   "cell_type": "markdown",
   "id": "8688b9ae-69d4-4f10-9b87-43323ab3a244",
   "metadata": {},
   "source": [
    "Now we will derive the interpolated Smile and the values for the 18 month *Options*."
   ]
  },
  {
   "cell_type": "code",
   "execution_count": 70,
   "id": "b80badbe-fb13-4e1a-8945-d38dfb119a68",
   "metadata": {},
   "outputs": [
    {
     "data": {
      "text/plain": [
       "{'strike': <Dual: 1.172631, (27c6d__1_0, 27c6d__1_1, 27c6d__1_2, ...), [-0.0, -0.0, -0.0, ...]>,\n",
       " 'vol': <Dual: 19.064734, (27c6d__1_0, 27c6d__1_1, 27c6d__1_2, ...), [0.7, -0.0, 0.0, ...]>}"
      ]
     },
     "execution_count": 70,
     "metadata": {},
     "output_type": "execute_result"
    }
   ],
   "source": [
    "result = FXPut(expiry=\"18m\", strike=\"-25d\", **op_args).analytic_greeks(fx=fxf)\n",
    "{\"strike\": result[\"__strike\"], \"vol\": result[\"__vol\"]*100}"
   ]
  },
  {
   "cell_type": "code",
   "execution_count": 71,
   "id": "547263f9-2775-46e2-a357-6c385650ba8e",
   "metadata": {},
   "outputs": [
    {
     "data": {
      "text/plain": [
       "{'strike': <Dual: 1.368385, (27c6d__1_0, 27c6d__1_1, 27c6d__1_2, ...), [0.0, 0.0, -0.0, ...]>,\n",
       " 'vol': <Dual: 17.867943, (27c6d__1_0, 27c6d__1_1, 27c6d__1_2, ...), [-0.0, 0.7, -0.0, ...]>}"
      ]
     },
     "execution_count": 71,
     "metadata": {},
     "output_type": "execute_result"
    }
   ],
   "source": [
    "result = FXCall(expiry=\"18m\", strike=\"atm_delta\", **op_args).analytic_greeks(fx=fxf)\n",
    "{\"strike\": result[\"__strike\"], \"vol\": result[\"__vol\"]*100}"
   ]
  },
  {
   "cell_type": "code",
   "execution_count": 72,
   "id": "ac902805-167f-4597-a669-a049dadd6ae1",
   "metadata": {},
   "outputs": [
    {
     "data": {
      "text/plain": [
       "{'strike': <Dual: 1.597111, (27c6d__1_0, 27c6d__1_1, 27c6d__1_2, ...), [0.0, -0.0, 0.0, ...]>,\n",
       " 'vol': <Dual: 18.482183, (27c6d__1_0, 27c6d__1_1, 27c6d__1_2, ...), [-0.0, 0.0, 0.7, ...]>}"
      ]
     },
     "execution_count": 72,
     "metadata": {},
     "output_type": "execute_result"
    }
   ],
   "source": [
    "result = FXCall(expiry=\"18m\", strike=\"25d\", **op_args).analytic_greeks(fx=fxf)\n",
    "{\"strike\": result[\"__strike\"], \"vol\": result[\"__vol\"]*100}"
   ]
  },
  {
   "cell_type": "markdown",
   "id": "51f94650-ec93-497f-b0df-e51e081d1162",
   "metadata": {},
   "source": [
    "Formatted for easy display this gives the following for the **DeltaVolSMile** at 18M:"
   ]
  },
  {
   "cell_type": "code",
   "execution_count": 74,
   "id": "738bfe55-0e41-4b72-967f-395d6b91dd6d",
   "metadata": {},
   "outputs": [
    {
     "data": {
      "text/html": [
       "<div>\n",
       "<style scoped>\n",
       "    .dataframe tbody tr th:only-of-type {\n",
       "        vertical-align: middle;\n",
       "    }\n",
       "\n",
       "    .dataframe tbody tr th {\n",
       "        vertical-align: top;\n",
       "    }\n",
       "\n",
       "    .dataframe thead th {\n",
       "        text-align: right;\n",
       "    }\n",
       "</style>\n",
       "<table border=\"1\" class=\"dataframe\">\n",
       "  <thead>\n",
       "    <tr style=\"text-align: right;\">\n",
       "      <th></th>\n",
       "      <th>25d Put</th>\n",
       "      <th>ATM Put</th>\n",
       "      <th>25d Call</th>\n",
       "    </tr>\n",
       "  </thead>\n",
       "  <tbody>\n",
       "    <tr>\n",
       "      <th>(18m, k)</th>\n",
       "      <td>1.1726</td>\n",
       "      <td>1.3684</td>\n",
       "      <td>1.5971</td>\n",
       "    </tr>\n",
       "    <tr>\n",
       "      <th>(18m, vol)</th>\n",
       "      <td>19.0650</td>\n",
       "      <td>17.8680</td>\n",
       "      <td>18.4820</td>\n",
       "    </tr>\n",
       "  </tbody>\n",
       "</table>\n",
       "</div>"
      ],
      "text/plain": [
       "            25d Put  ATM Put  25d Call\n",
       "(18m, k)     1.1726   1.3684    1.5971\n",
       "(18m, vol)  19.0650  17.8680   18.4820"
      ]
     },
     "execution_count": 74,
     "metadata": {},
     "output_type": "execute_result"
    }
   ],
   "source": [
    "DataFrame(\n",
    "   data=[[1.1726, 1.3684, 1.5971], [19.065, 17.868, 18.482]],\n",
    "   index=[(\"18m\", \"k\"), (\"18m\", \"vol\")],\n",
    "   columns=[\"25d Put\", \"ATM Put\", \"25d Call\"]\n",
    ")"
   ]
  },
  {
   "cell_type": "markdown",
   "id": "49bc7edd-240e-4e1c-9ed1-d88091bdddb6",
   "metadata": {},
   "source": [
    "## Create a SabrSurface\n",
    "\n",
    "The SABRSurface behaves differently in the way it interpolates. It will interpolate in strike between neighbouring *Smiles* and not perform the intermediate step of pre-calculating a *Smile* for a given expiry."
   ]
  },
  {
   "cell_type": "code",
   "execution_count": 75,
   "id": "d0bc0efb-4b3b-4318-9861-0c2f6e6c9bfe",
   "metadata": {},
   "outputs": [],
   "source": [
    "fxs2 = FXSabrSurface(\n",
    "    eval_date=dt(2009, 5, 3),\n",
    "    expiries=[dt(2010, 5, 3), dt(2011, 5, 3)],\n",
    "    node_values=[[0.05, 1.0, 0.01, 0.01]]*2,\n",
    "    pair=\"eurusd\",\n",
    ")"
   ]
  },
  {
   "cell_type": "code",
   "execution_count": 76,
   "id": "43ed060e-c055-48cc-aa56-b9d59633b9bf",
   "metadata": {},
   "outputs": [
    {
     "name": "stdout",
     "output_type": "stream",
     "text": [
      "SUCCESS: `func_tol` reached after 10 iterations (levenberg_marquardt), `f_val`: 3.32414052757772e-16, `time`: 0.0667s\n"
     ]
    }
   ],
   "source": [
    "op_args2 = dict(pair=\"eurusd\", delta_type=\"forward\", curves=[None, eur, None, usd], eval_date=dt(2009, 5, 3), vol=fxs2, metric=\"vol\")\n",
    "vol_solver2 = Solver(\n",
    "    surfaces=[fxs2],\n",
    "    instruments=[\n",
    "        FXPut(expiry=\"1y\", strike=\"-25d\", **op_args2),\n",
    "        FXCall(expiry=\"1y\", strike=\"atm_delta\", **op_args2),\n",
    "        FXCall(expiry=\"1y\", strike=\"25d\", **op_args2),\n",
    "        FXPut(expiry=\"2y\", strike=\"-25d\", **op_args2),\n",
    "        FXCall(expiry=\"2y\", strike=\"atm_delta\", **op_args2),\n",
    "        FXCall(expiry=\"2y\", strike=\"25d\", **op_args2),\n",
    "    ],\n",
    "    s=[19.59, 18.25, 18.967, 18.801, 17.677, 18.239],\n",
    "    fx=fxf,\n",
    ")"
   ]
  },
  {
   "cell_type": "code",
   "execution_count": 77,
   "id": "d329919d-be2c-43f8-ae30-d670ad2c5d9f",
   "metadata": {},
   "outputs": [
    {
     "data": {
      "text/plain": [
       "{'strike': <Dual: 1.172217, (ef799__1_0, ef799__1_1, ef799__1_2, ...), [-0.4, 0.0, -0.0, ...]>,\n",
       " 'vol': <Dual: 19.080550, (ef799__1_0, ef799__1_1, ef799__1_2, ...), [71.1, -1.5, 3.7, ...]>}"
      ]
     },
     "execution_count": 77,
     "metadata": {},
     "output_type": "execute_result"
    }
   ],
   "source": [
    "result = FXPut(expiry=\"18m\", strike=\"-25d\", **op_args2).analytic_greeks(fx=fxf)\n",
    "{\"strike\": result[\"__strike\"], \"vol\": result[\"__vol\"]*100}"
   ]
  },
  {
   "cell_type": "code",
   "execution_count": 78,
   "id": "5b4ef8ee-6fcd-477a-afa2-d6ca47c5dc9f",
   "metadata": {},
   "outputs": [
    {
     "data": {
      "text/plain": [
       "{'strike': <Dual: 1.368526, (ef799__1_0, ef799__1_1, ef799__1_2, ...), [0.2, 0.0, 0.0, ...]>,\n",
       " 'vol': <Dual: 17.869832, (ef799__1_0, ef799__1_1, ef799__1_2, ...), [68.2, 1.2, 1.8, ...]>}"
      ]
     },
     "execution_count": 78,
     "metadata": {},
     "output_type": "execute_result"
    }
   ],
   "source": [
    "result = FXCall(expiry=\"18m\", strike=\"atm_delta\", **op_args2).analytic_greeks(fx=fxf)\n",
    "{\"strike\": result[\"__strike\"], \"vol\": result[\"__vol\"]*100}"
   ]
  },
  {
   "cell_type": "code",
   "execution_count": 79,
   "id": "1fb5c0b2-552f-43a8-88d5-117687e30a15",
   "metadata": {},
   "outputs": [
    {
     "data": {
      "text/plain": [
       "{'strike': <Dual: 1.598496, (ef799__1_0, ef799__1_1, ef799__1_2, ...), [1.2, 0.1, 0.1, ...]>,\n",
       " 'vol': <Dual: 18.511384, (ef799__1_0, ef799__1_1, ef799__1_2, ...), [71.7, 4.3, 3.6, ...]>}"
      ]
     },
     "execution_count": 79,
     "metadata": {},
     "output_type": "execute_result"
    }
   ],
   "source": [
    "result = FXCall(expiry=\"18m\", strike=\"25d\", **op_args2).analytic_greeks(fx=fxf)\n",
    "{\"strike\": result[\"__strike\"], \"vol\": result[\"__vol\"]*100}"
   ]
  },
  {
   "cell_type": "markdown",
   "id": "429cafcf-f858-4e8d-9a89-f335c18d84a7",
   "metadata": {},
   "source": [
    "Again for ease of display the values for the **SabrSmile** are as follows:"
   ]
  },
  {
   "cell_type": "code",
   "execution_count": 81,
   "id": "7e2c7721-8cad-453a-a232-93099bde061d",
   "metadata": {},
   "outputs": [
    {
     "data": {
      "text/html": [
       "<div>\n",
       "<style scoped>\n",
       "    .dataframe tbody tr th:only-of-type {\n",
       "        vertical-align: middle;\n",
       "    }\n",
       "\n",
       "    .dataframe tbody tr th {\n",
       "        vertical-align: top;\n",
       "    }\n",
       "\n",
       "    .dataframe thead th {\n",
       "        text-align: right;\n",
       "    }\n",
       "</style>\n",
       "<table border=\"1\" class=\"dataframe\">\n",
       "  <thead>\n",
       "    <tr style=\"text-align: right;\">\n",
       "      <th></th>\n",
       "      <th>25d Put</th>\n",
       "      <th>ATM Put</th>\n",
       "      <th>25d Call</th>\n",
       "    </tr>\n",
       "  </thead>\n",
       "  <tbody>\n",
       "    <tr>\n",
       "      <th>(18m, k)</th>\n",
       "      <td>1.1722</td>\n",
       "      <td>1.3685</td>\n",
       "      <td>1.5985</td>\n",
       "    </tr>\n",
       "    <tr>\n",
       "      <th>(18m, vol)</th>\n",
       "      <td>19.0800</td>\n",
       "      <td>17.8700</td>\n",
       "      <td>18.5110</td>\n",
       "    </tr>\n",
       "  </tbody>\n",
       "</table>\n",
       "</div>"
      ],
      "text/plain": [
       "            25d Put  ATM Put  25d Call\n",
       "(18m, k)     1.1722   1.3685    1.5985\n",
       "(18m, vol)  19.0800  17.8700   18.5110"
      ]
     },
     "execution_count": 81,
     "metadata": {},
     "output_type": "execute_result"
    }
   ],
   "source": [
    "DataFrame(\n",
    "   data=[[1.1722, 1.3685, 1.5985], [19.08, 17.870, 18.511]],\n",
    "   index=[(\"18m\", \"k\"), (\"18m\", \"vol\")],\n",
    "   columns=[\"25d Put\", \"ATM Put\", \"25d Call\"]\n",
    ")"
   ]
  },
  {
   "cell_type": "markdown",
   "id": "4584019f-a349-4b44-96b7-3f688117f0e2",
   "metadata": {},
   "source": [
    "## Comparing the Surfaces\n",
    "\n",
    "We can make a plot of the comparison between the volatility values on of the interpolated *DeltaVolSurface* and the *SabrSurface*.\n",
    "This requires setting up an *FXCall* at different strikes and calculating the associated volatility."
   ]
  },
  {
   "cell_type": "code",
   "execution_count": 82,
   "id": "6d7d6813-427c-4ca2-b934-455e2cecab4c",
   "metadata": {},
   "outputs": [
    {
     "data": {
      "text/plain": [
       "[<matplotlib.lines.Line2D at 0x1bf9c5dbb90>]"
      ]
     },
     "execution_count": 82,
     "metadata": {},
     "output_type": "execute_result"
    },
    {
     "data": {
      "image/png": "[encoded data removed]",
      "text/plain": [
       "<Figure size 640x480 with 1 Axes>"
      ]
     },
     "metadata": {},
     "output_type": "display_data"
    }
   ],
   "source": [
    "strikes = [1.15 + _ * 0.0025 for _ in range(200)]\n",
    "options = [FXCall(expiry=\"18m\", strike=_, **op_args) for _ in strikes]\n",
    "options2 = [FXCall(expiry=\"18m\", strike=_, **op_args2) for _ in strikes]\n",
    "\n",
    "import matplotlib.pyplot as plt\n",
    "\n",
    "fix, ax = plt.subplots(1,1)\n",
    "ax.plot(strikes, [_.rate(fx=fxf) for _ in options])\n",
    "ax.plot(strikes, [_.rate(fx=fxf) for _ in options2])"
   ]
  },
  {
   "cell_type": "code",
   "execution_count": null,
   "id": "47dd7f47-573b-41bd-b59c-45512e5dc249",
   "metadata": {},
   "outputs": [],
   "source": []
  }
 ],
 "metadata": {
  "kernelspec": {
   "display_name": "Python 3 (ipykernel)",
   "language": "python",
   "name": "python3"
  },
  "language_info": {
   "codemirror_mode": {
    "name": "ipython",
    "version": 3
   },
   "file_extension": ".py",
   "mimetype": "text/x-python",
   "name": "python",
   "nbconvert_exporter": "python",
   "pygments_lexer": "ipython3",
   "version": "3.12.0"
  }
 },
 "nbformat": 4,
 "nbformat_minor": 5
}
